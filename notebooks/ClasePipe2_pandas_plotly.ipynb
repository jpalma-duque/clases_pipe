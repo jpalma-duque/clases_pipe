{
 "cells": [
  {
   "cell_type": "code",
   "execution_count": 1,
   "id": "ce66a41f-c278-4c3d-adc0-895bc8ccdf91",
   "metadata": {},
   "outputs": [],
   "source": [
    "import pandas as pd"
   ]
  },
  {
   "cell_type": "code",
   "execution_count": 2,
   "id": "dc77c47a-93a0-4c2f-a14e-871047e1a2c5",
   "metadata": {},
   "outputs": [],
   "source": [
    "# Recordatorio"
   ]
  },
  {
   "cell_type": "code",
   "execution_count": 3,
   "id": "fa6a2ba2-5549-4e91-a1c2-ba79079848df",
   "metadata": {},
   "outputs": [],
   "source": [
    "a = [2, 3, 1]\n",
    "b = [2, 1, 1]"
   ]
  },
  {
   "cell_type": "code",
   "execution_count": 4,
   "id": "93263ca1-216b-465e-88b1-87292b45b41a",
   "metadata": {},
   "outputs": [
    {
     "data": {
      "text/plain": [
       "False"
      ]
     },
     "execution_count": 4,
     "metadata": {},
     "output_type": "execute_result"
    }
   ],
   "source": [
    "a == b"
   ]
  },
  {
   "cell_type": "code",
   "execution_count": 5,
   "id": "5866e1a3-12ab-442a-9527-9a7f15f743bd",
   "metadata": {},
   "outputs": [
    {
     "data": {
      "text/html": [
       "<div>\n",
       "<style scoped>\n",
       "    .dataframe tbody tr th:only-of-type {\n",
       "        vertical-align: middle;\n",
       "    }\n",
       "\n",
       "    .dataframe tbody tr th {\n",
       "        vertical-align: top;\n",
       "    }\n",
       "\n",
       "    .dataframe thead th {\n",
       "        text-align: right;\n",
       "    }\n",
       "</style>\n",
       "<table border=\"1\" class=\"dataframe\">\n",
       "  <thead>\n",
       "    <tr style=\"text-align: right;\">\n",
       "      <th></th>\n",
       "      <th>a</th>\n",
       "      <th>b</th>\n",
       "    </tr>\n",
       "  </thead>\n",
       "  <tbody>\n",
       "    <tr>\n",
       "      <th>0</th>\n",
       "      <td>2</td>\n",
       "      <td>2</td>\n",
       "    </tr>\n",
       "    <tr>\n",
       "      <th>1</th>\n",
       "      <td>3</td>\n",
       "      <td>1</td>\n",
       "    </tr>\n",
       "    <tr>\n",
       "      <th>2</th>\n",
       "      <td>1</td>\n",
       "      <td>1</td>\n",
       "    </tr>\n",
       "  </tbody>\n",
       "</table>\n",
       "</div>"
      ],
      "text/plain": [
       "   a  b\n",
       "0  2  2\n",
       "1  3  1\n",
       "2  1  1"
      ]
     },
     "execution_count": 5,
     "metadata": {},
     "output_type": "execute_result"
    }
   ],
   "source": [
    "_df = pd.DataFrame({'a': a, 'b': b})\n",
    "_df"
   ]
  },
  {
   "cell_type": "code",
   "execution_count": 6,
   "id": "d0c7caac-1071-4f3e-9114-b0169da509fe",
   "metadata": {},
   "outputs": [
    {
     "data": {
      "text/plain": [
       "0     True\n",
       "1    False\n",
       "2    False\n",
       "Name: a, dtype: bool"
      ]
     },
     "execution_count": 6,
     "metadata": {},
     "output_type": "execute_result"
    }
   ],
   "source": [
    "_df['a'] == 2"
   ]
  },
  {
   "cell_type": "markdown",
   "id": "76f464c6-5d7f-4122-9b2f-89b990b1e117",
   "metadata": {},
   "source": [
    "### booleanos"
   ]
  },
  {
   "cell_type": "code",
   "execution_count": 7,
   "id": "12240a6d-221a-4925-821f-1964e6428df5",
   "metadata": {},
   "outputs": [],
   "source": [
    "b1 = True\n",
    "b2 = False"
   ]
  },
  {
   "cell_type": "code",
   "execution_count": 8,
   "id": "91ec727e-ca6c-46bf-aae7-40795ecfc750",
   "metadata": {},
   "outputs": [
    {
     "data": {
      "text/plain": [
       "False"
      ]
     },
     "execution_count": 8,
     "metadata": {},
     "output_type": "execute_result"
    }
   ],
   "source": [
    "b1 & b2"
   ]
  },
  {
   "cell_type": "code",
   "execution_count": 9,
   "id": "994a7ffd-8bb8-4591-bbf9-e3561abfe603",
   "metadata": {},
   "outputs": [
    {
     "data": {
      "text/plain": [
       "True"
      ]
     },
     "execution_count": 9,
     "metadata": {},
     "output_type": "execute_result"
    }
   ],
   "source": [
    "b1 | b2"
   ]
  },
  {
   "cell_type": "code",
   "execution_count": 10,
   "id": "ad6e3e84-b2d7-41a9-8778-3f94858ecab4",
   "metadata": {},
   "outputs": [
    {
     "data": {
      "text/plain": [
       "False"
      ]
     },
     "execution_count": 10,
     "metadata": {},
     "output_type": "execute_result"
    }
   ],
   "source": [
    "not b1"
   ]
  },
  {
   "cell_type": "code",
   "execution_count": 11,
   "id": "97699641-a647-4838-99d7-6dcd38b20bdc",
   "metadata": {},
   "outputs": [
    {
     "data": {
      "text/plain": [
       "False"
      ]
     },
     "execution_count": 11,
     "metadata": {},
     "output_type": "execute_result"
    }
   ],
   "source": [
    "b2 == True"
   ]
  },
  {
   "cell_type": "code",
   "execution_count": 12,
   "id": "3918b94b-260b-432d-82b2-65add4aacbb7",
   "metadata": {},
   "outputs": [
    {
     "data": {
      "text/plain": [
       "True"
      ]
     },
     "execution_count": 12,
     "metadata": {},
     "output_type": "execute_result"
    }
   ],
   "source": [
    "not (b2 == True)"
   ]
  },
  {
   "cell_type": "markdown",
   "id": "e8880181-6020-4aa6-8d9f-6e5469e5c532",
   "metadata": {},
   "source": [
    "# Pandas"
   ]
  },
  {
   "cell_type": "markdown",
   "id": "13a4f433-e7b5-412c-bc3a-98e60cbd133d",
   "metadata": {},
   "source": [
    "estructura básica es el dataframe (pd.DataFrame)\n"
   ]
  },
  {
   "cell_type": "code",
   "execution_count": 17,
   "id": "2f5b8de0-7eac-440b-a1d6-60b353e988f9",
   "metadata": {},
   "outputs": [
    {
     "name": "stdout",
     "output_type": "stream",
     "text": [
      "Conservacion en la Patagonia chilena.pdf\n",
      "Dobson_FinalSection.pdf\n",
      "Figuras proyecto.pptx\n",
      "Jac.xlsx\n",
      "Jac1.xlsx\n",
      "Listado de especies Magallanes MMA.xlsx\n",
      "\u001b[34mMacroecologia Sistema Urbano\u001b[m\u001b[m\n",
      "Modeling benefits from nature using ecosystem services to inform coastal and marine spatial planning.pdf\n",
      "Outline métodos.docx\n",
      "\u001b[34mPapers\u001b[m\u001b[m\n",
      "PropuestaTesis.pptx\n",
      "ProyectoTesisJPD.docx\n",
      "\u001b[34mPython\u001b[m\u001b[m\n",
      "Resumen ejecutivo proyecto de tesis cc Laura.docx\n",
      "Resumen ejecutivo proyecto de tesis.docx\n",
      "Science Research Writing_ A Guide for Non-Native Speakers of English (2009, Imperial College Press). Hilary Glasman-deal.pdf\n",
      "Selecciondesp.R\n",
      "\u001b[34mSeven\u001b[m\u001b[m\n",
      "Tesis José.docx\n",
      "criterios busqueda 7.docx\n",
      "df.csv\n",
      "ecosystem-services-in-patagonia-2021.pdf\n",
      "macro.docx\n",
      "palabras claves.pptx\n",
      "~$Jac1.xlsx\n",
      "~$oyectoTesisJPD.docx\n"
     ]
    }
   ],
   "source": [
    "! ls ../.."
   ]
  },
  {
   "cell_type": "code",
   "execution_count": 54,
   "id": "c09febac-a8fa-4975-8172-b52740112968",
   "metadata": {},
   "outputs": [],
   "source": [
    "#df = pd.DataFrame()\n",
    "df = pd.read_excel('../../Listado de especies Magallanes MMA.xlsx', sheet_name='Especies finales')"
   ]
  },
  {
   "cell_type": "code",
   "execution_count": 55,
   "id": "1a64addd-8fcd-4ef4-8138-6185e3290110",
   "metadata": {},
   "outputs": [
    {
     "data": {
      "text/html": [
       "<div>\n",
       "<style scoped>\n",
       "    .dataframe tbody tr th:only-of-type {\n",
       "        vertical-align: middle;\n",
       "    }\n",
       "\n",
       "    .dataframe tbody tr th {\n",
       "        vertical-align: top;\n",
       "    }\n",
       "\n",
       "    .dataframe thead th {\n",
       "        text-align: right;\n",
       "    }\n",
       "</style>\n",
       "<table border=\"1\" class=\"dataframe\">\n",
       "  <thead>\n",
       "    <tr style=\"text-align: right;\">\n",
       "      <th></th>\n",
       "      <th>Ecosistema Magallanes</th>\n",
       "      <th>Reino</th>\n",
       "      <th>Clase</th>\n",
       "      <th>Orden</th>\n",
       "      <th>Familia</th>\n",
       "      <th>Nombre Científico</th>\n",
       "      <th>Nombre Común</th>\n",
       "      <th>Inventario Especies</th>\n",
       "      <th>GBIF</th>\n",
       "    </tr>\n",
       "  </thead>\n",
       "  <tbody>\n",
       "    <tr>\n",
       "      <th>0</th>\n",
       "      <td>Almirantazgo - Magallanes - Especies</td>\n",
       "      <td>Animalia</td>\n",
       "      <td>Aves</td>\n",
       "      <td>Procellariiformes</td>\n",
       "      <td>Diomedeidae</td>\n",
       "      <td>Thalassarche melanophris (Temminck, 1828)</td>\n",
       "      <td>Thalassarche</td>\n",
       "      <td>--</td>\n",
       "      <td>https://www.gbif.org/species/2481410</td>\n",
       "    </tr>\n",
       "    <tr>\n",
       "      <th>1</th>\n",
       "      <td>Almirantazgo - Magallanes - Especies</td>\n",
       "      <td>Animalia</td>\n",
       "      <td>Aves</td>\n",
       "      <td>Passeriformes</td>\n",
       "      <td>Furnariidae</td>\n",
       "      <td>Cinclodes oustaleti Scott, 1900</td>\n",
       "      <td>Cinclodes</td>\n",
       "      <td>--</td>\n",
       "      <td>https://www.gbif.org/species/2485054</td>\n",
       "    </tr>\n",
       "    <tr>\n",
       "      <th>2</th>\n",
       "      <td>Almirantazgo - Magallanes - Especies</td>\n",
       "      <td>Animalia</td>\n",
       "      <td>Aves</td>\n",
       "      <td>Suliformes</td>\n",
       "      <td>Phalacrocoracidae</td>\n",
       "      <td>Leucocarbo atriceps (King, 1828)</td>\n",
       "      <td>Leucocarbo</td>\n",
       "      <td>--</td>\n",
       "      <td>https://www.gbif.org/species/4848927</td>\n",
       "    </tr>\n",
       "    <tr>\n",
       "      <th>3</th>\n",
       "      <td>Almirantazgo - Magallanes - Especies</td>\n",
       "      <td>Animalia</td>\n",
       "      <td>Aves</td>\n",
       "      <td>Suliformes</td>\n",
       "      <td>Phalacrocoracidae</td>\n",
       "      <td>Leucocarbo magellanicus (Gmelin, 1789)</td>\n",
       "      <td>Leucocarbo</td>\n",
       "      <td>--</td>\n",
       "      <td>https://www.gbif.org/species/2481856</td>\n",
       "    </tr>\n",
       "    <tr>\n",
       "      <th>4</th>\n",
       "      <td>Almirantazgo - Magallanes - Especies</td>\n",
       "      <td>Animalia</td>\n",
       "      <td>Aves</td>\n",
       "      <td>Anseriformes</td>\n",
       "      <td>Anatidae</td>\n",
       "      <td>Tachyeres pteneres (J.R.Forster, 1844)</td>\n",
       "      <td>Tachyeres</td>\n",
       "      <td>--</td>\n",
       "      <td>https://www.gbif.org/species/2498234</td>\n",
       "    </tr>\n",
       "  </tbody>\n",
       "</table>\n",
       "</div>"
      ],
      "text/plain": [
       "                  Ecosistema Magallanes     Reino Clase              Orden  \\\n",
       "0  Almirantazgo - Magallanes - Especies  Animalia  Aves  Procellariiformes   \n",
       "1  Almirantazgo - Magallanes - Especies  Animalia  Aves      Passeriformes   \n",
       "2  Almirantazgo - Magallanes - Especies  Animalia  Aves         Suliformes   \n",
       "3  Almirantazgo - Magallanes - Especies  Animalia  Aves         Suliformes   \n",
       "4  Almirantazgo - Magallanes - Especies  Animalia  Aves       Anseriformes   \n",
       "\n",
       "             Familia                          Nombre Científico  Nombre Común  \\\n",
       "0        Diomedeidae  Thalassarche melanophris (Temminck, 1828)  Thalassarche   \n",
       "1        Furnariidae            Cinclodes oustaleti Scott, 1900     Cinclodes   \n",
       "2  Phalacrocoracidae           Leucocarbo atriceps (King, 1828)    Leucocarbo   \n",
       "3  Phalacrocoracidae     Leucocarbo magellanicus (Gmelin, 1789)    Leucocarbo   \n",
       "4           Anatidae     Tachyeres pteneres (J.R.Forster, 1844)     Tachyeres   \n",
       "\n",
       "  Inventario Especies                                  GBIF  \n",
       "0                  --  https://www.gbif.org/species/2481410  \n",
       "1                  --  https://www.gbif.org/species/2485054  \n",
       "2                  --  https://www.gbif.org/species/4848927  \n",
       "3                  --  https://www.gbif.org/species/2481856  \n",
       "4                  --  https://www.gbif.org/species/2498234  "
      ]
     },
     "execution_count": 55,
     "metadata": {},
     "output_type": "execute_result"
    }
   ],
   "source": [
    "df.head()"
   ]
  },
  {
   "cell_type": "markdown",
   "id": "2dfb905f-e3ce-45a4-a421-8e2abfd8df3b",
   "metadata": {},
   "source": [
    "#### Tamaño del dataframe"
   ]
  },
  {
   "cell_type": "code",
   "execution_count": 20,
   "id": "3c9c5d67-b37d-4751-a9bd-cf8ea506ca5d",
   "metadata": {},
   "outputs": [
    {
     "data": {
      "text/plain": [
       "(1973, 9)"
      ]
     },
     "execution_count": 20,
     "metadata": {},
     "output_type": "execute_result"
    }
   ],
   "source": [
    "# (filas, columnas)\n",
    "df.shape"
   ]
  },
  {
   "cell_type": "markdown",
   "id": "19dc543d-765d-4e9a-880c-1413cc4f5401",
   "metadata": {},
   "source": [
    "#### Contar valores"
   ]
  },
  {
   "cell_type": "code",
   "execution_count": 21,
   "id": "ee8a29f6-484d-4a5e-816b-a20b895407c9",
   "metadata": {},
   "outputs": [
    {
     "data": {
      "text/plain": [
       "Animalia    1973\n",
       "Name: Reino, dtype: int64"
      ]
     },
     "execution_count": 21,
     "metadata": {},
     "output_type": "execute_result"
    }
   ],
   "source": [
    "df['Reino'].value_counts()"
   ]
  },
  {
   "cell_type": "markdown",
   "id": "8596277f-3573-4d14-83f5-62b033fea4d0",
   "metadata": {},
   "source": [
    "#### Crear una columna"
   ]
  },
  {
   "cell_type": "code",
   "execution_count": 22,
   "id": "87f138ba-8a33-4ce9-bb69-9bac3a3512c0",
   "metadata": {},
   "outputs": [
    {
     "data": {
      "text/html": [
       "<div>\n",
       "<style scoped>\n",
       "    .dataframe tbody tr th:only-of-type {\n",
       "        vertical-align: middle;\n",
       "    }\n",
       "\n",
       "    .dataframe tbody tr th {\n",
       "        vertical-align: top;\n",
       "    }\n",
       "\n",
       "    .dataframe thead th {\n",
       "        text-align: right;\n",
       "    }\n",
       "</style>\n",
       "<table border=\"1\" class=\"dataframe\">\n",
       "  <thead>\n",
       "    <tr style=\"text-align: right;\">\n",
       "      <th></th>\n",
       "      <th>Ecosistema Magallanes</th>\n",
       "      <th>Reino</th>\n",
       "      <th>Clase</th>\n",
       "      <th>Orden</th>\n",
       "      <th>Familia</th>\n",
       "      <th>Nombre Científico</th>\n",
       "      <th>Nombre Común</th>\n",
       "      <th>Inventario Especies</th>\n",
       "      <th>GBIF</th>\n",
       "      <th>nueva_columna</th>\n",
       "    </tr>\n",
       "  </thead>\n",
       "  <tbody>\n",
       "    <tr>\n",
       "      <th>0</th>\n",
       "      <td>Almirantazgo - Magallanes - Especies</td>\n",
       "      <td>Animalia</td>\n",
       "      <td>Aves</td>\n",
       "      <td>Procellariiformes</td>\n",
       "      <td>Diomedeidae</td>\n",
       "      <td>Thalassarche melanophris (Temminck, 1828)</td>\n",
       "      <td>Thalassarche</td>\n",
       "      <td>--</td>\n",
       "      <td>https://www.gbif.org/species/2481410</td>\n",
       "      <td>1</td>\n",
       "    </tr>\n",
       "    <tr>\n",
       "      <th>1</th>\n",
       "      <td>Almirantazgo - Magallanes - Especies</td>\n",
       "      <td>Animalia</td>\n",
       "      <td>Aves</td>\n",
       "      <td>Falconiformes</td>\n",
       "      <td>Falconidae</td>\n",
       "      <td>Falco sparverius cinnamominus Swainson, 1838</td>\n",
       "      <td>Falco</td>\n",
       "      <td>--</td>\n",
       "      <td>https://www.gbif.org/species/9685907</td>\n",
       "      <td>1</td>\n",
       "    </tr>\n",
       "  </tbody>\n",
       "</table>\n",
       "</div>"
      ],
      "text/plain": [
       "                  Ecosistema Magallanes     Reino Clase              Orden  \\\n",
       "0  Almirantazgo - Magallanes - Especies  Animalia  Aves  Procellariiformes   \n",
       "1  Almirantazgo - Magallanes - Especies  Animalia  Aves      Falconiformes   \n",
       "\n",
       "       Familia                             Nombre Científico  Nombre Común  \\\n",
       "0  Diomedeidae     Thalassarche melanophris (Temminck, 1828)  Thalassarche   \n",
       "1   Falconidae  Falco sparverius cinnamominus Swainson, 1838         Falco   \n",
       "\n",
       "  Inventario Especies                                  GBIF  nueva_columna  \n",
       "0                  --  https://www.gbif.org/species/2481410              1  \n",
       "1                  --  https://www.gbif.org/species/9685907              1  "
      ]
     },
     "execution_count": 22,
     "metadata": {},
     "output_type": "execute_result"
    }
   ],
   "source": [
    "df['nueva_columna'] = 1 #cualquier cosa, pouede ser un número, o una lista\n",
    "\n",
    "df.head(2)"
   ]
  },
  {
   "cell_type": "code",
   "execution_count": 23,
   "id": "f5a93c91-3019-4275-b2e8-b152815b4ffa",
   "metadata": {},
   "outputs": [
    {
     "data": {
      "text/plain": [
       "range"
      ]
     },
     "execution_count": 23,
     "metadata": {},
     "output_type": "execute_result"
    }
   ],
   "source": [
    "type(range(945))"
   ]
  },
  {
   "cell_type": "code",
   "execution_count": 24,
   "id": "a97a4fe7-502d-4265-bbdf-2e36885e9743",
   "metadata": {},
   "outputs": [
    {
     "ename": "ValueError",
     "evalue": "Length of values (945) does not match length of index (1973)",
     "output_type": "error",
     "traceback": [
      "\u001b[0;31m---------------------------------------------------------------------------\u001b[0m",
      "\u001b[0;31mValueError\u001b[0m                                Traceback (most recent call last)",
      "\u001b[0;32m/var/folders/6p/swb9tk7j395cxz5qpxbl_yc00000gn/T/ipykernel_88735/820574787.py\u001b[0m in \u001b[0;36m<module>\u001b[0;34m\u001b[0m\n\u001b[0;32m----> 1\u001b[0;31m \u001b[0mdf\u001b[0m\u001b[0;34m[\u001b[0m\u001b[0;34m'segunda_columna'\u001b[0m\u001b[0;34m]\u001b[0m \u001b[0;34m=\u001b[0m \u001b[0mrange\u001b[0m\u001b[0;34m(\u001b[0m\u001b[0;36m945\u001b[0m\u001b[0;34m)\u001b[0m\u001b[0;34m\u001b[0m\u001b[0;34m\u001b[0m\u001b[0m\n\u001b[0m",
      "\u001b[0;32m~/opt/anaconda3/lib/python3.9/site-packages/pandas/core/frame.py\u001b[0m in \u001b[0;36m__setitem__\u001b[0;34m(self, key, value)\u001b[0m\n\u001b[1;32m   3653\u001b[0m         \u001b[0;32melse\u001b[0m\u001b[0;34m:\u001b[0m\u001b[0;34m\u001b[0m\u001b[0;34m\u001b[0m\u001b[0m\n\u001b[1;32m   3654\u001b[0m             \u001b[0;31m# set column\u001b[0m\u001b[0;34m\u001b[0m\u001b[0;34m\u001b[0m\u001b[0m\n\u001b[0;32m-> 3655\u001b[0;31m             \u001b[0mself\u001b[0m\u001b[0;34m.\u001b[0m\u001b[0m_set_item\u001b[0m\u001b[0;34m(\u001b[0m\u001b[0mkey\u001b[0m\u001b[0;34m,\u001b[0m \u001b[0mvalue\u001b[0m\u001b[0;34m)\u001b[0m\u001b[0;34m\u001b[0m\u001b[0;34m\u001b[0m\u001b[0m\n\u001b[0m\u001b[1;32m   3656\u001b[0m \u001b[0;34m\u001b[0m\u001b[0m\n\u001b[1;32m   3657\u001b[0m     \u001b[0;32mdef\u001b[0m \u001b[0m_setitem_slice\u001b[0m\u001b[0;34m(\u001b[0m\u001b[0mself\u001b[0m\u001b[0;34m,\u001b[0m \u001b[0mkey\u001b[0m\u001b[0;34m:\u001b[0m \u001b[0mslice\u001b[0m\u001b[0;34m,\u001b[0m \u001b[0mvalue\u001b[0m\u001b[0;34m)\u001b[0m\u001b[0;34m:\u001b[0m\u001b[0;34m\u001b[0m\u001b[0;34m\u001b[0m\u001b[0m\n",
      "\u001b[0;32m~/opt/anaconda3/lib/python3.9/site-packages/pandas/core/frame.py\u001b[0m in \u001b[0;36m_set_item\u001b[0;34m(self, key, value)\u001b[0m\n\u001b[1;32m   3830\u001b[0m         \u001b[0mensure\u001b[0m \u001b[0mhomogeneity\u001b[0m\u001b[0;34m.\u001b[0m\u001b[0;34m\u001b[0m\u001b[0;34m\u001b[0m\u001b[0m\n\u001b[1;32m   3831\u001b[0m         \"\"\"\n\u001b[0;32m-> 3832\u001b[0;31m         \u001b[0mvalue\u001b[0m \u001b[0;34m=\u001b[0m \u001b[0mself\u001b[0m\u001b[0;34m.\u001b[0m\u001b[0m_sanitize_column\u001b[0m\u001b[0;34m(\u001b[0m\u001b[0mvalue\u001b[0m\u001b[0;34m)\u001b[0m\u001b[0;34m\u001b[0m\u001b[0;34m\u001b[0m\u001b[0m\n\u001b[0m\u001b[1;32m   3833\u001b[0m \u001b[0;34m\u001b[0m\u001b[0m\n\u001b[1;32m   3834\u001b[0m         if (\n",
      "\u001b[0;32m~/opt/anaconda3/lib/python3.9/site-packages/pandas/core/frame.py\u001b[0m in \u001b[0;36m_sanitize_column\u001b[0;34m(self, value)\u001b[0m\n\u001b[1;32m   4536\u001b[0m \u001b[0;34m\u001b[0m\u001b[0m\n\u001b[1;32m   4537\u001b[0m         \u001b[0;32mif\u001b[0m \u001b[0mis_list_like\u001b[0m\u001b[0;34m(\u001b[0m\u001b[0mvalue\u001b[0m\u001b[0;34m)\u001b[0m\u001b[0;34m:\u001b[0m\u001b[0;34m\u001b[0m\u001b[0;34m\u001b[0m\u001b[0m\n\u001b[0;32m-> 4538\u001b[0;31m             \u001b[0mcom\u001b[0m\u001b[0;34m.\u001b[0m\u001b[0mrequire_length_match\u001b[0m\u001b[0;34m(\u001b[0m\u001b[0mvalue\u001b[0m\u001b[0;34m,\u001b[0m \u001b[0mself\u001b[0m\u001b[0;34m.\u001b[0m\u001b[0mindex\u001b[0m\u001b[0;34m)\u001b[0m\u001b[0;34m\u001b[0m\u001b[0;34m\u001b[0m\u001b[0m\n\u001b[0m\u001b[1;32m   4539\u001b[0m         \u001b[0;32mreturn\u001b[0m \u001b[0msanitize_array\u001b[0m\u001b[0;34m(\u001b[0m\u001b[0mvalue\u001b[0m\u001b[0;34m,\u001b[0m \u001b[0mself\u001b[0m\u001b[0;34m.\u001b[0m\u001b[0mindex\u001b[0m\u001b[0;34m,\u001b[0m \u001b[0mcopy\u001b[0m\u001b[0;34m=\u001b[0m\u001b[0;32mTrue\u001b[0m\u001b[0;34m,\u001b[0m \u001b[0mallow_2d\u001b[0m\u001b[0;34m=\u001b[0m\u001b[0;32mTrue\u001b[0m\u001b[0;34m)\u001b[0m\u001b[0;34m\u001b[0m\u001b[0;34m\u001b[0m\u001b[0m\n\u001b[1;32m   4540\u001b[0m \u001b[0;34m\u001b[0m\u001b[0m\n",
      "\u001b[0;32m~/opt/anaconda3/lib/python3.9/site-packages/pandas/core/common.py\u001b[0m in \u001b[0;36mrequire_length_match\u001b[0;34m(data, index)\u001b[0m\n\u001b[1;32m    555\u001b[0m     \"\"\"\n\u001b[1;32m    556\u001b[0m     \u001b[0;32mif\u001b[0m \u001b[0mlen\u001b[0m\u001b[0;34m(\u001b[0m\u001b[0mdata\u001b[0m\u001b[0;34m)\u001b[0m \u001b[0;34m!=\u001b[0m \u001b[0mlen\u001b[0m\u001b[0;34m(\u001b[0m\u001b[0mindex\u001b[0m\u001b[0;34m)\u001b[0m\u001b[0;34m:\u001b[0m\u001b[0;34m\u001b[0m\u001b[0;34m\u001b[0m\u001b[0m\n\u001b[0;32m--> 557\u001b[0;31m         raise ValueError(\n\u001b[0m\u001b[1;32m    558\u001b[0m             \u001b[0;34m\"Length of values \"\u001b[0m\u001b[0;34m\u001b[0m\u001b[0;34m\u001b[0m\u001b[0m\n\u001b[1;32m    559\u001b[0m             \u001b[0;34mf\"({len(data)}) \"\u001b[0m\u001b[0;34m\u001b[0m\u001b[0;34m\u001b[0m\u001b[0m\n",
      "\u001b[0;31mValueError\u001b[0m: Length of values (945) does not match length of index (1973)"
     ]
    }
   ],
   "source": [
    "df['segunda_columna'] = range(945)"
   ]
  },
  {
   "cell_type": "code",
   "execution_count": 25,
   "id": "8e5290b2-f4e5-4d8b-9a81-3336ee2579ff",
   "metadata": {},
   "outputs": [
    {
     "data": {
      "text/html": [
       "<div>\n",
       "<style scoped>\n",
       "    .dataframe tbody tr th:only-of-type {\n",
       "        vertical-align: middle;\n",
       "    }\n",
       "\n",
       "    .dataframe tbody tr th {\n",
       "        vertical-align: top;\n",
       "    }\n",
       "\n",
       "    .dataframe thead th {\n",
       "        text-align: right;\n",
       "    }\n",
       "</style>\n",
       "<table border=\"1\" class=\"dataframe\">\n",
       "  <thead>\n",
       "    <tr style=\"text-align: right;\">\n",
       "      <th></th>\n",
       "      <th>Ecosistema Magallanes</th>\n",
       "      <th>Reino</th>\n",
       "      <th>Clase</th>\n",
       "      <th>Orden</th>\n",
       "      <th>Familia</th>\n",
       "      <th>Nombre Científico</th>\n",
       "      <th>Nombre Común</th>\n",
       "      <th>Inventario Especies</th>\n",
       "      <th>GBIF</th>\n",
       "      <th>nueva_columna</th>\n",
       "    </tr>\n",
       "  </thead>\n",
       "  <tbody>\n",
       "    <tr>\n",
       "      <th>0</th>\n",
       "      <td>Almirantazgo - Magallanes - Especies</td>\n",
       "      <td>Animalia</td>\n",
       "      <td>Aves</td>\n",
       "      <td>Procellariiformes</td>\n",
       "      <td>Diomedeidae</td>\n",
       "      <td>Thalassarche melanophris (Temminck, 1828)</td>\n",
       "      <td>Thalassarche</td>\n",
       "      <td>--</td>\n",
       "      <td>https://www.gbif.org/species/2481410</td>\n",
       "      <td>1</td>\n",
       "    </tr>\n",
       "    <tr>\n",
       "      <th>1</th>\n",
       "      <td>Almirantazgo - Magallanes - Especies</td>\n",
       "      <td>Animalia</td>\n",
       "      <td>Aves</td>\n",
       "      <td>Falconiformes</td>\n",
       "      <td>Falconidae</td>\n",
       "      <td>Falco sparverius cinnamominus Swainson, 1838</td>\n",
       "      <td>Falco</td>\n",
       "      <td>--</td>\n",
       "      <td>https://www.gbif.org/species/9685907</td>\n",
       "      <td>1</td>\n",
       "    </tr>\n",
       "  </tbody>\n",
       "</table>\n",
       "</div>"
      ],
      "text/plain": [
       "                  Ecosistema Magallanes     Reino Clase              Orden  \\\n",
       "0  Almirantazgo - Magallanes - Especies  Animalia  Aves  Procellariiformes   \n",
       "1  Almirantazgo - Magallanes - Especies  Animalia  Aves      Falconiformes   \n",
       "\n",
       "       Familia                             Nombre Científico  Nombre Común  \\\n",
       "0  Diomedeidae     Thalassarche melanophris (Temminck, 1828)  Thalassarche   \n",
       "1   Falconidae  Falco sparverius cinnamominus Swainson, 1838         Falco   \n",
       "\n",
       "  Inventario Especies                                  GBIF  nueva_columna  \n",
       "0                  --  https://www.gbif.org/species/2481410              1  \n",
       "1                  --  https://www.gbif.org/species/9685907              1  "
      ]
     },
     "execution_count": 25,
     "metadata": {},
     "output_type": "execute_result"
    }
   ],
   "source": [
    "df.head(2)"
   ]
  },
  {
   "cell_type": "markdown",
   "id": "539148c9-cb36-421d-8975-bb6295749d87",
   "metadata": {},
   "source": [
    "#### apply"
   ]
  },
  {
   "cell_type": "code",
   "execution_count": 26,
   "id": "782e95f2-558f-4fac-acc4-455ce874953a",
   "metadata": {},
   "outputs": [],
   "source": [
    "def funcion_triplica(x):\n",
    "    return 3*x"
   ]
  },
  {
   "cell_type": "code",
   "execution_count": 27,
   "id": "5fd86372-2426-46a6-bcb7-a270950ad81b",
   "metadata": {},
   "outputs": [
    {
     "ename": "KeyError",
     "evalue": "'segunda_columna'",
     "output_type": "error",
     "traceback": [
      "\u001b[0;31m---------------------------------------------------------------------------\u001b[0m",
      "\u001b[0;31mKeyError\u001b[0m                                  Traceback (most recent call last)",
      "\u001b[0;32m~/opt/anaconda3/lib/python3.9/site-packages/pandas/core/indexes/base.py\u001b[0m in \u001b[0;36mget_loc\u001b[0;34m(self, key, method, tolerance)\u001b[0m\n\u001b[1;32m   3628\u001b[0m             \u001b[0;32mtry\u001b[0m\u001b[0;34m:\u001b[0m\u001b[0;34m\u001b[0m\u001b[0;34m\u001b[0m\u001b[0m\n\u001b[0;32m-> 3629\u001b[0;31m                 \u001b[0;32mreturn\u001b[0m \u001b[0mself\u001b[0m\u001b[0;34m.\u001b[0m\u001b[0m_engine\u001b[0m\u001b[0;34m.\u001b[0m\u001b[0mget_loc\u001b[0m\u001b[0;34m(\u001b[0m\u001b[0mcasted_key\u001b[0m\u001b[0;34m)\u001b[0m\u001b[0;34m\u001b[0m\u001b[0;34m\u001b[0m\u001b[0m\n\u001b[0m\u001b[1;32m   3630\u001b[0m             \u001b[0;32mexcept\u001b[0m \u001b[0mKeyError\u001b[0m \u001b[0;32mas\u001b[0m \u001b[0merr\u001b[0m\u001b[0;34m:\u001b[0m\u001b[0;34m\u001b[0m\u001b[0;34m\u001b[0m\u001b[0m\n",
      "\u001b[0;32m~/opt/anaconda3/lib/python3.9/site-packages/pandas/_libs/index.pyx\u001b[0m in \u001b[0;36mpandas._libs.index.IndexEngine.get_loc\u001b[0;34m()\u001b[0m\n",
      "\u001b[0;32m~/opt/anaconda3/lib/python3.9/site-packages/pandas/_libs/index.pyx\u001b[0m in \u001b[0;36mpandas._libs.index.IndexEngine.get_loc\u001b[0;34m()\u001b[0m\n",
      "\u001b[0;32mpandas/_libs/hashtable_class_helper.pxi\u001b[0m in \u001b[0;36mpandas._libs.hashtable.PyObjectHashTable.get_item\u001b[0;34m()\u001b[0m\n",
      "\u001b[0;32mpandas/_libs/hashtable_class_helper.pxi\u001b[0m in \u001b[0;36mpandas._libs.hashtable.PyObjectHashTable.get_item\u001b[0;34m()\u001b[0m\n",
      "\u001b[0;31mKeyError\u001b[0m: 'segunda_columna'",
      "\nThe above exception was the direct cause of the following exception:\n",
      "\u001b[0;31mKeyError\u001b[0m                                  Traceback (most recent call last)",
      "\u001b[0;32m/var/folders/6p/swb9tk7j395cxz5qpxbl_yc00000gn/T/ipykernel_88735/4291344132.py\u001b[0m in \u001b[0;36m<module>\u001b[0;34m\u001b[0m\n\u001b[0;32m----> 1\u001b[0;31m \u001b[0mdf\u001b[0m\u001b[0;34m[\u001b[0m\u001b[0;34m'columna_triple'\u001b[0m\u001b[0;34m]\u001b[0m \u001b[0;34m=\u001b[0m \u001b[0mdf\u001b[0m\u001b[0;34m[\u001b[0m\u001b[0;34m'segunda_columna'\u001b[0m\u001b[0;34m]\u001b[0m\u001b[0;34m.\u001b[0m\u001b[0mapply\u001b[0m\u001b[0;34m(\u001b[0m\u001b[0mfuncion_triplica\u001b[0m\u001b[0;34m)\u001b[0m\u001b[0;34m\u001b[0m\u001b[0;34m\u001b[0m\u001b[0m\n\u001b[0m\u001b[1;32m      2\u001b[0m \u001b[0;31m# es lo mismo que: df['segunda_columna'].apply(lambda x: 3*x)\u001b[0m\u001b[0;34m\u001b[0m\u001b[0;34m\u001b[0m\u001b[0m\n",
      "\u001b[0;32m~/opt/anaconda3/lib/python3.9/site-packages/pandas/core/frame.py\u001b[0m in \u001b[0;36m__getitem__\u001b[0;34m(self, key)\u001b[0m\n\u001b[1;32m   3503\u001b[0m             \u001b[0;32mif\u001b[0m \u001b[0mself\u001b[0m\u001b[0;34m.\u001b[0m\u001b[0mcolumns\u001b[0m\u001b[0;34m.\u001b[0m\u001b[0mnlevels\u001b[0m \u001b[0;34m>\u001b[0m \u001b[0;36m1\u001b[0m\u001b[0;34m:\u001b[0m\u001b[0;34m\u001b[0m\u001b[0;34m\u001b[0m\u001b[0m\n\u001b[1;32m   3504\u001b[0m                 \u001b[0;32mreturn\u001b[0m \u001b[0mself\u001b[0m\u001b[0;34m.\u001b[0m\u001b[0m_getitem_multilevel\u001b[0m\u001b[0;34m(\u001b[0m\u001b[0mkey\u001b[0m\u001b[0;34m)\u001b[0m\u001b[0;34m\u001b[0m\u001b[0;34m\u001b[0m\u001b[0m\n\u001b[0;32m-> 3505\u001b[0;31m             \u001b[0mindexer\u001b[0m \u001b[0;34m=\u001b[0m \u001b[0mself\u001b[0m\u001b[0;34m.\u001b[0m\u001b[0mcolumns\u001b[0m\u001b[0;34m.\u001b[0m\u001b[0mget_loc\u001b[0m\u001b[0;34m(\u001b[0m\u001b[0mkey\u001b[0m\u001b[0;34m)\u001b[0m\u001b[0;34m\u001b[0m\u001b[0;34m\u001b[0m\u001b[0m\n\u001b[0m\u001b[1;32m   3506\u001b[0m             \u001b[0;32mif\u001b[0m \u001b[0mis_integer\u001b[0m\u001b[0;34m(\u001b[0m\u001b[0mindexer\u001b[0m\u001b[0;34m)\u001b[0m\u001b[0;34m:\u001b[0m\u001b[0;34m\u001b[0m\u001b[0;34m\u001b[0m\u001b[0m\n\u001b[1;32m   3507\u001b[0m                 \u001b[0mindexer\u001b[0m \u001b[0;34m=\u001b[0m \u001b[0;34m[\u001b[0m\u001b[0mindexer\u001b[0m\u001b[0;34m]\u001b[0m\u001b[0;34m\u001b[0m\u001b[0;34m\u001b[0m\u001b[0m\n",
      "\u001b[0;32m~/opt/anaconda3/lib/python3.9/site-packages/pandas/core/indexes/base.py\u001b[0m in \u001b[0;36mget_loc\u001b[0;34m(self, key, method, tolerance)\u001b[0m\n\u001b[1;32m   3629\u001b[0m                 \u001b[0;32mreturn\u001b[0m \u001b[0mself\u001b[0m\u001b[0;34m.\u001b[0m\u001b[0m_engine\u001b[0m\u001b[0;34m.\u001b[0m\u001b[0mget_loc\u001b[0m\u001b[0;34m(\u001b[0m\u001b[0mcasted_key\u001b[0m\u001b[0;34m)\u001b[0m\u001b[0;34m\u001b[0m\u001b[0;34m\u001b[0m\u001b[0m\n\u001b[1;32m   3630\u001b[0m             \u001b[0;32mexcept\u001b[0m \u001b[0mKeyError\u001b[0m \u001b[0;32mas\u001b[0m \u001b[0merr\u001b[0m\u001b[0;34m:\u001b[0m\u001b[0;34m\u001b[0m\u001b[0;34m\u001b[0m\u001b[0m\n\u001b[0;32m-> 3631\u001b[0;31m                 \u001b[0;32mraise\u001b[0m \u001b[0mKeyError\u001b[0m\u001b[0;34m(\u001b[0m\u001b[0mkey\u001b[0m\u001b[0;34m)\u001b[0m \u001b[0;32mfrom\u001b[0m \u001b[0merr\u001b[0m\u001b[0;34m\u001b[0m\u001b[0;34m\u001b[0m\u001b[0m\n\u001b[0m\u001b[1;32m   3632\u001b[0m             \u001b[0;32mexcept\u001b[0m \u001b[0mTypeError\u001b[0m\u001b[0;34m:\u001b[0m\u001b[0;34m\u001b[0m\u001b[0;34m\u001b[0m\u001b[0m\n\u001b[1;32m   3633\u001b[0m                 \u001b[0;31m# If we have a listlike key, _check_indexing_error will raise\u001b[0m\u001b[0;34m\u001b[0m\u001b[0;34m\u001b[0m\u001b[0m\n",
      "\u001b[0;31mKeyError\u001b[0m: 'segunda_columna'"
     ]
    }
   ],
   "source": [
    "df['columna_triple'] = df['segunda_columna'].apply(funcion_triplica)\n",
    "# es lo mismo que: df['segunda_columna'].apply(lambda x: 3*x)"
   ]
  },
  {
   "cell_type": "code",
   "execution_count": 28,
   "id": "47bf5fae-3c84-44a7-9732-7195688049f4",
   "metadata": {},
   "outputs": [
    {
     "data": {
      "text/html": [
       "<div>\n",
       "<style scoped>\n",
       "    .dataframe tbody tr th:only-of-type {\n",
       "        vertical-align: middle;\n",
       "    }\n",
       "\n",
       "    .dataframe tbody tr th {\n",
       "        vertical-align: top;\n",
       "    }\n",
       "\n",
       "    .dataframe thead th {\n",
       "        text-align: right;\n",
       "    }\n",
       "</style>\n",
       "<table border=\"1\" class=\"dataframe\">\n",
       "  <thead>\n",
       "    <tr style=\"text-align: right;\">\n",
       "      <th></th>\n",
       "      <th>Ecosistema Magallanes</th>\n",
       "      <th>Reino</th>\n",
       "      <th>Clase</th>\n",
       "      <th>Orden</th>\n",
       "      <th>Familia</th>\n",
       "      <th>Nombre Científico</th>\n",
       "      <th>Nombre Común</th>\n",
       "      <th>Inventario Especies</th>\n",
       "      <th>GBIF</th>\n",
       "      <th>nueva_columna</th>\n",
       "    </tr>\n",
       "  </thead>\n",
       "  <tbody>\n",
       "    <tr>\n",
       "      <th>0</th>\n",
       "      <td>Almirantazgo - Magallanes - Especies</td>\n",
       "      <td>Animalia</td>\n",
       "      <td>Aves</td>\n",
       "      <td>Procellariiformes</td>\n",
       "      <td>Diomedeidae</td>\n",
       "      <td>Thalassarche melanophris (Temminck, 1828)</td>\n",
       "      <td>Thalassarche</td>\n",
       "      <td>--</td>\n",
       "      <td>https://www.gbif.org/species/2481410</td>\n",
       "      <td>1</td>\n",
       "    </tr>\n",
       "    <tr>\n",
       "      <th>1</th>\n",
       "      <td>Almirantazgo - Magallanes - Especies</td>\n",
       "      <td>Animalia</td>\n",
       "      <td>Aves</td>\n",
       "      <td>Falconiformes</td>\n",
       "      <td>Falconidae</td>\n",
       "      <td>Falco sparverius cinnamominus Swainson, 1838</td>\n",
       "      <td>Falco</td>\n",
       "      <td>--</td>\n",
       "      <td>https://www.gbif.org/species/9685907</td>\n",
       "      <td>1</td>\n",
       "    </tr>\n",
       "  </tbody>\n",
       "</table>\n",
       "</div>"
      ],
      "text/plain": [
       "                  Ecosistema Magallanes     Reino Clase              Orden  \\\n",
       "0  Almirantazgo - Magallanes - Especies  Animalia  Aves  Procellariiformes   \n",
       "1  Almirantazgo - Magallanes - Especies  Animalia  Aves      Falconiformes   \n",
       "\n",
       "       Familia                             Nombre Científico  Nombre Común  \\\n",
       "0  Diomedeidae     Thalassarche melanophris (Temminck, 1828)  Thalassarche   \n",
       "1   Falconidae  Falco sparverius cinnamominus Swainson, 1838         Falco   \n",
       "\n",
       "  Inventario Especies                                  GBIF  nueva_columna  \n",
       "0                  --  https://www.gbif.org/species/2481410              1  \n",
       "1                  --  https://www.gbif.org/species/9685907              1  "
      ]
     },
     "execution_count": 28,
     "metadata": {},
     "output_type": "execute_result"
    }
   ],
   "source": [
    "df.head(2)"
   ]
  },
  {
   "cell_type": "code",
   "execution_count": 29,
   "id": "d294d921-551f-4bf6-9c31-7e1fb36771f9",
   "metadata": {},
   "outputs": [],
   "source": [
    "#lambda functions\n",
    "\n",
    "def triplica1(x):\n",
    "    return 3*x\n",
    "\n",
    "triplica2 = lambda x: 3*x"
   ]
  },
  {
   "cell_type": "code",
   "execution_count": 30,
   "id": "d7ed19ed-ed97-4e88-917d-2d2bd7288d87",
   "metadata": {},
   "outputs": [
    {
     "data": {
      "text/plain": [
       "30"
      ]
     },
     "execution_count": 30,
     "metadata": {},
     "output_type": "execute_result"
    }
   ],
   "source": [
    "triplica1(10)"
   ]
  },
  {
   "cell_type": "code",
   "execution_count": 31,
   "id": "27e05622-528a-491f-a0da-d3778c3f1b76",
   "metadata": {},
   "outputs": [
    {
     "data": {
      "text/plain": [
       "30"
      ]
     },
     "execution_count": 31,
     "metadata": {},
     "output_type": "execute_result"
    }
   ],
   "source": [
    "triplica2(10)"
   ]
  },
  {
   "cell_type": "code",
   "execution_count": 32,
   "id": "4c224342-d0ac-47c1-aa24-a9ba957a5601",
   "metadata": {},
   "outputs": [],
   "source": [
    "df['Reino'] = df['Reino'].apply(lambda x: x.lower()) #sacar tildes, x.replace('á', 'a')"
   ]
  },
  {
   "cell_type": "code",
   "execution_count": 33,
   "id": "95a3bbf3-1e33-4b96-a8d6-8fed1de8aebc",
   "metadata": {},
   "outputs": [
    {
     "data": {
      "text/html": [
       "<div>\n",
       "<style scoped>\n",
       "    .dataframe tbody tr th:only-of-type {\n",
       "        vertical-align: middle;\n",
       "    }\n",
       "\n",
       "    .dataframe tbody tr th {\n",
       "        vertical-align: top;\n",
       "    }\n",
       "\n",
       "    .dataframe thead th {\n",
       "        text-align: right;\n",
       "    }\n",
       "</style>\n",
       "<table border=\"1\" class=\"dataframe\">\n",
       "  <thead>\n",
       "    <tr style=\"text-align: right;\">\n",
       "      <th></th>\n",
       "      <th>Ecosistema Magallanes</th>\n",
       "      <th>Reino</th>\n",
       "      <th>Clase</th>\n",
       "      <th>Orden</th>\n",
       "      <th>Familia</th>\n",
       "      <th>Nombre Científico</th>\n",
       "      <th>Nombre Común</th>\n",
       "      <th>Inventario Especies</th>\n",
       "      <th>GBIF</th>\n",
       "      <th>nueva_columna</th>\n",
       "    </tr>\n",
       "  </thead>\n",
       "  <tbody>\n",
       "    <tr>\n",
       "      <th>0</th>\n",
       "      <td>Almirantazgo - Magallanes - Especies</td>\n",
       "      <td>animalia</td>\n",
       "      <td>Aves</td>\n",
       "      <td>Procellariiformes</td>\n",
       "      <td>Diomedeidae</td>\n",
       "      <td>Thalassarche melanophris (Temminck, 1828)</td>\n",
       "      <td>Thalassarche</td>\n",
       "      <td>--</td>\n",
       "      <td>https://www.gbif.org/species/2481410</td>\n",
       "      <td>1</td>\n",
       "    </tr>\n",
       "    <tr>\n",
       "      <th>1</th>\n",
       "      <td>Almirantazgo - Magallanes - Especies</td>\n",
       "      <td>animalia</td>\n",
       "      <td>Aves</td>\n",
       "      <td>Falconiformes</td>\n",
       "      <td>Falconidae</td>\n",
       "      <td>Falco sparverius cinnamominus Swainson, 1838</td>\n",
       "      <td>Falco</td>\n",
       "      <td>--</td>\n",
       "      <td>https://www.gbif.org/species/9685907</td>\n",
       "      <td>1</td>\n",
       "    </tr>\n",
       "  </tbody>\n",
       "</table>\n",
       "</div>"
      ],
      "text/plain": [
       "                  Ecosistema Magallanes     Reino Clase              Orden  \\\n",
       "0  Almirantazgo - Magallanes - Especies  animalia  Aves  Procellariiformes   \n",
       "1  Almirantazgo - Magallanes - Especies  animalia  Aves      Falconiformes   \n",
       "\n",
       "       Familia                             Nombre Científico  Nombre Común  \\\n",
       "0  Diomedeidae     Thalassarche melanophris (Temminck, 1828)  Thalassarche   \n",
       "1   Falconidae  Falco sparverius cinnamominus Swainson, 1838         Falco   \n",
       "\n",
       "  Inventario Especies                                  GBIF  nueva_columna  \n",
       "0                  --  https://www.gbif.org/species/2481410              1  \n",
       "1                  --  https://www.gbif.org/species/9685907              1  "
      ]
     },
     "execution_count": 33,
     "metadata": {},
     "output_type": "execute_result"
    }
   ],
   "source": [
    "df.head(2)"
   ]
  },
  {
   "cell_type": "markdown",
   "id": "ca705e47-1f9e-4815-9825-d17511e67510",
   "metadata": {},
   "source": [
    "### Filtramos el dataframe"
   ]
  },
  {
   "cell_type": "code",
   "execution_count": 34,
   "id": "cd69f91b-4a47-458c-961b-25e6218db376",
   "metadata": {},
   "outputs": [
    {
     "data": {
      "text/plain": [
       "array(['Aves', 'Mammalia', 'Bivalvia', 'Gastropoda', 'Polyplacophora',\n",
       "       'Actinopterygii'], dtype=object)"
      ]
     },
     "execution_count": 34,
     "metadata": {},
     "output_type": "execute_result"
    }
   ],
   "source": [
    "#df['Clase']\n",
    "df.Clase.unique()"
   ]
  },
  {
   "cell_type": "code",
   "execution_count": 43,
   "id": "8f1164e2-ec42-4f4f-9b7e-701f5a8a152a",
   "metadata": {},
   "outputs": [
    {
     "data": {
      "text/plain": [
       "'podrida'"
      ]
     },
     "execution_count": 43,
     "metadata": {},
     "output_type": "execute_result"
    }
   ],
   "source": [
    "\n",
    "string = \"La/manzana/podrida\"\n",
    "\n",
    "string.split('/')[-1]"
   ]
  },
  {
   "cell_type": "code",
   "execution_count": 57,
   "id": "028d2748-615e-4a0f-b941-ff6122cc5b18",
   "metadata": {},
   "outputs": [],
   "source": [
    "df['taxonid'] = df.GBIF.apply(lambda x: x.split('/')[-1])"
   ]
  },
  {
   "cell_type": "code",
   "execution_count": 58,
   "id": "0fc0394d-4cca-4f97-ba3e-792a6582797a",
   "metadata": {},
   "outputs": [
    {
     "data": {
      "text/html": [
       "<div>\n",
       "<style scoped>\n",
       "    .dataframe tbody tr th:only-of-type {\n",
       "        vertical-align: middle;\n",
       "    }\n",
       "\n",
       "    .dataframe tbody tr th {\n",
       "        vertical-align: top;\n",
       "    }\n",
       "\n",
       "    .dataframe thead th {\n",
       "        text-align: right;\n",
       "    }\n",
       "</style>\n",
       "<table border=\"1\" class=\"dataframe\">\n",
       "  <thead>\n",
       "    <tr style=\"text-align: right;\">\n",
       "      <th></th>\n",
       "      <th>Ecosistema Magallanes</th>\n",
       "      <th>Reino</th>\n",
       "      <th>Clase</th>\n",
       "      <th>Orden</th>\n",
       "      <th>Familia</th>\n",
       "      <th>Nombre Científico</th>\n",
       "      <th>Nombre Común</th>\n",
       "      <th>Inventario Especies</th>\n",
       "      <th>GBIF</th>\n",
       "      <th>taxonid</th>\n",
       "    </tr>\n",
       "  </thead>\n",
       "  <tbody>\n",
       "    <tr>\n",
       "      <th>0</th>\n",
       "      <td>Almirantazgo - Magallanes - Especies</td>\n",
       "      <td>Animalia</td>\n",
       "      <td>Aves</td>\n",
       "      <td>Procellariiformes</td>\n",
       "      <td>Diomedeidae</td>\n",
       "      <td>Thalassarche melanophris (Temminck, 1828)</td>\n",
       "      <td>Thalassarche</td>\n",
       "      <td>--</td>\n",
       "      <td>https://www.gbif.org/species/2481410</td>\n",
       "      <td>2481410</td>\n",
       "    </tr>\n",
       "    <tr>\n",
       "      <th>1</th>\n",
       "      <td>Almirantazgo - Magallanes - Especies</td>\n",
       "      <td>Animalia</td>\n",
       "      <td>Aves</td>\n",
       "      <td>Passeriformes</td>\n",
       "      <td>Furnariidae</td>\n",
       "      <td>Cinclodes oustaleti Scott, 1900</td>\n",
       "      <td>Cinclodes</td>\n",
       "      <td>--</td>\n",
       "      <td>https://www.gbif.org/species/2485054</td>\n",
       "      <td>2485054</td>\n",
       "    </tr>\n",
       "    <tr>\n",
       "      <th>2</th>\n",
       "      <td>Almirantazgo - Magallanes - Especies</td>\n",
       "      <td>Animalia</td>\n",
       "      <td>Aves</td>\n",
       "      <td>Suliformes</td>\n",
       "      <td>Phalacrocoracidae</td>\n",
       "      <td>Leucocarbo atriceps (King, 1828)</td>\n",
       "      <td>Leucocarbo</td>\n",
       "      <td>--</td>\n",
       "      <td>https://www.gbif.org/species/4848927</td>\n",
       "      <td>4848927</td>\n",
       "    </tr>\n",
       "    <tr>\n",
       "      <th>3</th>\n",
       "      <td>Almirantazgo - Magallanes - Especies</td>\n",
       "      <td>Animalia</td>\n",
       "      <td>Aves</td>\n",
       "      <td>Suliformes</td>\n",
       "      <td>Phalacrocoracidae</td>\n",
       "      <td>Leucocarbo magellanicus (Gmelin, 1789)</td>\n",
       "      <td>Leucocarbo</td>\n",
       "      <td>--</td>\n",
       "      <td>https://www.gbif.org/species/2481856</td>\n",
       "      <td>2481856</td>\n",
       "    </tr>\n",
       "    <tr>\n",
       "      <th>4</th>\n",
       "      <td>Almirantazgo - Magallanes - Especies</td>\n",
       "      <td>Animalia</td>\n",
       "      <td>Aves</td>\n",
       "      <td>Anseriformes</td>\n",
       "      <td>Anatidae</td>\n",
       "      <td>Tachyeres pteneres (J.R.Forster, 1844)</td>\n",
       "      <td>Tachyeres</td>\n",
       "      <td>--</td>\n",
       "      <td>https://www.gbif.org/species/2498234</td>\n",
       "      <td>2498234</td>\n",
       "    </tr>\n",
       "    <tr>\n",
       "      <th>...</th>\n",
       "      <td>...</td>\n",
       "      <td>...</td>\n",
       "      <td>...</td>\n",
       "      <td>...</td>\n",
       "      <td>...</td>\n",
       "      <td>...</td>\n",
       "      <td>...</td>\n",
       "      <td>...</td>\n",
       "      <td>...</td>\n",
       "      <td>...</td>\n",
       "    </tr>\n",
       "    <tr>\n",
       "      <th>940</th>\n",
       "      <td>Whitesidel - Magallanes - Especies</td>\n",
       "      <td>Animalia</td>\n",
       "      <td>Gastropoda</td>\n",
       "      <td>Lepetellida</td>\n",
       "      <td>Fissurellidae</td>\n",
       "      <td>Fissurella oriens G.B.Sowerby I, 1834</td>\n",
       "      <td>Fissurella</td>\n",
       "      <td>--</td>\n",
       "      <td>https://www.gbif.org/species/5860021</td>\n",
       "      <td>5860021</td>\n",
       "    </tr>\n",
       "    <tr>\n",
       "      <th>941</th>\n",
       "      <td>Whitesidel - Magallanes - Especies</td>\n",
       "      <td>Animalia</td>\n",
       "      <td>Gastropoda</td>\n",
       "      <td>Littorinimorpha</td>\n",
       "      <td>Calyptraeidae</td>\n",
       "      <td>Crepipatella dilatata (Lamarck, 1822)</td>\n",
       "      <td>Crepipatella</td>\n",
       "      <td>--</td>\n",
       "      <td>https://www.gbif.org/species/4360387</td>\n",
       "      <td>4360387</td>\n",
       "    </tr>\n",
       "    <tr>\n",
       "      <th>942</th>\n",
       "      <td>Whitesidel - Magallanes - Especies</td>\n",
       "      <td>Animalia</td>\n",
       "      <td>Aves</td>\n",
       "      <td>Accipitriformes</td>\n",
       "      <td>Accipitridae</td>\n",
       "      <td>Geranoaetus polyosoma (Quoy &amp;amp; Gaimard, 1824)</td>\n",
       "      <td>Geranoaetus</td>\n",
       "      <td>--</td>\n",
       "      <td>https://www.gbif.org/species/2480552</td>\n",
       "      <td>2480552</td>\n",
       "    </tr>\n",
       "    <tr>\n",
       "      <th>943</th>\n",
       "      <td>Whitesidel - Magallanes - Especies</td>\n",
       "      <td>Animalia</td>\n",
       "      <td>Aves</td>\n",
       "      <td>Anseriformes</td>\n",
       "      <td>Anatidae</td>\n",
       "      <td>Cygnus melancoryphus (Molina, 1782)</td>\n",
       "      <td>Cygnus</td>\n",
       "      <td>--</td>\n",
       "      <td>https://www.gbif.org/species/2498335</td>\n",
       "      <td>2498335</td>\n",
       "    </tr>\n",
       "    <tr>\n",
       "      <th>944</th>\n",
       "      <td>Whitesidel - Magallanes - Especies</td>\n",
       "      <td>Animalia</td>\n",
       "      <td>Actinopterygii</td>\n",
       "      <td>Perciformes</td>\n",
       "      <td>Zoarcidae</td>\n",
       "      <td>Austrolycus depressiceps Regan, 1913</td>\n",
       "      <td>Austrolycus</td>\n",
       "      <td>--</td>\n",
       "      <td>https://www.gbif.org/species/2381177</td>\n",
       "      <td>2381177</td>\n",
       "    </tr>\n",
       "  </tbody>\n",
       "</table>\n",
       "<p>945 rows × 10 columns</p>\n",
       "</div>"
      ],
      "text/plain": [
       "                    Ecosistema Magallanes     Reino           Clase  \\\n",
       "0    Almirantazgo - Magallanes - Especies  Animalia            Aves   \n",
       "1    Almirantazgo - Magallanes - Especies  Animalia            Aves   \n",
       "2    Almirantazgo - Magallanes - Especies  Animalia            Aves   \n",
       "3    Almirantazgo - Magallanes - Especies  Animalia            Aves   \n",
       "4    Almirantazgo - Magallanes - Especies  Animalia            Aves   \n",
       "..                                    ...       ...             ...   \n",
       "940    Whitesidel - Magallanes - Especies  Animalia      Gastropoda   \n",
       "941    Whitesidel - Magallanes - Especies  Animalia      Gastropoda   \n",
       "942    Whitesidel - Magallanes - Especies  Animalia            Aves   \n",
       "943    Whitesidel - Magallanes - Especies  Animalia            Aves   \n",
       "944    Whitesidel - Magallanes - Especies  Animalia  Actinopterygii   \n",
       "\n",
       "                 Orden            Familia  \\\n",
       "0    Procellariiformes        Diomedeidae   \n",
       "1        Passeriformes        Furnariidae   \n",
       "2           Suliformes  Phalacrocoracidae   \n",
       "3           Suliformes  Phalacrocoracidae   \n",
       "4         Anseriformes           Anatidae   \n",
       "..                 ...                ...   \n",
       "940        Lepetellida      Fissurellidae   \n",
       "941    Littorinimorpha      Calyptraeidae   \n",
       "942    Accipitriformes       Accipitridae   \n",
       "943       Anseriformes           Anatidae   \n",
       "944        Perciformes          Zoarcidae   \n",
       "\n",
       "                                    Nombre Científico  Nombre Común  \\\n",
       "0           Thalassarche melanophris (Temminck, 1828)  Thalassarche   \n",
       "1                     Cinclodes oustaleti Scott, 1900     Cinclodes   \n",
       "2                    Leucocarbo atriceps (King, 1828)    Leucocarbo   \n",
       "3              Leucocarbo magellanicus (Gmelin, 1789)    Leucocarbo   \n",
       "4              Tachyeres pteneres (J.R.Forster, 1844)     Tachyeres   \n",
       "..                                                ...           ...   \n",
       "940             Fissurella oriens G.B.Sowerby I, 1834    Fissurella   \n",
       "941             Crepipatella dilatata (Lamarck, 1822)  Crepipatella   \n",
       "942  Geranoaetus polyosoma (Quoy &amp; Gaimard, 1824)   Geranoaetus   \n",
       "943               Cygnus melancoryphus (Molina, 1782)        Cygnus   \n",
       "944              Austrolycus depressiceps Regan, 1913   Austrolycus   \n",
       "\n",
       "    Inventario Especies                                  GBIF  taxonid  \n",
       "0                    --  https://www.gbif.org/species/2481410  2481410  \n",
       "1                    --  https://www.gbif.org/species/2485054  2485054  \n",
       "2                    --  https://www.gbif.org/species/4848927  4848927  \n",
       "3                    --  https://www.gbif.org/species/2481856  2481856  \n",
       "4                    --  https://www.gbif.org/species/2498234  2498234  \n",
       "..                  ...                                   ...      ...  \n",
       "940                  --  https://www.gbif.org/species/5860021  5860021  \n",
       "941                  --  https://www.gbif.org/species/4360387  4360387  \n",
       "942                  --  https://www.gbif.org/species/2480552  2480552  \n",
       "943                  --  https://www.gbif.org/species/2498335  2498335  \n",
       "944                  --  https://www.gbif.org/species/2381177  2381177  \n",
       "\n",
       "[945 rows x 10 columns]"
      ]
     },
     "execution_count": 58,
     "metadata": {},
     "output_type": "execute_result"
    }
   ],
   "source": [
    "df"
   ]
  },
  {
   "cell_type": "code",
   "execution_count": 59,
   "id": "3017283b-142a-4bac-9f3a-db6c506e5431",
   "metadata": {},
   "outputs": [
    {
     "data": {
      "text/plain": [
       "74"
      ]
     },
     "execution_count": 59,
     "metadata": {},
     "output_type": "execute_result"
    }
   ],
   "source": [
    "df['Nombre Científico'].nunique()"
   ]
  },
  {
   "cell_type": "code",
   "execution_count": 60,
   "id": "55a26e9a-9024-4696-b586-cae1c5308ea3",
   "metadata": {},
   "outputs": [
    {
     "data": {
      "text/plain": [
       "array(['2481410', '2485054', '4848927', '2481856', '2498234', '2480989',\n",
       "       '5232428', '2483725', '2481432', '2481515', '5232424', '5229231',\n",
       "       '2485058', '2481065', '2482738', '5231073', '2483790', '2485042',\n",
       "       '2481495', '5229651', '2498236', '2498294', '2485838', '2481173',\n",
       "       '2481408', '5229770', '2481770', '2482688', '5229385', '2485069',\n",
       "       '4352370', '2498065', '5232423', '2481829', '5739277', '9399113',\n",
       "       '2498110', '5229146', '2481756', '2481635', '2480318', '9685907',\n",
       "       '2498335', '6065823', '2498127', '2481660', '2498288', '5231088',\n",
       "       '2480565', '2481545', '5229343', '2481047', '5229299', '2498322',\n",
       "       '2480668', '2480599', '5229302', '5188832', '4374572', '2498138',\n",
       "       '2480287', '5232427', '2485141', '2481006', '5229170', '2481091',\n",
       "       '2480552', '2481516', '8697392', '5220072', '6515399', '5860021',\n",
       "       '4360387', '2381177'], dtype=object)"
      ]
     },
     "execution_count": 60,
     "metadata": {},
     "output_type": "execute_result"
    }
   ],
   "source": [
    "df.taxonid.unique()"
   ]
  },
  {
   "cell_type": "code",
   "execution_count": 61,
   "id": "778e3654-62a4-46d2-bc3f-7013088b2096",
   "metadata": {},
   "outputs": [],
   "source": [
    "df[['taxonid']].to_csv('taxonid_especies.csv', index=False)"
   ]
  },
  {
   "cell_type": "code",
   "execution_count": 35,
   "id": "6634a4e7-b56d-4823-b34d-9bf24382d5f7",
   "metadata": {},
   "outputs": [
    {
     "data": {
      "text/html": [
       "<div>\n",
       "<style scoped>\n",
       "    .dataframe tbody tr th:only-of-type {\n",
       "        vertical-align: middle;\n",
       "    }\n",
       "\n",
       "    .dataframe tbody tr th {\n",
       "        vertical-align: top;\n",
       "    }\n",
       "\n",
       "    .dataframe thead th {\n",
       "        text-align: right;\n",
       "    }\n",
       "</style>\n",
       "<table border=\"1\" class=\"dataframe\">\n",
       "  <thead>\n",
       "    <tr style=\"text-align: right;\">\n",
       "      <th></th>\n",
       "      <th>Ecosistema Magallanes</th>\n",
       "      <th>Reino</th>\n",
       "      <th>Clase</th>\n",
       "      <th>Orden</th>\n",
       "      <th>Familia</th>\n",
       "      <th>Nombre Científico</th>\n",
       "      <th>Nombre Común</th>\n",
       "      <th>Inventario Especies</th>\n",
       "      <th>GBIF</th>\n",
       "      <th>nueva_columna</th>\n",
       "    </tr>\n",
       "  </thead>\n",
       "  <tbody>\n",
       "    <tr>\n",
       "      <th>0</th>\n",
       "      <td>Almirantazgo - Magallanes - Especies</td>\n",
       "      <td>animalia</td>\n",
       "      <td>Aves</td>\n",
       "      <td>Procellariiformes</td>\n",
       "      <td>Diomedeidae</td>\n",
       "      <td>Thalassarche melanophris (Temminck, 1828)</td>\n",
       "      <td>Thalassarche</td>\n",
       "      <td>--</td>\n",
       "      <td>https://www.gbif.org/species/2481410</td>\n",
       "      <td>1</td>\n",
       "    </tr>\n",
       "  </tbody>\n",
       "</table>\n",
       "</div>"
      ],
      "text/plain": [
       "                  Ecosistema Magallanes     Reino Clase              Orden  \\\n",
       "0  Almirantazgo - Magallanes - Especies  animalia  Aves  Procellariiformes   \n",
       "\n",
       "       Familia                          Nombre Científico  Nombre Común  \\\n",
       "0  Diomedeidae  Thalassarche melanophris (Temminck, 1828)  Thalassarche   \n",
       "\n",
       "  Inventario Especies                                  GBIF  nueva_columna  \n",
       "0                  --  https://www.gbif.org/species/2481410              1  "
      ]
     },
     "execution_count": 35,
     "metadata": {},
     "output_type": "execute_result"
    }
   ],
   "source": [
    "# queremos quedarnos con aves\n",
    "\n",
    "#booleanos_aves = df['Clase'] == 'Aves'\n",
    "#df[booleanos_aves]\n",
    "\n",
    "df[df['Clase'] == 'Aves'].head(1)"
   ]
  },
  {
   "cell_type": "code",
   "execution_count": 36,
   "id": "9921d3bf-fd09-4ab2-a419-d3a27997b55d",
   "metadata": {},
   "outputs": [
    {
     "data": {
      "text/html": [
       "<div>\n",
       "<style scoped>\n",
       "    .dataframe tbody tr th:only-of-type {\n",
       "        vertical-align: middle;\n",
       "    }\n",
       "\n",
       "    .dataframe tbody tr th {\n",
       "        vertical-align: top;\n",
       "    }\n",
       "\n",
       "    .dataframe thead th {\n",
       "        text-align: right;\n",
       "    }\n",
       "</style>\n",
       "<table border=\"1\" class=\"dataframe\">\n",
       "  <thead>\n",
       "    <tr style=\"text-align: right;\">\n",
       "      <th></th>\n",
       "      <th>Nombre Científico</th>\n",
       "      <th>GBIF</th>\n",
       "    </tr>\n",
       "  </thead>\n",
       "  <tbody>\n",
       "    <tr>\n",
       "      <th>0</th>\n",
       "      <td>Thalassarche melanophris (Temminck, 1828)</td>\n",
       "      <td>https://www.gbif.org/species/2481410</td>\n",
       "    </tr>\n",
       "    <tr>\n",
       "      <th>1</th>\n",
       "      <td>Falco sparverius cinnamominus Swainson, 1838</td>\n",
       "      <td>https://www.gbif.org/species/9685907</td>\n",
       "    </tr>\n",
       "    <tr>\n",
       "      <th>2</th>\n",
       "      <td>Cinclodes oustaleti Scott, 1900</td>\n",
       "      <td>https://www.gbif.org/species/2485054</td>\n",
       "    </tr>\n",
       "    <tr>\n",
       "      <th>3</th>\n",
       "      <td>Leucocarbo atriceps (King, 1828)</td>\n",
       "      <td>https://www.gbif.org/species/4848927</td>\n",
       "    </tr>\n",
       "    <tr>\n",
       "      <th>4</th>\n",
       "      <td>Leucocarbo magellanicus (Gmelin, 1789)</td>\n",
       "      <td>https://www.gbif.org/species/2481856</td>\n",
       "    </tr>\n",
       "    <tr>\n",
       "      <th>...</th>\n",
       "      <td>...</td>\n",
       "      <td>...</td>\n",
       "    </tr>\n",
       "    <tr>\n",
       "      <th>1672</th>\n",
       "      <td>Phalcoboenus megalopterus (Meyen, 1834)</td>\n",
       "      <td>https://www.gbif.org/species/2481092</td>\n",
       "    </tr>\n",
       "    <tr>\n",
       "      <th>1675</th>\n",
       "      <td>Actitis macularia (Linnaeus, 1766)</td>\n",
       "      <td>https://www.gbif.org/species/2481798</td>\n",
       "    </tr>\n",
       "    <tr>\n",
       "      <th>1676</th>\n",
       "      <td>Gallinago gallinago (Linnaeus, 1758)</td>\n",
       "      <td>https://www.gbif.org/species/2481819</td>\n",
       "    </tr>\n",
       "    <tr>\n",
       "      <th>1692</th>\n",
       "      <td>Anas specularis King, 1828</td>\n",
       "      <td>https://www.gbif.org/species/2498322</td>\n",
       "    </tr>\n",
       "    <tr>\n",
       "      <th>1694</th>\n",
       "      <td>Diomedea exulans exulans</td>\n",
       "      <td>https://www.gbif.org/species/5229302</td>\n",
       "    </tr>\n",
       "  </tbody>\n",
       "</table>\n",
       "<p>233 rows × 2 columns</p>\n",
       "</div>"
      ],
      "text/plain": [
       "                                 Nombre Científico  \\\n",
       "0        Thalassarche melanophris (Temminck, 1828)   \n",
       "1     Falco sparverius cinnamominus Swainson, 1838   \n",
       "2                  Cinclodes oustaleti Scott, 1900   \n",
       "3                 Leucocarbo atriceps (King, 1828)   \n",
       "4           Leucocarbo magellanicus (Gmelin, 1789)   \n",
       "...                                            ...   \n",
       "1672       Phalcoboenus megalopterus (Meyen, 1834)   \n",
       "1675            Actitis macularia (Linnaeus, 1766)   \n",
       "1676          Gallinago gallinago (Linnaeus, 1758)   \n",
       "1692                    Anas specularis King, 1828   \n",
       "1694                      Diomedea exulans exulans   \n",
       "\n",
       "                                      GBIF  \n",
       "0     https://www.gbif.org/species/2481410  \n",
       "1     https://www.gbif.org/species/9685907  \n",
       "2     https://www.gbif.org/species/2485054  \n",
       "3     https://www.gbif.org/species/4848927  \n",
       "4     https://www.gbif.org/species/2481856  \n",
       "...                                    ...  \n",
       "1672  https://www.gbif.org/species/2481092  \n",
       "1675  https://www.gbif.org/species/2481798  \n",
       "1676  https://www.gbif.org/species/2481819  \n",
       "1692  https://www.gbif.org/species/2498322  \n",
       "1694  https://www.gbif.org/species/5229302  \n",
       "\n",
       "[233 rows x 2 columns]"
      ]
     },
     "execution_count": 36,
     "metadata": {},
     "output_type": "execute_result"
    }
   ],
   "source": [
    "df.query('Clase==\"Aves\"')[['Nombre Científico', 'GBIF']].drop_duplicates() #queremos quedarnos con los valores únicos"
   ]
  },
  {
   "cell_type": "code",
   "execution_count": 37,
   "id": "162f7ebb-6d83-4782-9250-bf0e38263125",
   "metadata": {},
   "outputs": [
    {
     "data": {
      "text/plain": [
       "(233, 2)"
      ]
     },
     "execution_count": 37,
     "metadata": {},
     "output_type": "execute_result"
    }
   ],
   "source": [
    "df.query('Clase==\"Aves\"')[['Nombre Científico', 'GBIF']].drop_duplicates().shape"
   ]
  },
  {
   "cell_type": "code",
   "execution_count": 38,
   "id": "19438705-9615-4637-af79-1dfa2110f6eb",
   "metadata": {},
   "outputs": [
    {
     "data": {
      "text/plain": [
       "array(['Thalassarche melanophris (Temminck, 1828)',\n",
       "       'Falco sparverius cinnamominus Swainson, 1838',\n",
       "       'Cinclodes oustaleti Scott, 1900',\n",
       "       'Leucocarbo atriceps (King, 1828)',\n",
       "       'Leucocarbo magellanicus (Gmelin, 1789)',\n",
       "       'Tachyeres pteneres (J.R.Forster, 1844)',\n",
       "       'Caracara plancus (J.F.Miller, 1777)',\n",
       "       'Chloephaga picta (Gmelin, 1789)',\n",
       "       'Muscisaxicola maclovianus (Garnot, 1826)',\n",
       "       'Fulmarus glacialoides (A.Smith, 1840)',\n",
       "       'Macronectes giganteus (Gmelin, 1789)',\n",
       "       'Chloephaga hybrida (Molina, 1782)',\n",
       "       'Sterna hirundinacea Lesson, 1831',\n",
       "       'Cinclodes patagonicus (Gmelin, 1789)',\n",
       "       'Milvago chimango (Vieillot, 1816)',\n",
       "       'Pyrope pyrope (Kittlitz, 1830)',\n",
       "       'Phrygilus patagonicus Lowe, 1923',\n",
       "       'Colorhamphus parvirostris (Darwin, 1839)',\n",
       "       'Aphrastura spinicauda (Gmelin, 1789)',\n",
       "       'Procellaria aequinoctialis Linnaeus, 1758',\n",
       "       'Elaenia albiceps (Orbigny &amp; Lafresnaye, 1837)',\n",
       "       'Tachyeres patachonicus (King, 1831)',\n",
       "       'Lophonetta specularioides (King, 1828)',\n",
       "       'Pygarrhichas albogularis (King, 1831)',\n",
       "       'Larus dominicanus Lichtenstein, 1823',\n",
       "       'Thalassarche chrysostoma (J.R.Forster, 1785)',\n",
       "       'Lessonia rufa (Gmelin, 1789)', 'Calidris bairdii (Coues, 1861)',\n",
       "       'Anairetes parulus (Kittlitz, 1830)',\n",
       "       'Spheniscus magellanicus (J.R.Forster, 1781)',\n",
       "       'Cinclodes fuscus (Vieillot, 1818)',\n",
       "       'Leucophaeus scoresbii (Traill, 1823)',\n",
       "       'Anas flavirostris Vieillot, 1816',\n",
       "       'Chloephaga poliocephala P.L.Sclater, 1857',\n",
       "       'Gallinago magellanica (King, 1828)',\n",
       "       'Ardenna grisea (Gmelin, 1789)',\n",
       "       'Nannopterum brasilianus (Gmelin, 1789)',\n",
       "       'Procellaria westlandica Falla, 1946',\n",
       "       'Mareca sibilatrix (Poeppig, 1829)',\n",
       "       'Vanellus chilensis (Molina, 1782)',\n",
       "       'Calidris fuscicollis (Vieillot, 1819)',\n",
       "       'Eudyptes chrysocome (J.R.Forster, 1781)',\n",
       "       'Charadrius modestus Lichtenstein, 1823',\n",
       "       'Leucocarbo atriceps albiventer (R.Lesson, 1831)',\n",
       "       'Falco sparverius Linnaeus, 1758',\n",
       "       'Cygnus melancoryphus (Molina, 1782)',\n",
       "       'Phalcoboenus albogularis (Gould, 1837)',\n",
       "       'Chroicocephalus maculipennis (Lichtenstein, 1823)',\n",
       "       'Anas georgica Gmelin, 1789',\n",
       "       'Aptenodytes patagonicus J.F.Miller, 1778',\n",
       "       'Coscoroba coscoroba (Molina, 1782)',\n",
       "       'Phrygilus gayi (Gervais, 1834)', 'Buteo ventralis Gould, 1837',\n",
       "       'Daption capense (Linnaeus, 1758)',\n",
       "       'Melanodera xanthogramma (Gould &amp; G.R.Gray, 1839)',\n",
       "       \"Ardenna gravis (O'Reilly, 1818)\",\n",
       "       'Falco peregrinus Tunstall, 1771',\n",
       "       'Diomedea epomophora Lesson, 1825',\n",
       "       'Speculanas specularis (King, 1828)',\n",
       "       'Geranoaetus melanoleucus (Vieillot, 1819)',\n",
       "       'Gallinago stricklandii (G.R.Gray, 1845)',\n",
       "       'Phalacrocorax magellanicus (Gmelin, 1789)',\n",
       "       'Phalacrocorax atriceps King, 1828',\n",
       "       'Phalacrocorax brasilianus (Gmelin, 1789)',\n",
       "       'Thalassarche melanophrys (Temminck, 1828)',\n",
       "       'Phoebetria palpebrata (J.R.Forster, 1785)',\n",
       "       'Accipiter bicolor (Vieillot, 1817)',\n",
       "       'Diomedea exulans Linnaeus, 1758',\n",
       "       'Geositta antarctica Landbeck, 1880',\n",
       "       'Oreopholus ruficollis (Wagler, 1829)',\n",
       "       'Spatula platalea (Vieillot, 1816)',\n",
       "       'Geositta cunicularia (Vieillot, 1816)',\n",
       "       'Charadrius falklandicus Latham, 1790',\n",
       "       'Sicalis lebruni (Oustalet, 1891)',\n",
       "       'Upucerthia dumetaria I.Geoffroy Saint-Hilaire, 1832',\n",
       "       'Chloephaga rubidiceps P.L.Sclater, 1861',\n",
       "       'Phalaropus tricolor (Vieillot, 1819)',\n",
       "       'Tringa flavipes (Gmelin, 1789)',\n",
       "       'Leptasthenura aegithaloides (Kittlitz, 1830)',\n",
       "       'Asthenes anthoides (King, 1831)',\n",
       "       'Falco femoralis Temminck, 1822', 'Circus cinereus Vieillot, 1816',\n",
       "       'Calidris alba (Pallas, 1764)', 'Xema sabini (Sabine, 1819)',\n",
       "       'Phalcoboenus australis (Gmelin, 1788)',\n",
       "       'Muscisaxicola capistratus (Burmeister, 1860)',\n",
       "       'Geranoaetus polyosoma (Quoy &amp; Gaimard, 1824)',\n",
       "       'Oxyura ferruginea (Eyton, 1838)',\n",
       "       'Spatula cyanoptera (Vieillot, 1816)',\n",
       "       'Macronectes halli Mathews, 1912',\n",
       "       'Netta peposaca (Vieillot, 1816)',\n",
       "       'Anas bahamensis Linnaeus, 1758',\n",
       "       'Pterodroma mollis (Gould, 1844)',\n",
       "       'Spatula versicolor (Vieillot, 1816)',\n",
       "       'Neoxolmis rufiventris (Vieillot, 1823)',\n",
       "       'Muscisaxicola flavinucha Lafresnaye, 1855',\n",
       "       'Melanodera melanodera (Quoy &amp; Gaimard, 1824)',\n",
       "       'Puffinus puffinus (Brunnich, 1764)',\n",
       "       'Larus maculipennis Lichtenstein, 1823',\n",
       "       'Numenius phaeopus (Linnaeus, 1758)', 'Chloephaga hybrida hybrida',\n",
       "       'Pyrope pyrope pyrope', 'Aphrastura spinicauda spinicauda',\n",
       "       'Elaenia albiceps chilensis Hellmayr, 1927',\n",
       "       'Anairetes parulus parulus', 'Vanellus chilensis chilensis',\n",
       "       'Xolmis pyrope (Kittlitz, 1830)',\n",
       "       'Pygoscelis papua (J.R.Forster, 1781)',\n",
       "       'Accipiter bicolor chilensis',\n",
       "       'Cinclodes antarcticus (Garnot, 1826)',\n",
       "       'Geranoaetus melanoleucus australis Swann, 1922',\n",
       "       'Vanellus chilensis fretensis (Brodkorb, 1934)',\n",
       "       'Cinclodes patagonicus patagonicus',\n",
       "       'Larus dominicanus dominicanus',\n",
       "       'Eudyptes chrysolophus (Brandt, 1837)',\n",
       "       'Pygoscelis antarcticus (J.R.Forster, 1781)',\n",
       "       'Anas georgica spinicauda Vieillot, 1816',\n",
       "       'Leucophaeus pipixcan (Wagler, 1831)',\n",
       "       'Tringa melanoleuca (Gmelin, 1789)',\n",
       "       'Pachyptila belcheri (Mathews, 1912)', 'Anser anser f. domesticus',\n",
       "       'Phalcoboenus chimango (Vieillot, 1816)',\n",
       "       'Larus scoresbii Traill, 1823',\n",
       "       'Halobaena caerulea (Gmelin, 1789)',\n",
       "       'Limosa haemastica (Linnaeus, 1758)',\n",
       "       'Elaenia chilensis Hellmayr, 1927',\n",
       "       'Puffinus griseus (Gmelin, 1789)', 'Chloephaga picta picta',\n",
       "       'Leucocarbo atriceps atriceps',\n",
       "       'Nannopterum brasilianum brasilianum',\n",
       "       'Merganetta armata Gould, 1842', 'Anser anser (Linnaeus, 1758)',\n",
       "       'Pygoscelis papua papua', 'Tyrannus savana Vieillot, 1808',\n",
       "       'Lophonetta specularioides specularioides',\n",
       "       'Milvago chimango temucoensis W.L.Sclater, 1918',\n",
       "       'Phrygilus gayi caniceps Burmeister, 1860',\n",
       "       'Accipiter chilensis Philippi &amp; Landbeck, 1864',\n",
       "       'Anas flavirostris flavirostris',\n",
       "       'Melanodera xanthogramma xanthogramma',\n",
       "       'Muscisaxicola maclovianus mentalis Orbigny &amp; Lafresnaye, 1837',\n",
       "       'Sterna paradisaea Pontoppidan, 1763',\n",
       "       'Phalaropus fulicarius (Linnaeus, 1758)',\n",
       "       \"Geospizopsis unicolor (Lafresnaye &amp; D'Orbigny, 1837)\",\n",
       "       'Calidris virgata Gmelin, 1789',\n",
       "       'Rhopospina fruticeti (Kittlitz, 1833)',\n",
       "       'Gallinago paraguaiae (Vieillot, 1816)',\n",
       "       'Pachyptila desolata (Gmelin, 1789)',\n",
       "       'Arenaria interpres (Linnaeus, 1758)',\n",
       "       'Pluvialis dominica (Statius Muller, 1776)',\n",
       "       'Geranoaetus melanoleucus melanoleucus',\n",
       "       'Cinclodes patagonicus chilensis (Lesson, 1828)',\n",
       "       'Cinclodes oustaleti hornensis Dabbene, 1917',\n",
       "       'Ochthoeca parvirostris Stotz et al., 1996',\n",
       "       \"Sicalis olivascens (d'Orbigny &amp; Lafresnaye, 1837)\",\n",
       "       'Thalassoica antarctica (Gmelin, 1789)',\n",
       "       'Chloephaga picta leucoptera (Gmelin, 1789)',\n",
       "       'Polyborus plancus plancus', 'Milvago chimango chimango',\n",
       "       'Phalacrocorax olivaceus (Humboldt, 1805)',\n",
       "       'Calidris canutus (Linnaeus, 1758)',\n",
       "       'Calidris melanotos (Vieillot, 1819)',\n",
       "       'Tyrannus tyrannus (Linnaeus, 1758)',\n",
       "       'Muscisaxicola albilora Lafresnaye, 1855',\n",
       "       'Ochetorhynchus phoenicurus (Gould, 1839)',\n",
       "       'Diuca diuca (Molina, 1782)',\n",
       "       'Falco peregrinus cassini Sharpe, 1873',\n",
       "       'Spatula clypeata (Linnaeus, 1758)',\n",
       "       'Oxyura vittata (Philippi, 1860)',\n",
       "       'Calidris himantopus (Bonaparte, 1826)',\n",
       "       'Eudyptes chrysocome chrysocome',\n",
       "       'Ardenna creatopus (Coues, 1864)',\n",
       "       'Heteronetta atricapilla (Merrem, 1841)',\n",
       "       'Pterodroma longirostris (Stejneger, 1893)',\n",
       "       'Rynchops niger Linnaeus, 1758',\n",
       "       'Phoebetria fusca (Hilsenberg, 1822)',\n",
       "       'Tachuris rubrigastra (Vieillot, 1817)',\n",
       "       'Geositta rufipennis (Burmeister, 1860)',\n",
       "       'Sterna vittata Gmelin, 1789',\n",
       "       'Sicalis auriventris Philippi &amp; Landbeck, 1864',\n",
       "       'Agriornis micropterus Gould, 1839',\n",
       "       'Asthenes pyrrholeuca (Vieillot, 1817)',\n",
       "       'Muscisaxicola maculirostris Orbigny &amp; Lafresnaye, 1837',\n",
       "       'Asthenes modesta (Eyton, 1851)',\n",
       "       'Oreopholus ruficollis ruficollis',\n",
       "       'Phleocryptes melanops (Vieillot, 1817)',\n",
       "       'Aptenodytes forsteri G.R.Gray, 1844',\n",
       "       'Agriornis montanus (Orbigny &amp; Lafresnaye, 1837)',\n",
       "       'Tyrannus melancholicus Vieillot, 1819',\n",
       "       'Gallinago paraguaiae magellanica (King, 1828)',\n",
       "       'Sterna hirundo Linnaeus, 1758', 'BOLD:AAC6828',\n",
       "       'Poikilocarbo gaimardi (Lesson &amp; Garnot, 1828)',\n",
       "       'BOLD:AAE5015', 'BOLD:AAB4705', 'BOLD:AAD7581',\n",
       "       'Diomedea melanophris Temminck, 1828',\n",
       "       'Phalacrocorax albiventer (Lesson, 1831)',\n",
       "       'Leucocarbo albiventer (Lesson, 1831)',\n",
       "       'Phalacrocorax brasilianus brasilianus',\n",
       "       'Upucerthia dumetaria dumetaria', 'Rhopospina fruticeti fruticeti',\n",
       "       'Muscisaxicola maculirostris maculirostris',\n",
       "       'Geositta cunicularia cunicularia',\n",
       "       'Leptasthenura aegithaloides pallida Dabbene, 1920',\n",
       "       'Phrygilus alaudinus (Kittlitz, 1833)',\n",
       "       'Sicalis luteola (Sparrman, 1789)',\n",
       "       'Thalassarche salvini (Rothschild, 1893)',\n",
       "       'Thalassarche cauta (Gould, 1841)',\n",
       "       'Thalassarche eremita Murphy, 1930',\n",
       "       'Phalaropus lobatus (Linnaeus, 1758)',\n",
       "       'Anas sibilatrix Poeppig, 1829', 'Cinclodes fuscus fuscus',\n",
       "       'Daption capense capense', 'Elaenia albiceps albiceps',\n",
       "       'Thalasseus sandvicensis (Latham, 1787)',\n",
       "       'Caracara cheriway (Jacquin, 1784)',\n",
       "       'Muscisaxicola capistrata (Burmeister, 1860)',\n",
       "       'Melanodera melanodera princetoniana (Scott, 1900)',\n",
       "       'Sterna fuscata Linnaeus, 1766',\n",
       "       'Procelsterna albivitta Bonaparte, 1856',\n",
       "       'Anas specularioides King, 1828',\n",
       "       'Diomedea chrysostoma J.R.Forster, 1785',\n",
       "       'Pterodroma incerta (Schlegel, 1863)',\n",
       "       'Vanellus cayanus (Latham, 1790)',\n",
       "       'Thalassarche bulleri (Rothschild, 1893)', 'BOLD:AAI4614',\n",
       "       'Muscisaxicola macloviana (Garnot, 1826)',\n",
       "       'Phalcoboenus megalopterus (Meyen, 1834)',\n",
       "       'Actitis macularia (Linnaeus, 1766)',\n",
       "       'Gallinago gallinago (Linnaeus, 1758)',\n",
       "       'Anas specularis King, 1828', 'Diomedea exulans exulans'],\n",
       "      dtype=object)"
      ]
     },
     "execution_count": 38,
     "metadata": {},
     "output_type": "execute_result"
    }
   ],
   "source": [
    "df.query('Clase==\"Aves\"')['Nombre Científico'].unique()"
   ]
  },
  {
   "cell_type": "markdown",
   "id": "19d08a48-9460-4e7c-bc10-591c9436e6f5",
   "metadata": {},
   "source": [
    "### Sacamos los valores únicos"
   ]
  },
  {
   "cell_type": "code",
   "execution_count": null,
   "id": "21743a85-ce48-4d0d-9aae-2c8f25aae5ad",
   "metadata": {},
   "outputs": [],
   "source": [
    "len(df['Nombre Científico'].unique())"
   ]
  },
  {
   "cell_type": "code",
   "execution_count": null,
   "id": "00a9b290-156f-4b09-82b5-88a180e60d30",
   "metadata": {},
   "outputs": [],
   "source": [
    "df['Nombre Científico'].nunique()"
   ]
  },
  {
   "cell_type": "code",
   "execution_count": null,
   "id": "ff66802c-a361-4449-8195-ffb8f175cf98",
   "metadata": {},
   "outputs": [],
   "source": [
    "df['Nombre Científico'].unique()"
   ]
  },
  {
   "cell_type": "markdown",
   "id": "43e2085b-da35-4d90-ab56-396157f4e697",
   "metadata": {},
   "source": [
    "#### Cambiar nombre a una columna"
   ]
  },
  {
   "cell_type": "code",
   "execution_count": null,
   "id": "0f3a7010-d745-49a6-98b7-eb9b77f07cdb",
   "metadata": {},
   "outputs": [],
   "source": [
    "df.columns"
   ]
  },
  {
   "cell_type": "code",
   "execution_count": null,
   "id": "3b7da6de-4f39-489e-9abb-c315c17992a1",
   "metadata": {},
   "outputs": [],
   "source": [
    "df.rename(columns={'Ecosistema Magallanes': 'ecosistema'}, inplace=True)\n",
    "#df.rename({'Ecosistema Magallanes': 'ecosistema'}, axis=1)"
   ]
  },
  {
   "cell_type": "code",
   "execution_count": null,
   "id": "32816b30-e207-4003-bbaa-0b2277b95f22",
   "metadata": {},
   "outputs": [],
   "source": [
    "import numpy as np"
   ]
  },
  {
   "cell_type": "code",
   "execution_count": null,
   "id": "f9521f8f-4334-4924-a3b4-9ca24f767537",
   "metadata": {},
   "outputs": [],
   "source": [
    "# inventamso un atributo numérico\n",
    "df['peso'] = np.random.randint(1, 10, size=len(df))\n",
    "df['altura'] = np.random.randint(150, 200, size=len(df))"
   ]
  },
  {
   "cell_type": "code",
   "execution_count": null,
   "id": "fa78e02b-4240-4941-9d0f-14742272a86c",
   "metadata": {},
   "outputs": [],
   "source": [
    "df.head(1)"
   ]
  },
  {
   "cell_type": "markdown",
   "id": "180bfa0c-8708-4ca6-acd8-03541d41a040",
   "metadata": {},
   "source": [
    "### Borrar columnas"
   ]
  },
  {
   "cell_type": "code",
   "execution_count": null,
   "id": "c213fc73-36ae-4dc3-ad17-a3930b95ccfb",
   "metadata": {},
   "outputs": [],
   "source": [
    "#.drop\n",
    "\n",
    "#df.drop('nueva_columna', axis=1, inplace=True)\n",
    "df.drop(['nueva_columna', 'segunda_columna', 'columna_triple'], axis=1, inplace=True)"
   ]
  },
  {
   "cell_type": "code",
   "execution_count": null,
   "id": "b57bbd26-ab6a-48d2-bd8e-3a411fdae0b2",
   "metadata": {},
   "outputs": [],
   "source": [
    "#df.groupby(LISTA_COLUMNAS)['miro_una'].operacion()\n",
    "\n",
    "df.groupby(['Clase', 'Orden'])[['peso']].mean().reset_index()"
   ]
  },
  {
   "cell_type": "code",
   "execution_count": null,
   "id": "b1778942-d540-4abb-8610-b44ac8834c8f",
   "metadata": {},
   "outputs": [],
   "source": [
    "df.groupby(['Clase', 'Orden'])[['peso', 'altura']].mean().reset_index()"
   ]
  },
  {
   "cell_type": "code",
   "execution_count": null,
   "id": "1e9a30d5-f62d-4e63-a726-54f544c0715b",
   "metadata": {},
   "outputs": [],
   "source": [
    "df.groupby(['Clase', 'Orden'])[['peso']].mean()"
   ]
  },
  {
   "cell_type": "code",
   "execution_count": null,
   "id": "17e0f636-5fd7-4341-a9b4-35b2bb6ec2e5",
   "metadata": {},
   "outputs": [],
   "source": [
    "df.groupby(['Clase', 'Orden'])['peso'].agg(['mean', 'min', 'max'])"
   ]
  },
  {
   "cell_type": "code",
   "execution_count": null,
   "id": "d39734ce-2842-4198-b37e-f0ab9f519d9c",
   "metadata": {},
   "outputs": [],
   "source": [
    "df.groupby(['Clase', 'Orden']).agg({'peso': ['mean', 'min', 'max']})"
   ]
  },
  {
   "cell_type": "code",
   "execution_count": null,
   "id": "b728dfd3-02d5-424a-afa2-130dccebdceb",
   "metadata": {},
   "outputs": [],
   "source": [
    "df.groupby(['Clase', 'Orden']).agg({'peso': ['mean', 'min', 'max', 'count'], 'altura': ['min', 'max']}).reset_index()\n"
   ]
  },
  {
   "cell_type": "code",
   "execution_count": null,
   "id": "a515a47f-0fcc-4a6c-92c9-d72dcd42e13d",
   "metadata": {},
   "outputs": [],
   "source": [
    "# SE PUEDE HACER QUALQER COSA\n",
    "df.groupby(['Clase', 'Orden']).agg({'peso': [lambda x: np.max(x)**2]}).reset_index()"
   ]
  },
  {
   "cell_type": "markdown",
   "id": "aee7174c-35e4-4a2b-9860-7523b3310d54",
   "metadata": {},
   "source": [
    "Filtrar y hacer groupby"
   ]
  },
  {
   "cell_type": "markdown",
   "id": "64e83aa5-38ad-4f55-88ca-79a48c01760e",
   "metadata": {},
   "source": [
    "### BUENAS PRÄCTICAS!!"
   ]
  },
  {
   "cell_type": "code",
   "execution_count": null,
   "id": "4d68d236-bb05-4446-9ab7-cdc18062117a",
   "metadata": {},
   "outputs": [],
   "source": [
    "a = True\n",
    "b = False\n",
    "\n",
    "a & b # y lógico"
   ]
  },
  {
   "cell_type": "code",
   "execution_count": null,
   "id": "55dbce20-a826-4e3b-9ac3-42a2dc91e642",
   "metadata": {},
   "outputs": [],
   "source": [
    "a | b # o lógico"
   ]
  },
  {
   "cell_type": "code",
   "execution_count": null,
   "id": "10d33ffb-f73a-4328-ac68-c93f2d694f41",
   "metadata": {},
   "outputs": [],
   "source": [
    "#df[(df['altura'] > 180) & (df['peso'] == 8)] #notación antigua\n",
    "df.query(' not (altura > 180 and peso == 8)').head(1)"
   ]
  },
  {
   "cell_type": "code",
   "execution_count": null,
   "id": "db84c57d-aee0-49a7-b3ac-3aa9db3e5a46",
   "metadata": {},
   "outputs": [],
   "source": [
    "#(df.query('altura > 190 and peso == 8')\n",
    "#   .gropby(blabla)\n",
    "#   .agg(jeje)\n",
    "#   .reset_index(shit)\n",
    "#   .rename(texto))"
   ]
  },
  {
   "cell_type": "code",
   "execution_count": null,
   "id": "a31ccff9-51c4-471b-90d7-78af59938311",
   "metadata": {},
   "outputs": [],
   "source": [
    "df.groupby('altura')['peso'].mean().reset_index()[:5]"
   ]
  },
  {
   "cell_type": "code",
   "execution_count": null,
   "id": "b3f07250-1046-48c0-95d5-666217906710",
   "metadata": {},
   "outputs": [],
   "source": [
    "df['peso'].plot()"
   ]
  },
  {
   "cell_type": "code",
   "execution_count": null,
   "id": "9f68565c-4076-4643-9e36-ccb0dd3db892",
   "metadata": {},
   "outputs": [],
   "source": [
    "df[['peso', 'altura']].corr()"
   ]
  },
  {
   "cell_type": "code",
   "execution_count": null,
   "id": "e920bfe7-29b9-41ea-8b2d-4fdb3dba289a",
   "metadata": {},
   "outputs": [],
   "source": [
    "#!pip install plotly"
   ]
  },
  {
   "cell_type": "code",
   "execution_count": null,
   "id": "2aaa1293-b2c2-4c1e-b033-f31124edf46b",
   "metadata": {},
   "outputs": [],
   "source": [
    "#!pip install \"jupyterlab>=3\" \"ipywidgets>=7.6\""
   ]
  },
  {
   "cell_type": "code",
   "execution_count": null,
   "id": "6597476b-124b-4c14-bb43-05664ce1fcec",
   "metadata": {},
   "outputs": [],
   "source": [
    "import plotly.express as px\n",
    "import pandas as pd"
   ]
  },
  {
   "cell_type": "code",
   "execution_count": null,
   "id": "febe727c-0dcd-4df7-8c7e-4696976b8de4",
   "metadata": {},
   "outputs": [],
   "source": [
    "#fig = px.line, px.scatter, px.bar, px.histogram, px.cualquierwea\n",
    "_ = pd.DataFrame({'year': [1,2,3], 'chile': [3, 5, 7], 'arg': [4, 10, 17], 'boli':[1, 2, 0]})\n",
    "_"
   ]
  },
  {
   "cell_type": "code",
   "execution_count": null,
   "id": "86c4a31f-0e42-478f-a4aa-799dbe4cbcfb",
   "metadata": {},
   "outputs": [],
   "source": [
    "fig = px.line(_, x='year', y='chile')\n",
    "# cambiar nombre del titulo\n",
    "fig.update_layout(title='chile')\n",
    "fig.show()"
   ]
  },
  {
   "cell_type": "code",
   "execution_count": null,
   "id": "0efde1d8-cd04-43b8-9596-d529e095c4d5",
   "metadata": {},
   "outputs": [],
   "source": [
    "_"
   ]
  },
  {
   "cell_type": "code",
   "execution_count": null,
   "id": "ce877eaf-8276-4dbd-8c03-eed2c5cb9a24",
   "metadata": {},
   "outputs": [],
   "source": [
    "_.melt(id_vars=['year'], value_vars=['chile', 'arg', 'boli']) # MELT es la mejor anmiga al usar plotly"
   ]
  },
  {
   "cell_type": "code",
   "execution_count": null,
   "id": "097aad7a-fcb6-4415-b313-0b696d74dc65",
   "metadata": {},
   "outputs": [],
   "source": [
    "fig2 = px.line(_.melt(id_vars=['year'], value_vars=['chile', 'arg', 'boli']), x='year', color='variable', y='value').show()"
   ]
  },
  {
   "cell_type": "code",
   "execution_count": null,
   "id": "290913f7-a8c0-418d-88ee-52aa338ab327",
   "metadata": {},
   "outputs": [],
   "source": [
    "df = px.data.gapminder().query(\"continent=='Oceania'\")\n",
    "fig = px.line(df, x=\"year\", y=\"lifeExp\", color='country')\n",
    "fig.show()"
   ]
  },
  {
   "cell_type": "code",
   "execution_count": null,
   "id": "e730f4de-f0fa-49a0-9124-6c38240b6de3",
   "metadata": {},
   "outputs": [],
   "source": []
  }
 ],
 "metadata": {
  "kernelspec": {
   "display_name": "Python 3 (ipykernel)",
   "language": "python",
   "name": "python3"
  },
  "language_info": {
   "codemirror_mode": {
    "name": "ipython",
    "version": 3
   },
   "file_extension": ".py",
   "mimetype": "text/x-python",
   "name": "python",
   "nbconvert_exporter": "python",
   "pygments_lexer": "ipython3",
   "version": "3.9.13"
  }
 },
 "nbformat": 4,
 "nbformat_minor": 5
}
