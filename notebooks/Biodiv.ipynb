{
 "cells": [
  {
   "cell_type": "markdown",
   "id": "2bf71e55-c8bb-4798-baf0-8c5be46f401c",
   "metadata": {
    "tags": []
   },
   "source": [
    "# Descargar los datos de las spp y filtrar por un shp de Magallanes"
   ]
  },
  {
   "cell_type": "code",
   "execution_count": 1,
   "id": "e3807ca6-79e5-4665-922f-83dedc01e559",
   "metadata": {},
   "outputs": [
    {
     "name": "stdout",
     "output_type": "stream",
     "text": [
      "/Users/josepalmaduque/Desktop/Doctorado UACH/Python/clases_pipe\n"
     ]
    }
   ],
   "source": [
    "import os\n",
    "import geopandas as gpd\n",
    "import requests \n",
    "import numpy as np\n",
    "import pandas as pd\n",
    "from tqdm import tqdm\n",
    "\n",
    "ruta_actual = os.getcwd()\n",
    "print(ruta_actual)"
   ]
  },
  {
   "cell_type": "code",
   "execution_count": 39,
   "id": "6662d8c8-4078-4eb0-bd3e-b688a8b2153d",
   "metadata": {},
   "outputs": [
    {
     "name": "stdout",
     "output_type": "stream",
     "text": [
      "   objectid  cir_sena  codregion        area_km    st_area_sh    st_length_   \n",
      "0      1084         1         15   16866.819844  1.886869e+10  7.505296e+05  \\\n",
      "1      1085         2          1   42284.567484  4.830637e+10  1.213713e+06   \n",
      "2      1086         3          2  126071.431981  1.508452e+11  2.516112e+06   \n",
      "3      1087        15         12  133053.142345  3.581316e+11  9.049830e+07   \n",
      "4      1088        14         11  106703.377369  2.242743e+11  4.144481e+07   \n",
      "5      1089         4          3   75661.248635  9.643906e+10  2.401741e+06   \n",
      "6      1090         5          4   40575.901682  5.498082e+10  2.065933e+06   \n",
      "7      1091         6          5   16322.970393  2.301475e+10  1.679609e+06   \n",
      "8      1092         7         13   15392.030737  2.225204e+10  1.064253e+06   \n",
      "9      1093        13         10   48408.371357  8.771834e+10  7.874158e+06   \n",
      "\n",
      "                                      Region   \n",
      "0               Región de Arica y Parinacota  \\\n",
      "1                         Región de Tarapacá   \n",
      "2                      Región de Antofagasta   \n",
      "3   Región de Magallanes y Antártica Chilena   \n",
      "4  Región de Aysén del Gral.Ibañez del Campo   \n",
      "5                          Región de Atacama   \n",
      "6                         Región de Coquimbo   \n",
      "7                       Región de Valparaíso   \n",
      "8           Región Metropolitana de Santiago   \n",
      "9                        Región de Los Lagos   \n",
      "\n",
      "                                            geometry  \n",
      "0  POLYGON ((-7727277.278 -1997230.768, -7726464....  \n",
      "1  MULTIPOLYGON (((-7810213.515 -2298008.280, -78...  \n",
      "2  MULTIPOLYGON (((-7870470.961 -2985679.186, -78...  \n",
      "3  MULTIPOLYGON (((-7494057.535 -7542535.383, -74...  \n",
      "4  MULTIPOLYGON (((-8413517.696 -6234055.255, -84...  \n",
      "5  MULTIPOLYGON (((-7932747.769 -3311218.615, -79...  \n",
      "6  MULTIPOLYGON (((-7963268.900 -3784870.143, -79...  \n",
      "7  MULTIPOLYGON (((-8991645.917 -3991821.789, -89...  \n",
      "8  POLYGON ((-7873736.745 -3885505.642, -7873695....  \n",
      "9  MULTIPOLYGON (((-8331768.181 -5403721.402, -83...  \n"
     ]
    }
   ],
   "source": [
    "# Ruta al archivo shapefile\n",
    "shp_file = \"Users/josepalmaduque/Desktop/Doctorado UACH/Python/Regiones/Regional.shp\" #MAC\n",
    "shp_file = \"D:\\iCloudDrive\\Desktop\\Doctorado UACH\\Python\\Regiones\\Regional.shp\" #Windows\n",
    "# Cargar el shapefile en un GeoDataFrame\n",
    "gdf = gpd.read_file(shp_file)\n",
    "\n",
    "print(gdf.head(10))\n"
   ]
  },
  {
   "cell_type": "code",
   "execution_count": 40,
   "id": "03f9a133-ee7e-4179-b3ba-79736ef07a76",
   "metadata": {},
   "outputs": [],
   "source": [
    "# Filtrar los datos para la Región de Magallanes\n",
    "region_magallanes = gdf[gdf['codregion'] == 12]"
   ]
  },
  {
   "cell_type": "code",
   "execution_count": 6,
   "id": "682783a0-db38-415a-ac35-3aeb58f71380",
   "metadata": {},
   "outputs": [],
   "source": [
    "# Ruta donde se guardará el nuevo shapefile\n",
    "output_file = \"/Users/josepalmaduque/Desktop/Doctorado UACH/Python/clases_pipe/spp/Magallanes.shp\"\n",
    "\n",
    "# Guardar los datos filtrados en un nuevo shapefile\n",
    "region_magallanes.to_file(output_file)\n",
    "\n",
    "# Leer el archivo shapefile de la región de Magallanes\n",
    "magallanes = gpd.read_file('spp/Magallanes.shp')\n"
   ]
  },
  {
   "cell_type": "markdown",
   "id": "0c9327db-4e3c-4bf7-a4cc-d63cfbe60d1a",
   "metadata": {
    "jp-MarkdownHeadingCollapsed": true
   },
   "source": [
    "### Generar un archivo con las ID de GBIF para poder descargar las spp"
   ]
  },
  {
   "cell_type": "code",
   "execution_count": 6,
   "id": "654519e5-c0c2-4ead-b0d5-3904a1a16e07",
   "metadata": {},
   "outputs": [],
   "source": [
    "###Vamos a generar un archivo con el GBIFID de las spp\n",
    "\n",
    "#df = pd.DataFrame()\n",
    "df = pd.read_excel('..\\..\\Listado de especies Magallanes MMA.xlsx', sheet_name='Animales')"
   ]
  },
  {
   "cell_type": "code",
   "execution_count": 10,
   "id": "309ab375-8f43-4462-b63f-6f9fd23ea43f",
   "metadata": {},
   "outputs": [
    {
     "data": {
      "text/html": [
       "<div>\n",
       "<style scoped>\n",
       "    .dataframe tbody tr th:only-of-type {\n",
       "        vertical-align: middle;\n",
       "    }\n",
       "\n",
       "    .dataframe tbody tr th {\n",
       "        vertical-align: top;\n",
       "    }\n",
       "\n",
       "    .dataframe thead th {\n",
       "        text-align: right;\n",
       "    }\n",
       "</style>\n",
       "<table border=\"1\" class=\"dataframe\">\n",
       "  <thead>\n",
       "    <tr style=\"text-align: right;\">\n",
       "      <th></th>\n",
       "      <th>Ecosistema Magallanes</th>\n",
       "      <th>Reino</th>\n",
       "      <th>Clase</th>\n",
       "      <th>Orden</th>\n",
       "      <th>Familia</th>\n",
       "      <th>Nombre Científico</th>\n",
       "      <th>Nombre Común</th>\n",
       "      <th>Inventario Especies</th>\n",
       "      <th>GBIF</th>\n",
       "      <th>taxonid</th>\n",
       "    </tr>\n",
       "  </thead>\n",
       "  <tbody>\n",
       "    <tr>\n",
       "      <th>0</th>\n",
       "      <td>Almirantazgo - Magallanes - Especies</td>\n",
       "      <td>Animalia</td>\n",
       "      <td>Aves</td>\n",
       "      <td>Procellariiformes</td>\n",
       "      <td>Diomedeidae</td>\n",
       "      <td>Thalassarche melanophris (Temminck, 1828)</td>\n",
       "      <td>Thalassarche</td>\n",
       "      <td>--</td>\n",
       "      <td>https://www.gbif.org/species/2481410</td>\n",
       "      <td>2481410</td>\n",
       "    </tr>\n",
       "    <tr>\n",
       "      <th>1</th>\n",
       "      <td>Almirantazgo - Magallanes - Especies</td>\n",
       "      <td>Animalia</td>\n",
       "      <td>Aves</td>\n",
       "      <td>Falconiformes</td>\n",
       "      <td>Falconidae</td>\n",
       "      <td>Falco sparverius cinnamominus Swainson, 1838</td>\n",
       "      <td>Falco</td>\n",
       "      <td>--</td>\n",
       "      <td>https://www.gbif.org/species/9685907</td>\n",
       "      <td>9685907</td>\n",
       "    </tr>\n",
       "    <tr>\n",
       "      <th>2</th>\n",
       "      <td>Almirantazgo - Magallanes - Especies</td>\n",
       "      <td>Animalia</td>\n",
       "      <td>Aves</td>\n",
       "      <td>Passeriformes</td>\n",
       "      <td>Furnariidae</td>\n",
       "      <td>Cinclodes oustaleti Scott, 1900</td>\n",
       "      <td>Cinclodes</td>\n",
       "      <td>--</td>\n",
       "      <td>https://www.gbif.org/species/2485054</td>\n",
       "      <td>2485054</td>\n",
       "    </tr>\n",
       "    <tr>\n",
       "      <th>3</th>\n",
       "      <td>Almirantazgo - Magallanes - Especies</td>\n",
       "      <td>Animalia</td>\n",
       "      <td>Aves</td>\n",
       "      <td>Suliformes</td>\n",
       "      <td>Phalacrocoracidae</td>\n",
       "      <td>Leucocarbo atriceps (King, 1828)</td>\n",
       "      <td>Leucocarbo</td>\n",
       "      <td>--</td>\n",
       "      <td>https://www.gbif.org/species/4848927</td>\n",
       "      <td>4848927</td>\n",
       "    </tr>\n",
       "    <tr>\n",
       "      <th>4</th>\n",
       "      <td>Almirantazgo - Magallanes - Especies</td>\n",
       "      <td>Animalia</td>\n",
       "      <td>Aves</td>\n",
       "      <td>Suliformes</td>\n",
       "      <td>Phalacrocoracidae</td>\n",
       "      <td>Leucocarbo magellanicus (Gmelin, 1789)</td>\n",
       "      <td>Leucocarbo</td>\n",
       "      <td>--</td>\n",
       "      <td>https://www.gbif.org/species/2481856</td>\n",
       "      <td>2481856</td>\n",
       "    </tr>\n",
       "  </tbody>\n",
       "</table>\n",
       "</div>"
      ],
      "text/plain": [
       "                  Ecosistema Magallanes     Reino Clase              Orden   \n",
       "0  Almirantazgo - Magallanes - Especies  Animalia  Aves  Procellariiformes  \\\n",
       "1  Almirantazgo - Magallanes - Especies  Animalia  Aves      Falconiformes   \n",
       "2  Almirantazgo - Magallanes - Especies  Animalia  Aves      Passeriformes   \n",
       "3  Almirantazgo - Magallanes - Especies  Animalia  Aves         Suliformes   \n",
       "4  Almirantazgo - Magallanes - Especies  Animalia  Aves         Suliformes   \n",
       "\n",
       "             Familia                             Nombre Científico   \n",
       "0        Diomedeidae     Thalassarche melanophris (Temminck, 1828)  \\\n",
       "1         Falconidae  Falco sparverius cinnamominus Swainson, 1838   \n",
       "2        Furnariidae               Cinclodes oustaleti Scott, 1900   \n",
       "3  Phalacrocoracidae              Leucocarbo atriceps (King, 1828)   \n",
       "4  Phalacrocoracidae        Leucocarbo magellanicus (Gmelin, 1789)   \n",
       "\n",
       "   Nombre Común Inventario Especies                                  GBIF   \n",
       "0  Thalassarche                  --  https://www.gbif.org/species/2481410  \\\n",
       "1         Falco                  --  https://www.gbif.org/species/9685907   \n",
       "2     Cinclodes                  --  https://www.gbif.org/species/2485054   \n",
       "3    Leucocarbo                  --  https://www.gbif.org/species/4848927   \n",
       "4    Leucocarbo                  --  https://www.gbif.org/species/2481856   \n",
       "\n",
       "   taxonid  \n",
       "0  2481410  \n",
       "1  9685907  \n",
       "2  2485054  \n",
       "3  4848927  \n",
       "4  2481856  "
      ]
     },
     "execution_count": 10,
     "metadata": {},
     "output_type": "execute_result"
    }
   ],
   "source": [
    "df.head()"
   ]
  },
  {
   "cell_type": "code",
   "execution_count": 11,
   "id": "50c10f58-9097-4a54-b33d-502b638463c0",
   "metadata": {},
   "outputs": [],
   "source": [
    "df['taxonid'] = df.GBIF.apply(lambda x: x.split('/')[-1])"
   ]
  },
  {
   "cell_type": "code",
   "execution_count": 17,
   "id": "01026282-9458-4211-ad90-bd1ff093da64",
   "metadata": {},
   "outputs": [
    {
     "data": {
      "text/plain": [
       "2026"
      ]
     },
     "execution_count": 17,
     "metadata": {},
     "output_type": "execute_result"
    }
   ],
   "source": [
    "len(df.taxonid.unique())"
   ]
  },
  {
   "cell_type": "code",
   "execution_count": 25,
   "id": "9169742a-f568-48a1-8f17-0699c4763fd1",
   "metadata": {},
   "outputs": [],
   "source": [
    "columna_unica = df['taxonid'].unique()\n",
    "\n",
    "df_unicos = pd.DataFrame(columna_unica, columns = ['taxonid'])\n",
    "\n",
    "df_unicos.to_csv('taxonid_especies.csv', index =False) "
   ]
  },
  {
   "cell_type": "markdown",
   "id": "c857dbbc-c895-4a13-969e-9aedbd7d0a48",
   "metadata": {},
   "source": [
    "## Descarga de datos de GBIF para chile"
   ]
  },
  {
   "cell_type": "code",
   "execution_count": 2,
   "id": "4bdbf7e3-f694-458b-ae30-9cc36da6fea7",
   "metadata": {},
   "outputs": [],
   "source": [
    "def request_gbif_api(taxonkey: int = 2440735):\n",
    "    # Define GBIF API endpoint URL\n",
    "    api_url = 'https://api.gbif.org/v1/occurrence/search/'\n",
    "\n",
    "    # Define query parameters\n",
    "    params = {\n",
    "        'taxonKey': int(taxonkey),   # GBIF taxon key for whales\n",
    "        'country': 'CL',     # ISO-3166 alpha-2 country code for Chile\n",
    "        'year': \"2015,2022\", # Year\n",
    "        'limit': 300,        # Maximum number of occurrences to retrieve per request\n",
    "        'offset': 0          # Offset for pagination (starts at 0)\n",
    "    }\n",
    "\n",
    "    # Initialize empty list for occurrences\n",
    "    occurrences = []\n",
    "    # Loop over all pages of occurrences\n",
    "    while True:\n",
    "        # Send GET request to API endpoint with query parameters\n",
    "        response = requests.get(api_url, params=params)\n",
    "        results = response.json()['results']\n",
    "        occurrences.extend(results)\n",
    "\n",
    "        if len(results) < params['limit']:\n",
    "            break\n",
    "\n",
    "        # Increment offset for next page of occurrences\n",
    "        params['offset'] += params['limit']\n",
    "\n",
    "\n",
    "    df = pd.DataFrame({'gbifID': [k['gbifID'] for k in occurrences], \n",
    "                    'species': [k['species'] if 'species' in k.keys() else np.nan for k in occurrences],\n",
    "                    'decimalLatitude': [k['decimalLatitude'] if 'decimalLatitude' in k.keys() else np.nan for k in occurrences],\n",
    "                    'decimalLongitude': [k['decimalLongitude'] if 'decimalLongitude' in k.keys() else np.nan for k in occurrences],\n",
    "                    'phylumKey': [k['phylumKey'] if 'phylumKey' in k.keys() else np.nan for k in occurrences],\n",
    "                    'classKey': [k['classKey'] if 'classKey' in k.keys() else np.nan for k in occurrences],\n",
    "                    'orderKey': [k['orderKey'] if 'orderKey' in k.keys() else np.nan for k in occurrences],\n",
    "                    'familyKey': [k['familyKey'] if 'familyKey' in k.keys() else np.nan for k in occurrences],\n",
    "                    'geodeticDatum': [k['geodeticDatum'] if 'geodeticDatum' in k.keys() else np.nan for k in occurrences],   \n",
    "                    'eventDate': [k['eventDate'] if 'eventDate' in k.keys() else np.nan for k in occurrences]})\n",
    "\n",
    "    df = df.dropna()\n",
    "    gdf = gpd.GeoDataFrame(df, geometry=gpd.points_from_xy(df['decimalLongitude'], df['decimalLatitude']), crs='EPSG:4326')\n",
    "\n",
    "    return gdf, occurrences"
   ]
  },
  {
   "cell_type": "code",
   "execution_count": 4,
   "id": "2acd5fb5-6a92-407d-9851-ef8b63292c42",
   "metadata": {},
   "outputs": [],
   "source": [
    "def descarga_muchas_especies(especies: list): #Para MAC\n",
    "    archivos = !ls spp \n",
    "    \n",
    "    for especie in tqdm(especies):\n",
    "\n",
    "        if f'datos_{especie}.csv' in archivos:\n",
    "            print(f'ya tenemos descargado {especie}')\n",
    "        else:\n",
    "            print(f'descargando {especie}')\n",
    "            _df, _ = request_gbif_api(taxonkey=especie)\n",
    "            _df.to_csv(f'spp/datos_{especie}.csv', index=False)\n"
   ]
  },
  {
   "cell_type": "code",
   "execution_count": 3,
   "id": "c6a660cd-8025-4b78-8741-cba1e7b18ee1",
   "metadata": {},
   "outputs": [],
   "source": [
    "def descarga_muchas_especies(especies: list): #Para Windows\n",
    "    archivos = os.listdir('spp')\n",
    "    \n",
    "    for especie in tqdm(especies):\n",
    "\n",
    "        if f'datos_{especie}.csv' in archivos:\n",
    "            print(f'ya tenemos descargado {especie}')\n",
    "        else:\n",
    "            print(f'descargando {especie}')\n",
    "            _df, _ = request_gbif_api(taxonkey=especie)\n",
    "            _df.to_csv(os.path.join('spp', f'datos_{especie}.csv'), index=False)"
   ]
  },
  {
   "cell_type": "code",
   "execution_count": 2,
   "id": "f9c9fffc-05c3-454f-bc40-3eb4a90b1ab3",
   "metadata": {},
   "outputs": [],
   "source": [
    "import os\n",
    "import pandas as pd\n",
    "import geopandas as gpd\n",
    "import numpy as np\n",
    "import requests\n",
    "from tqdm import tqdm\n",
    "import concurrent.futures\n",
    "\n",
    "def request_gbif_api(taxonkey: int = 2440735, output_file: str = None):\n",
    "    # Define GBIF API endpoint URL\n",
    "    api_url = 'https://api.gbif.org/v1/occurrence/search/'\n",
    "\n",
    "    # Define query parameters\n",
    "    params = {\n",
    "        'taxonKey': int(taxonkey),   # GBIF taxon key for whales\n",
    "        'country': 'CL',     # ISO-3166 alpha-2 country code for Chile\n",
    "        'year': \"2015,2022\", # Year\n",
    "        'limit': 300,        # Maximum number of occurrences to retrieve per request\n",
    "        'offset': 0          # Offset for pagination (starts at 0)\n",
    "    }\n",
    "\n",
    "    # Initialize empty list for occurrences\n",
    "    occurrences = []\n",
    "\n",
    "    # Loop over all pages of occurrences\n",
    "    while True:\n",
    "        # Send GET request to API endpoint with query parameters\n",
    "        response = requests.get(api_url, params=params)\n",
    "        results = response.json()['results']\n",
    "        occurrences.extend(results)\n",
    "\n",
    "        if len(results) < params['limit']:\n",
    "            break\n",
    "\n",
    "        # Increment offset for next page of occurrences\n",
    "        params['offset'] += params['limit']\n",
    "\n",
    "    df = pd.DataFrame({'gbifID': [k['gbifID'] for k in occurrences], \n",
    "                    'species': [k['species'] if 'species' in k.keys() else np.nan for k in occurrences],\n",
    "                    'decimalLatitude': [k['decimalLatitude'] if 'decimalLatitude' in k.keys() else np.nan for k in occurrences],\n",
    "                    'decimalLongitude': [k['decimalLongitude'] if 'decimalLongitude' in k.keys() else np.nan for k in occurrences],\n",
    "                    'phylumKey': [k['phylumKey'] if 'phylumKey' in k.keys() else np.nan for k in occurrences],\n",
    "                    'classKey': [k['classKey'] if 'classKey' in k.keys() else np.nan for k in occurrences],\n",
    "                    'orderKey': [k['orderKey'] if 'orderKey' in k.keys() else np.nan for k in occurrences],\n",
    "                    'familyKey': [k['familyKey'] if 'familyKey' in k.keys() else np.nan for k in occurrences],\n",
    "                    'geodeticDatum': [k['geodeticDatum'] if 'geodeticDatum' in k.keys() else np.nan for k in occurrences],   \n",
    "                    'eventDate': [k['eventDate'] if 'eventDate' in k.keys() else np.nan for k in occurrences]})\n",
    "\n",
    "    df = df.dropna()\n",
    "    gdf = gpd.GeoDataFrame(df, geometry=gpd.points_from_xy(df['decimalLongitude'], df['decimalLatitude']), crs='EPSG:4326')\n",
    "\n",
    "    if output_file:\n",
    "        gdf.to_csv(output_file, index=False)\n",
    "\n",
    "    return gdf, occurrences\n",
    "\n"
   ]
  },
  {
   "cell_type": "code",
   "execution_count": 3,
   "id": "da7912e2-25c5-4b86-b386-39363882c7ea",
   "metadata": {},
   "outputs": [],
   "source": [
    "def descarga_muchas_especies(especies):\n",
    "    num_especies = len(especies)\n",
    "\n",
    "    def descargar_especie(especie):\n",
    "        archivos = os.listdir('spp')\n",
    "        if f'datos_{especie}.csv' in archivos:\n",
    "            print(f'Ya tenemos descargado {especie}')\n",
    "        else:\n",
    "            print(f'Descargando {especie}')\n",
    "            df, _ = request_gbif_api(taxonkey=especie)\n",
    "            df.to_csv(os.path.join('spp', f'datos_{especie}.csv'), index=False)\n",
    "\n",
    "    with concurrent.futures.ThreadPoolExecutor(max_workers=2) as executor:\n",
    "        list(tqdm(executor.map(descargar_especie, especies), total=num_especies))\n",
    "\n"
   ]
  },
  {
   "cell_type": "code",
   "execution_count": 4,
   "id": "8504e3b8-205f-49b8-b995-c4fe1a768f65",
   "metadata": {},
   "outputs": [
    {
     "data": {
      "text/plain": [
       "2026"
      ]
     },
     "execution_count": 4,
     "metadata": {},
     "output_type": "execute_result"
    }
   ],
   "source": [
    "especies = pd.read_csv('taxonid_especies.csv')\n",
    "especies = list(especies.taxonid.unique())\n",
    "len(especies)"
   ]
  },
  {
   "cell_type": "code",
   "execution_count": 5,
   "id": "d7187457-af6e-4bb5-b8b1-57d33e95433d",
   "metadata": {},
   "outputs": [
    {
     "name": "stdout",
     "output_type": "stream",
     "text": [
      "Ya tenemos descargado 2481410\n",
      "Ya tenemos descargado 9685907\n",
      "Ya tenemos descargado 2485054\n",
      "Ya tenemos descargado 4848927\n",
      "Ya tenemos descargado 2498234\n",
      "Ya tenemos descargado 2481856\n",
      "Ya tenemos descargado 2480989\n",
      "Ya tenemos descargado 5231103\n",
      "Ya tenemos descargado 2483725\n",
      "Ya tenemos descargado 5232428\n",
      "Ya tenemos descargado 2481432\n",
      "Ya tenemos descargado 2481907\n",
      "Ya tenemos descargado 2481515\n",
      "Ya tenemos descargado 5232424\n",
      "Ya tenemos descargado 5229231\n",
      "Ya tenemos descargado 2481930\n",
      "Ya tenemos descargado 2481610\n",
      "Ya tenemos descargado 2485058\n"
     ]
    },
    {
     "name": "stderr",
     "output_type": "stream",
     "text": [
      "  4%|█▌                                      | 82/2026 [00:00<00:02, 802.24it/s]"
     ]
    },
    {
     "name": "stdout",
     "output_type": "stream",
     "text": [
      "Ya tenemos descargado 2484424\n",
      "Ya tenemos descargado 2481065\n",
      "Ya tenemos descargado 5231073\n",
      "Ya tenemos descargado 2482738\n",
      "Ya tenemos descargado 2480262\n",
      "Ya tenemos descargado 2483790\n",
      "Ya tenemos descargado 2485042\n",
      "Ya tenemos descargado 5231459\n",
      "Ya tenemos descargado 5789239\n",
      "Ya tenemos descargado 2481495\n",
      "Ya tenemos descargado 2480786\n",
      "Ya tenemos descargado 2480265\n",
      "Ya tenemos descargado 5229651\n",
      "Ya tenemos descargado 2498236\n",
      "Ya tenemos descargado 2485838\n",
      "Ya tenemos descargado 2498294\n",
      "Ya tenemos descargado 2481408\n",
      "Ya tenemos descargado 2481173\n",
      "Ya tenemos descargado 2490775\n",
      "Ya tenemos descargado 5229770\n",
      "Ya tenemos descargado 2481770\n",
      "Ya tenemos descargado 5229094\n",
      "Ya tenemos descargado 5229385\n",
      "Ya tenemos descargado 2485069\n",
      "Ya tenemos descargado 2482688\n",
      "Ya tenemos descargado 2481428\n",
      "Ya tenemos descargado 4352370\n",
      "Ya tenemos descargado 2478578\n",
      "Ya tenemos descargado 2498065\n",
      "Ya tenemos descargado 2491010\n",
      "Ya tenemos descargado 5232423\n",
      "Ya tenemos descargado 2475466\n",
      "Ya tenemos descargado 2481829\n",
      "Ya tenemos descargado 5739277\n",
      "Ya tenemos descargado 2481494\n",
      "Ya tenemos descargado 2498110\n",
      "Ya tenemos descargado 9399113\n",
      "Ya tenemos descargado 2480863\n",
      "Ya tenemos descargado 5229146\n",
      "Ya tenemos descargado 2481635\n",
      "Ya tenemos descargado 2481756\n",
      "Ya tenemos descargado 2480318\n",
      "Ya tenemos descargado 5218823\n",
      "Ya tenemos descargado 6092488\n",
      "Ya tenemos descargado 2482062\n",
      "Ya tenemos descargado 6066499\n",
      "Ya tenemos descargado 2498335\n",
      "Ya tenemos descargado 9286490\n",
      "Ya tenemos descargado 6065823\n",
      "Ya tenemos descargado 2481093\n",
      "Ya tenemos descargado 2434814\n",
      "Ya tenemos descargado 2498127\n",
      "Ya tenemos descargado 2481660\n",
      "Ya tenemos descargado 2489208\n",
      "Ya tenemos descargado 2498288\n",
      "Ya tenemos descargado 2493890\n",
      "Ya tenemos descargado 5231088\n",
      "Ya tenemos descargado 2480565\n",
      "Ya tenemos descargado 2481545\n",
      "Ya tenemos descargado 2491655\n",
      "Ya tenemos descargado 5229343\n",
      "Ya tenemos descargado 2433472\n",
      "Ya tenemos descargado 5229424\n",
      "Ya tenemos descargado 5229299\n",
      "Ya tenemos descargado 2481047\n",
      "Ya tenemos descargado 2432419\n",
      "Ya tenemos descargado 2498322\n",
      "Ya tenemos descargado 2480668\n",
      "Ya tenemos descargado 5232138\n",
      "Ya tenemos descargado 1052500\n",
      "Ya tenemos descargado 1853384\n",
      "Ya tenemos descargado 2434790\n",
      "Ya tenemos descargado 5220066\n",
      "Ya tenemos descargado 2481811\n",
      "Ya tenemos descargado 2474715\n",
      "Ya tenemos descargado 2484272\n",
      "Ya tenemos descargado 5220042\n",
      "Ya tenemos descargado 6454590\n",
      "Ya tenemos descargado 4309731\n",
      "Ya tenemos descargado 2434340\n",
      "Ya tenemos descargado 2270543\n",
      "Ya tenemos descargado 2276971\n",
      "Ya tenemos descargado 4341526\n",
      "Ya tenemos descargado 4341732\n",
      "Ya tenemos descargado 2276694Ya tenemos descargado 4341707\n",
      "\n",
      "Ya tenemos descargado 2481616\n",
      "Ya tenemos descargado 2481374\n",
      "Ya tenemos descargado 2480599\n",
      "Ya tenemos descargado 2310115\n",
      "Ya tenemos descargado 2221586\n",
      "Ya tenemos descargado 5229302\n",
      "Ya tenemos descargado 6525297\n",
      "Ya tenemos descargado 5188832\n",
      "Ya tenemos descargado 4374572\n",
      "Ya tenemos descargado 2217178\n",
      "Ya tenemos descargado 4949310\n",
      "Ya tenemos descargado 2217156\n",
      "Ya tenemos descargado 4315449\n",
      "Ya tenemos descargado 5716131\n",
      "Ya tenemos descargado 6455264\n",
      "Ya tenemos descargado 4315448\n",
      "Ya tenemos descargado 4375285\n",
      "Ya tenemos descargado 6141644\n",
      "Ya tenemos descargado 7351954\n",
      "Ya tenemos descargado 2316778\n",
      "Ya tenemos descargado 2320680\n",
      "Ya tenemos descargado 2322960\n",
      "Ya tenemos descargado 2316851\n",
      "Ya tenemos descargado 2324262\n",
      "Ya tenemos descargado 2313109\n",
      "Ya tenemos descargado 5194987\n",
      "Ya tenemos descargado 2316522\n",
      "Ya tenemos descargado 2219348\n",
      "Ya tenemos descargado 4374798\n",
      "Ya tenemos descargado 2214733\n",
      "Ya tenemos descargado 2318104\n",
      "Ya tenemos descargado 2501342\n",
      "Ya tenemos descargado 5178866\n",
      "Ya tenemos descargado 2322051\n",
      "Ya tenemos descargado 8239233\n",
      "Ya tenemos descargado 2322805\n",
      "Ya tenemos descargado 2323325\n",
      "Ya tenemos descargado 2218459\n"
     ]
    },
    {
     "name": "stderr",
     "output_type": "stream",
     "text": [
      " 12%|████▌                                  | 237/2026 [00:00<00:02, 716.98it/s]"
     ]
    },
    {
     "name": "stdout",
     "output_type": "stream",
     "text": [
      "Ya tenemos descargado 2319837\n",
      "Ya tenemos descargado 6788988\n",
      "Ya tenemos descargado 8288896\n",
      "Ya tenemos descargado 4316038\n",
      "Ya tenemos descargado 4315941\n",
      "Ya tenemos descargado 4373710\n",
      "Ya tenemos descargado 2281713\n",
      "Ya tenemos descargado 2306037\n",
      "Ya tenemos descargado 5726206\n",
      "Ya tenemos descargado 2306767\n",
      "Ya tenemos descargado 2485881\n",
      "Ya tenemos descargado 2293457\n",
      "Ya tenemos descargado 2480254\n",
      "Ya tenemos descargado 2481110\n",
      "Ya tenemos descargado 2482063\n",
      "Ya tenemos descargado 2474382\n",
      "Ya tenemos descargado 2498138\n",
      "Ya tenemos descargado 2474388\n",
      "Ya tenemos descargado 2485888\n",
      "Ya tenemos descargado 2480287\n",
      "Ya tenemos descargado 2491869\n",
      "Ya tenemos descargado 2482087\n",
      "Ya tenemos descargado 2485189\n",
      "Ya tenemos descargado 5232427\n",
      "Ya tenemos descargado 2481721\n",
      "Ya tenemos descargado 2485141\n",
      "Ya tenemos descargado 5229389\n",
      "Ya tenemos descargado 2495358\n",
      "Ya tenemos descargado 5231190\n",
      "Ya tenemos descargado 5230075\n",
      "Ya tenemos descargado 2481006\n",
      "Ya tenemos descargado 5229170\n",
      "Ya tenemos descargado 2481748\n",
      "Ya tenemos descargado 2480957\n",
      "Ya tenemos descargado 2480961\n",
      "Ya tenemos descargado 2481221\n",
      "Ya tenemos descargado 2481091\n",
      "Ya tenemos descargado 2480951\n",
      "Ya tenemos descargado 2482058\n",
      "Ya tenemos descargado 2483717\n",
      "Ya tenemos descargado 9515886\n",
      "Ya tenemos descargado 2480552\n",
      "Ya tenemos descargado 2480830\n",
      "Ya tenemos descargado 5232468\n",
      "Ya tenemos descargado 2497295\n",
      "Ya tenemos descargado 5219858\n",
      "Ya tenemos descargado 5229419\n",
      "Ya tenemos descargado 2498139\n",
      "Ya tenemos descargado 2498181\n",
      "Ya tenemos descargado 2481516\n",
      "Ya tenemos descargado 2498090\n",
      "Ya tenemos descargado 5220190\n",
      "Ya tenemos descargado 2481457\n",
      "Ya tenemos descargado 2498114\n",
      "Ya tenemos descargado 5959118\n",
      "Ya tenemos descargado 2497921\n",
      "Ya tenemos descargado 2483697\n",
      "Ya tenemos descargado 2483147\n",
      "Ya tenemos descargado 2491658\n",
      "Ya tenemos descargado 10701650\n",
      "Ya tenemos descargado 8844391\n",
      "Ya tenemos descargado 2434333\n",
      "Ya tenemos descargado 2389439\n",
      "Ya tenemos descargado 4331726\n",
      "Ya tenemos descargado 5229380\n",
      "Ya tenemos descargado 2440483\n",
      "Ya tenemos descargado 8697392\n",
      "Ya tenemos descargado 2481784\n",
      "Ya tenemos descargado 5857969\n",
      "Ya tenemos descargado 4361921\n",
      "Ya tenemos descargado 5857967\n",
      "Ya tenemos descargado 4305110\n",
      "Ya tenemos descargado 2313634\n",
      "Ya tenemos descargado 9548311\n",
      "Ya tenemos descargado 9292803\n",
      "Ya tenemos descargado 2321520\n",
      "Ya tenemos descargado 5859574\n",
      "Ya tenemos descargado 4373110\n",
      "Ya tenemos descargado 2274542\n",
      "Ya tenemos descargado 4311105\n",
      "Ya tenemos descargado 4311494\n",
      "Ya tenemos descargado 5197910\n",
      "Ya tenemos descargado 5862957\n",
      "Ya tenemos descargado 4340424\n",
      "Ya tenemos descargado 2270959\n",
      "Ya tenemos descargado 2279139\n",
      "Ya tenemos descargado 5727841\n",
      "Ya tenemos descargado 2270764\n",
      "Ya tenemos descargado 2274540\n",
      "Ya tenemos descargado 9111256\n",
      "Ya tenemos descargado 5970593\n",
      "Ya tenemos descargado 2276119\n",
      "Ya tenemos descargado 4341334\n",
      "Ya tenemos descargado 2272105\n",
      "Ya tenemos descargado 6528917\n",
      "Ya tenemos descargado 2270052\n",
      "Ya tenemos descargado 2271141\n",
      "Ya tenemos descargado 5194803\n",
      "Ya tenemos descargado 4309762\n",
      "Ya tenemos descargado 4950170\n",
      "Ya tenemos descargado 4265094\n",
      "Ya tenemos descargado 10312760\n",
      "Ya tenemos descargado 2497562\n",
      "Ya tenemos descargado 7945869\n",
      "Ya tenemos descargado 6525411\n",
      "Ya tenemos descargado 5728845\n",
      "Ya tenemos descargado 1006562\n",
      "Ya tenemos descargado 4341144\n",
      "Ya tenemos descargado 2284865\n",
      "Ya tenemos descargado 5971548\n",
      "Ya tenemos descargado 5971110\n",
      "Ya tenemos descargado 2385882\n",
      "Ya tenemos descargado 7573624\n",
      "Ya tenemos descargado 2277905\n",
      "Ya tenemos descargado 2322858\n",
      "Ya tenemos descargado 2315253\n",
      "Ya tenemos descargado 2328865\n",
      "Ya tenemos descargado 2318657\n",
      "Ya tenemos descargado 2213258\n",
      "Ya tenemos descargado 4316525\n",
      "Ya tenemos descargado 6503707\n",
      "Ya tenemos descargado 5716253\n",
      "Ya tenemos descargado 5857973\n",
      "Ya tenemos descargado 5966409\n",
      "Ya tenemos descargado 5177458\n",
      "Ya tenemos descargado 2316581\n",
      "Ya tenemos descargado 4811484\n",
      "Ya tenemos descargado 2316992\n",
      "Ya tenemos descargado 4316309\n",
      "Ya tenemos descargado 6516024\n",
      "Ya tenemos descargado 5193794\n",
      "Ya tenemos descargado 4365011\n",
      "Ya tenemos descargado 8807546\n",
      "Ya tenemos descargado 4963736\n",
      "Ya tenemos descargado 6493128\n",
      "Ya tenemos descargado 4364936\n",
      "Ya tenemos descargado 6528713\n",
      "Ya tenemos descargado 5728920\n",
      "Ya tenemos descargado 6530465\n",
      "Ya tenemos descargado 6523325\n",
      "Ya tenemos descargado 4371700\n",
      "Ya tenemos descargado 5189537\n"
     ]
    },
    {
     "name": "stderr",
     "output_type": "stream",
     "text": [
      " 19%|███████▎                               | 381/2026 [00:00<00:02, 700.53it/s]"
     ]
    },
    {
     "name": "stdout",
     "output_type": "stream",
     "text": [
      "Ya tenemos descargado 6528543Ya tenemos descargado 6523972\n",
      "\n",
      "Ya tenemos descargado 6508694\n",
      "Ya tenemos descargado 4357883\n",
      "Ya tenemos descargado 4365009\n",
      "Ya tenemos descargado 4362120\n",
      "Ya tenemos descargado 4368203\n",
      "Ya tenemos descargado 6498032\n",
      "Ya tenemos descargado 5183094\n",
      "Ya tenemos descargado 2249771\n",
      "Ya tenemos descargado 5182478\n",
      "Ya tenemos descargado 5182215\n",
      "Ya tenemos descargado 2249804\n",
      "Ya tenemos descargado 2251630\n",
      "Ya tenemos descargado 2251038\n",
      "Ya tenemos descargado 2250122\n",
      "Ya tenemos descargado 2251029\n",
      "Ya tenemos descargado 2251086\n",
      "Ya tenemos descargado 2243415\n",
      "Ya tenemos descargado 4341147\n",
      "Ya tenemos descargado 2460458\n",
      "Ya tenemos descargado 6533092\n",
      "Ya tenemos descargado 6533106\n",
      "Ya tenemos descargado 4370867\n",
      "Ya tenemos descargado 5728884\n",
      "Ya tenemos descargado 6532993\n",
      "Ya tenemos descargado 6533028\n",
      "Ya tenemos descargado 8862527\n",
      "Ya tenemos descargado 8294295\n",
      "Ya tenemos descargado 5220072\n",
      "Ya tenemos descargado 2440596\n",
      "Ya tenemos descargado 4265092\n",
      "Ya tenemos descargado 2250018\n",
      "Ya tenemos descargado 2438272\n",
      "Ya tenemos descargado 2420459\n",
      "Ya tenemos descargado 5188290\n",
      "Ya tenemos descargado 4364730\n",
      "Ya tenemos descargado 5199536\n",
      "Ya tenemos descargado 2268744\n",
      "Ya tenemos descargado 5966168\n",
      "Ya tenemos descargado 2332359\n",
      "Ya tenemos descargado 2274174\n",
      "Ya tenemos descargado 1005621\n",
      "Ya tenemos descargado 6522557\n",
      "Ya tenemos descargado 2240393\n",
      "Ya tenemos descargado 5200532\n",
      "Ya tenemos descargado 4364875\n",
      "Ya tenemos descargado 2273795\n",
      "Ya tenemos descargado 2266926\n",
      "Ya tenemos descargado 5186741\n",
      "Ya tenemos descargado 2331981\n",
      "Ya tenemos descargado 2274188\n",
      "Ya tenemos descargado 7429487\n",
      "Ya tenemos descargado 2331248\n",
      "Ya tenemos descargado 6515396\n",
      "Ya tenemos descargado 2322762\n",
      "Ya tenemos descargado 2331419\n",
      "Ya tenemos descargado 2509909\n",
      "Ya tenemos descargado 2330553\n",
      "Ya tenemos descargado 4985196\n",
      "Ya tenemos descargado 6493123\n",
      "Ya tenemos descargado 4373266\n",
      "Ya tenemos descargado 6515299\n",
      "Ya tenemos descargado 2331495\n",
      "Ya tenemos descargado 2268465\n",
      "Ya tenemos descargado 7189135\n",
      "Ya tenemos descargado 7009364\n",
      "Ya tenemos descargado 2267947\n",
      "Ya tenemos descargado 4985494\n",
      "Ya tenemos descargado 2244333\n",
      "Ya tenemos descargado 7895296\n",
      "Ya tenemos descargado 2313997\n",
      "Ya tenemos descargado 2268193\n",
      "Ya tenemos descargado 2332337\n",
      "Ya tenemos descargado 2498661\n",
      "Ya tenemos descargado 6515077\n",
      "Ya tenemos descargado 6532763\n",
      "Ya tenemos descargado 5857958\n",
      "Ya tenemos descargado 6515399\n",
      "Ya tenemos descargado 4373317\n",
      "Ya tenemos descargado 2239700\n",
      "Ya tenemos descargado 6503654\n",
      "Ya tenemos descargado 4963737\n",
      "Ya tenemos descargado 2331809\n",
      "Ya tenemos descargado 11370137\n",
      "Ya tenemos descargado 2250506\n",
      "Ya tenemos descargado 6528548\n",
      "Ya tenemos descargado 2509675\n",
      "Ya tenemos descargado 4985469\n",
      "Ya tenemos descargado 2254446\n",
      "Ya tenemos descargado 2274124\n",
      "Ya tenemos descargado 2243084\n",
      "Ya tenemos descargado 2272693\n",
      "Ya tenemos descargado 2268452\n",
      "Ya tenemos descargado 2244239\n",
      "Ya tenemos descargado 5721297\n",
      "Ya tenemos descargado 2509754\n",
      "Ya tenemos descargado 5196889\n",
      "Ya tenemos descargado 5197528Ya tenemos descargado 4364908\n",
      "\n",
      "Ya tenemos descargado 4985480\n",
      "Ya tenemos descargado 4368063\n",
      "Ya tenemos descargado 2240630\n",
      "Ya tenemos descargado 2115711\n",
      "Ya tenemos descargado 6533727\n",
      "Ya tenemos descargado 5177495\n",
      "Ya tenemos descargado 1553398\n",
      "Ya tenemos descargado 2162430\n",
      "Ya tenemos descargado 6920814\n",
      "Ya tenemos descargado 2157530\n",
      "Ya tenemos descargado 2154645\n",
      "Ya tenemos descargado 2157533\n",
      "Ya tenemos descargado 2154642\n",
      "Ya tenemos descargado 2154920\n",
      "Ya tenemos descargado 2137074\n",
      "Ya tenemos descargado 2136754\n",
      "Ya tenemos descargado 2134305\n",
      "Ya tenemos descargado 1568077\n",
      "Ya tenemos descargado 2157535\n",
      "Ya tenemos descargado 2154515\n",
      "Ya tenemos descargado 4364749\n",
      "Ya tenemos descargado 2006561\n",
      "Ya tenemos descargado 6496803\n",
      "Ya tenemos descargado 5860021\n",
      "Ya tenemos descargado 6511659\n",
      "Ya tenemos descargado 4315442\n",
      "Ya tenemos descargado 4360387\n",
      "Ya tenemos descargado 4315462\n",
      "Ya tenemos descargado 2252597\n",
      "Ya tenemos descargado 5183841\n",
      "Ya tenemos descargado 2252416\n",
      "Ya tenemos descargado 11204671\n",
      "Ya tenemos descargado 2118412\n",
      "Ya tenemos descargado 2117934\n",
      "Ya tenemos descargado 2118139\n",
      "Ya tenemos descargado 2117307\n",
      "Ya tenemos descargado 2117496\n",
      "Ya tenemos descargado 2117788\n"
     ]
    },
    {
     "name": "stderr",
     "output_type": "stream",
     "text": [
      " 22%|████████▋                              | 452/2026 [00:00<00:02, 696.22it/s]"
     ]
    },
    {
     "name": "stdout",
     "output_type": "stream",
     "text": [
      "Ya tenemos descargado 7532273\n",
      "Ya tenemos descargado 8099956\n",
      "Ya tenemos descargado 8752317\n",
      "Ya tenemos descargado 7435865\n",
      "Ya tenemos descargado 5798152\n",
      "Ya tenemos descargado 4331721\n",
      "Ya tenemos descargado 2269753\n",
      "Ya tenemos descargado 8480761\n",
      "Ya tenemos descargado 6528991\n",
      "Ya tenemos descargado 6504181\n",
      "Ya tenemos descargado 4374888\n",
      "Ya tenemos descargado 4959210\n",
      "Ya tenemos descargado 6141704\n",
      "Ya tenemos descargado 6516431\n",
      "Ya tenemos descargado 2306079\n",
      "Ya tenemos descargado 5860022\n",
      "Ya tenemos descargado 9136857\n",
      "Ya tenemos descargado 4360064\n",
      "Ya tenemos descargado 6516180\n",
      "Ya tenemos descargado 4371386\n",
      "Ya tenemos descargado 2439838\n",
      "Ya tenemos descargado 6515080\n",
      "Ya tenemos descargado 9270189\n",
      "Ya tenemos descargado 5218774\n",
      "Ya tenemos descargado 1537304\n",
      "Ya tenemos descargado 1330739\n",
      "Ya tenemos descargado 1424982\n",
      "Ya tenemos descargado 2481666\n",
      "Ya tenemos descargado 1340503\n",
      "Ya tenemos descargado 2485049\n",
      "Ya tenemos descargado 2141252\n",
      "Ya tenemos descargado 2495414\n",
      "Ya tenemos descargado 8538810\n",
      "Ya tenemos descargado 5781277\n",
      "Ya tenemos descargado 5220086\n",
      "Ya tenemos descargado 7870374\n",
      "Ya tenemos descargado 2436940\n",
      "Ya tenemos descargado 10128202\n",
      "Ya tenemos descargado 7349411\n",
      "Ya tenemos descargado 7958346\n",
      "Ya tenemos descargado 10869332\n",
      "Ya tenemos descargado 5169193\n",
      "Ya tenemos descargado 2440440\n",
      "Ya tenemos descargado 1920612\n",
      "Ya tenemos descargado 2351271\n",
      "Ya tenemos descargado 1311671\n",
      "Ya tenemos descargado 2433480\n",
      "Ya tenemos descargado 4341595\n",
      "Ya tenemos descargado 1421091\n",
      "Ya tenemos descargado 5231683\n",
      "Ya tenemos descargado 9414015\n",
      "Ya tenemos descargado 1502577\n",
      "Ya tenemos descargado 5789302\n",
      "Ya tenemos descargado 2274280\n",
      "Ya tenemos descargado 6504361\n",
      "Ya tenemos descargado 2147427\n",
      "Ya tenemos descargado 2440886\n",
      "Ya tenemos descargado 5220077\n",
      "Ya tenemos descargado 2440728\n",
      "Ya tenemos descargado 2256602\n",
      "Ya tenemos descargado 10376962\n",
      "Ya tenemos descargado 8468024\n",
      "Ya tenemos descargado 5855963\n",
      "Ya tenemos descargado 2115706\n",
      "Ya tenemos descargado 8901990\n",
      "Ya tenemos descargado 2257877\n",
      "Ya tenemos descargado 1651316\n",
      "Ya tenemos descargado 10615631\n",
      "Ya tenemos descargado 2385875\n",
      "Ya tenemos descargado 2268160\n",
      "Ya tenemos descargado 2272708\n",
      "Ya tenemos descargado 2441022\n",
      "Ya tenemos descargado 2277665\n",
      "Ya tenemos descargado 2476817\n",
      "Ya tenemos descargado 6519187\n",
      "Ya tenemos descargado 2385859\n",
      "Ya tenemos descargado 6519858\n",
      "Ya tenemos descargado 5857972\n",
      "Ya tenemos descargado 2331337\n",
      "Ya tenemos descargado 10573570\n",
      "Ya tenemos descargado 5200877\n",
      "Ya tenemos descargado 2440709\n",
      "Ya tenemos descargado 4265953\n",
      "Ya tenemos descargado 2213580\n",
      "Ya tenemos descargado 8737143\n",
      "Ya tenemos descargado 4613674\n",
      "Ya tenemos descargado 4311474\n",
      "Ya tenemos descargado 2289497\n",
      "Ya tenemos descargado 2495293\n",
      "Ya tenemos descargado 2434762\n",
      "Ya tenemos descargado 6518896\n",
      "Ya tenemos descargado 5962011\n",
      "Ya tenemos descargado 2331330\n",
      "Ya tenemos descargado 5724747\n",
      "Ya tenemos descargado 2101485\n",
      "Ya tenemos descargado 5201651\n",
      "Ya tenemos descargado 2385936\n"
     ]
    },
    {
     "name": "stderr",
     "output_type": "stream",
     "text": [
      " 26%|██████████                             | 522/2026 [00:00<00:02, 669.21it/s]"
     ]
    },
    {
     "name": "stdout",
     "output_type": "stream",
     "text": [
      "Ya tenemos descargado 8175985Ya tenemos descargado 2270886\n",
      "\n",
      "Ya tenemos descargado 2435035\n",
      "Ya tenemos descargado 6520755\n",
      "Ya tenemos descargado 8209553\n",
      "Ya tenemos descargado 2256333\n",
      "Ya tenemos descargado 5818785\n",
      "Ya tenemos descargado 2481622\n",
      "Ya tenemos descargado 1282610\n",
      "Ya tenemos descargado 7360433\n",
      "Ya tenemos descargado 11212388\n",
      "Ya tenemos descargado 2381183\n",
      "Ya tenemos descargado 5185449\n",
      "Ya tenemos descargado 9568884\n",
      "Ya tenemos descargado 6519147\n",
      "Ya tenemos descargado 4341911\n",
      "Ya tenemos descargado 2481643\n",
      "Ya tenemos descargado 9323881\n",
      "Ya tenemos descargado 2295438\n",
      "Ya tenemos descargado 1828985\n",
      "Ya tenemos descargado 2266110\n",
      "Ya tenemos descargado 7429082\n",
      "Ya tenemos descargado 2481664\n",
      "Ya tenemos descargado 1397898\n",
      "Ya tenemos descargado 2271610\n",
      "Ya tenemos descargado 6455507\n",
      "Ya tenemos descargado 5846430\n",
      "Ya tenemos descargado 2481720\n",
      "Ya tenemos descargado 5204034\n",
      "Ya tenemos descargado 2206802\n",
      "Ya tenemos descargado 2242141\n",
      "Ya tenemos descargado 2294097\n",
      "Ya tenemos descargado 2478271\n",
      "Descargando 2480273\n",
      "Ya tenemos descargado 2481979\n",
      "Ya tenemos descargado 2389924\n",
      "Ya tenemos descargado 2380701\n",
      "Ya tenemos descargado 5229320\n",
      "Ya tenemos descargado 2498036\n",
      "Ya tenemos descargado 2264661\n",
      "Ya tenemos descargado 5858758\n",
      "Ya tenemos descargado 5219173\n",
      "Ya tenemos descargado 2157245\n",
      "Ya tenemos descargado 5971538\n",
      "Ya tenemos descargado 2306080\n",
      "Ya tenemos descargado 9048967\n",
      "Ya tenemos descargado 6519190\n",
      "Ya tenemos descargado 2481597\n",
      "Ya tenemos descargado 5183974\n",
      "Ya tenemos descargado 2481680\n",
      "Ya tenemos descargado 6284337\n",
      "Ya tenemos descargado 5862474\n",
      "Descargando 5818765\n",
      "Descargando 2481418\n",
      "Descargando 7488808\n",
      "Descargando 1350163\n",
      "Descargando 5185417\n",
      "Descargando 6518983\n",
      "Descargando 5214305\n",
      "Descargando 2382427\n",
      "Descargando 2289503\n",
      "Descargando 5214265\n"
     ]
    },
    {
     "name": "stderr",
     "output_type": "stream",
     "text": [
      " 26%|██████████                             | 522/2026 [00:19<00:02, 669.21it/s]"
     ]
    },
    {
     "name": "stdout",
     "output_type": "stream",
     "text": [
      "Descargando 2331059\n",
      "Descargando 4985007\n",
      "Descargando 2474390\n",
      "Descargando 2498275\n",
      "Descargando 1101322\n",
      "Descargando 1970556\n",
      "Descargando 5229693\n",
      "Descargando 5185492\n",
      "Descargando 2381177\n",
      "Descargando 2498620\n",
      "Descargando 5231682\n",
      "Descargando 4850140\n",
      "Descargando 2300804\n",
      "Descargando 2398026\n",
      "Descargando 2115743\n",
      "Descargando 5229230\n",
      "Descargando 5229390\n",
      "Descargando 2481621\n",
      "Descargando 2385855\n",
      "Descargando 2159445\n",
      "Descargando 2489169\n",
      "Descargando 1156483\n",
      "Descargando 1043082\n",
      "Descargando 5231076\n",
      "Descargando 5972893\n",
      "Descargando 4331756\n",
      "Descargando 2481807\n",
      "Descargando 1447020\n",
      "Descargando 5231068\n",
      "Descargando 5789380\n"
     ]
    },
    {
     "name": "stderr",
     "output_type": "stream",
     "text": [
      " 27%|██████████▎                           | 553/2026 [12:19<1:37:51,  3.99s/it]"
     ]
    },
    {
     "name": "stdout",
     "output_type": "stream",
     "text": [
      "Descargando 5166639\n",
      "Descargando 2306129\n",
      "Descargando 2233183\n",
      "Descargando 5195301\n",
      "Descargando 2434784\n",
      "Descargando 5229327\n",
      "Descargando 1456676\n",
      "Descargando 2266777\n",
      "Descargando 9038588\n",
      "Descargando 2481776\n",
      "Descargando 2398040\n",
      "Descargando 2480328\n",
      "Descargando 2336229\n",
      "Descargando 5233174\n",
      "Descargando 5233171\n",
      "Descargando 6472010\n",
      "Descargando 6518637\n",
      "Descargando 1311649\n",
      "Descargando 7672900\n",
      "Descargando 5986176\n",
      "Descargando 7763669\n",
      "Descargando 7825905\n",
      "Descargando 5986163\n",
      "Descargando 5986156\n",
      "Descargando 5986144\n",
      "Descargando 5986157\n",
      "Descargando 5986154\n",
      "Descargando 2154613\n",
      "Descargando 8784600\n",
      "Descargando 6530106\n",
      "Descargando 6141645\n",
      "Descargando 4312593\n",
      "Descargando 7835390\n",
      "Descargando 2268711\n",
      "Descargando 4374448\n",
      "Descargando 2207319\n",
      "Descargando 6530170\n",
      "Descargando 7810994\n",
      "Descargando 2274275\n",
      "Descargando 2257348\n",
      "Descargando 4373445\n",
      "Descargando 2418405\n",
      "Descargando 2268638\n",
      "Descargando 2203085\n",
      "Descargando 6523506\n",
      "Descargando 2222687\n",
      "Descargando 2285983\n",
      "Descargando 2311206\n",
      "Descargando 4314463\n",
      "Descargando 8032210\n",
      "Descargando 7781923\n",
      "Descargando 10871958\n",
      "Descargando 9171410\n",
      "Descargando 10804892\n",
      "Descargando 10763461\n",
      "Descargando 8231413\n",
      "Descargando 10860523\n",
      "Descargando 10819033\n",
      "Descargando 10696379\n",
      "Descargando 5797931\n",
      "Descargando 5190768\n",
      "Descargando 5190769\n",
      "Descargando 9035360\n",
      "Descargando 10776369\n",
      "Descargando 8938440\n",
      "Descargando 8924475\n",
      "Descargando 8759229\n",
      "Descargando 7835806\n",
      "Descargando 7401908\n",
      "Descargando 8023822\n",
      "Descargando 4811694\n",
      "Descargando 9475144\n",
      "Descargando 9320759\n",
      "Descargando 9488181\n",
      "Descargando 5194444\n",
      "Descargando 2309992\n",
      "Descargando 9477747\n",
      "Descargando 2275196\n",
      "Descargando 2274814\n",
      "Descargando 2309581\n",
      "Descargando 10897455\n",
      "Descargando 2309553\n",
      "Descargando 5855356\n",
      "Descargando 5721201\n",
      "Descargando 6473514\n",
      "Descargando 2262014\n",
      "Descargando 2498656\n",
      "Descargando 2480960\n"
     ]
    },
    {
     "name": "stderr",
     "output_type": "stream",
     "text": [
      " 30%|███████████▍                          | 611/2026 [16:43<1:38:07,  4.16s/it]"
     ]
    },
    {
     "name": "stdout",
     "output_type": "stream",
     "text": [
      "Descargando 4315129\n",
      "Descargando 6515771\n",
      "Descargando 9439858\n",
      "Descargando 4315441\n",
      "Descargando 2199911\n",
      "Descargando 2006540\n",
      "Descargando 2006518\n",
      "Descargando 2315068\n",
      "Descargando 2271143\n",
      "Descargando 2278431\n",
      "Descargando 2413473\n",
      "Descargando 10864301\n",
      "Descargando 4265096\n",
      "Descargando 2419781\n",
      "Descargando 5216239\n",
      "Descargando 5711876\n",
      "Descargando 4315443\n",
      "Descargando 7570815\n"
     ]
    },
    {
     "name": "stderr",
     "output_type": "stream",
     "text": [
      " 35%|██████████████▏                         | 717/2026 [17:07<50:50,  2.33s/it]"
     ]
    },
    {
     "name": "stdout",
     "output_type": "stream",
     "text": [
      "Descargando 2211809\n",
      "Descargando 5720544\n",
      "Descargando 6523335\n",
      "Descargando 7936004\n",
      "Descargando 6456105\n",
      "Descargando 2319965\n",
      "Descargando 2277836\n",
      "Descargando 10943166\n",
      "Descargando 7815303\n",
      "Descargando 5195147\n",
      "Descargando 2320766\n",
      "Descargando 2206459\n",
      "Descargando 4316058\n",
      "Descargando 5193831\n",
      "Descargando 4341411\n",
      "Descargando 8499989\n",
      "Descargando 6497831\n",
      "Descargando 6516497\n",
      "Descargando 5724629\n"
     ]
    },
    {
     "name": "stderr",
     "output_type": "stream",
     "text": [
      " 35%|██████████████▏                         | 717/2026 [17:20<50:50,  2.33s/it]"
     ]
    },
    {
     "name": "stdout",
     "output_type": "stream",
     "text": [
      "Descargando 6492589\n"
     ]
    },
    {
     "name": "stderr",
     "output_type": "stream",
     "text": [
      " 36%|██████████████▌                         | 736/2026 [17:21<45:19,  2.11s/it]"
     ]
    },
    {
     "name": "stdout",
     "output_type": "stream",
     "text": [
      "Descargando 5192068\n"
     ]
    },
    {
     "name": "stderr",
     "output_type": "stream",
     "text": [
      " 36%|██████████████▌                         | 737/2026 [17:21<44:53,  2.09s/it]"
     ]
    },
    {
     "name": "stdout",
     "output_type": "stream",
     "text": [
      "Descargando 6516340\n",
      "Descargando 6487898\n",
      "Descargando 2438277\n",
      "Descargando 5232118\n",
      "Descargando 10915216\n",
      "Descargando 2278818Descargando 4373875\n",
      "\n",
      "Descargando 6491030\n",
      "Descargando 6487867\n",
      "Descargando 6487864Descargando 6787192\n",
      "\n",
      "Descargando 9544180\n",
      "Descargando 6530225\n",
      "Descargando 2330050Descargando 4314386\n",
      "\n",
      "Descargando 4373278\n",
      "Descargando 2331520\n",
      "Descargando 4373274\n",
      "Descargando 2507647\n",
      "Descargando 5720354\n",
      "Descargando 5975030\n",
      "Descargando 2228250\n",
      "Descargando 2329803\n",
      "Descargando 2240368\n",
      "Descargando 2228581\n",
      "Descargando 2507657\n",
      "Descargando 6523824\n",
      "Descargando 7353178\n",
      "Descargando 2228462\n"
     ]
    },
    {
     "name": "stderr",
     "output_type": "stream",
     "text": [
      " 38%|███████████████                         | 766/2026 [17:40<35:01,  1.67s/it]"
     ]
    },
    {
     "name": "stdout",
     "output_type": "stream",
     "text": [
      "Descargando 4373117\n",
      "Descargando 2324059\n"
     ]
    },
    {
     "name": "stderr",
     "output_type": "stream",
     "text": [
      " 38%|███████████████▏                        | 768/2026 [17:41<34:18,  1.64s/it]"
     ]
    },
    {
     "name": "stdout",
     "output_type": "stream",
     "text": [
      "Descargando 5209494Descargando 2380893\n",
      "\n",
      "Descargando 2226770\n",
      "Descargando 2226763\n",
      "Descargando 8814263\n",
      "Descargando 4335937\n",
      "Descargando 2227598\n",
      "Descargando 9384540\n",
      "Descargando 2227884\n",
      "Descargando 2417051\n",
      "Descargando 2225767\n",
      "Descargando 2225810\n",
      "Descargando 5859828\n",
      "Descargando 2227711\n",
      "Descargando 5720353\n",
      "Descargando 2225745\n",
      "Descargando 6531379\n",
      "Descargando 4335941\n",
      "Descargando 2498667\n",
      "Descargando 2421013\n"
     ]
    },
    {
     "name": "stderr",
     "output_type": "stream",
     "text": [
      " 38%|███████████████▏                        | 768/2026 [18:00<34:18,  1.64s/it]"
     ]
    },
    {
     "name": "stdout",
     "output_type": "stream",
     "text": [
      "Descargando 4985186\n",
      "Descargando 5198382\n",
      "Descargando 6460471\n",
      "Descargando 5818788\n",
      "Descargando 2269834\n",
      "Descargando 5970113\n",
      "Descargando 2256290\n",
      "Descargando 2336335\n",
      "Descargando 2336129\n",
      "Descargando 5209503\n",
      "Descargando 5198465\n",
      "Descargando 4985222\n",
      "Descargando 2279123\n"
     ]
    },
    {
     "name": "stderr",
     "output_type": "stream",
     "text": [
      " 40%|███████████████▊                        | 802/2026 [18:32<29:04,  1.43s/it]"
     ]
    },
    {
     "name": "stdout",
     "output_type": "stream",
     "text": [
      "Descargando 6532920\n",
      "Descargando 2320783\n",
      "Descargando 10995493\n",
      "Descargando 10266090\n",
      "Descargando 2380854\n",
      "Descargando 2214732\n",
      "Descargando 10226822\n",
      "Descargando 4370073\n",
      "Descargando 2491832\n",
      "Descargando 4985012\n",
      "Descargando 7829493\n",
      "Descargando 6515360\n",
      "Descargando 2275613\n",
      "Descargando 2481513\n",
      "Descargando 2306618\n",
      "Descargando 6504625\n",
      "Descargando 8409457\n",
      "Descargando 4357878\n",
      "Descargando 6528902\n",
      "Descargando 5857943\n"
     ]
    },
    {
     "name": "stderr",
     "output_type": "stream",
     "text": [
      " 40%|███████████████▊                        | 802/2026 [18:50<29:04,  1.43s/it]"
     ]
    },
    {
     "name": "stdout",
     "output_type": "stream",
     "text": [
      "Descargando 8281952\n",
      "Descargando 8891473\n",
      "Descargando 6518337\n",
      "Descargando 2287177\n",
      "Descargando 4357841\n",
      "Descargando 6522608\n",
      "Descargando 4370077\n",
      "Descargando 6520142\n",
      "Descargando 2245594\n",
      "Descargando 2244516\n",
      "Descargando 2248672\n",
      "Descargando 5191406\n",
      "Descargando 4336365\n",
      "Descargando 4336345\n",
      "Descargando 6507620\n",
      "Descargando 9211907\n",
      "Descargando 6515389\n",
      "Descargando 6508869\n",
      "Descargando 9113971\n",
      "Descargando 6504044\n",
      "Descargando 9064518\n",
      "Descargando 4950069\n"
     ]
    },
    {
     "name": "stderr",
     "output_type": "stream",
     "text": [
      " 40%|████████████████                        | 811/2026 [19:18<41:21,  2.04s/it]"
     ]
    },
    {
     "name": "stdout",
     "output_type": "stream",
     "text": [
      "Descargando 6526445\n"
     ]
    },
    {
     "name": "stderr",
     "output_type": "stream",
     "text": [
      " 42%|████████████████▋                       | 844/2026 [19:19<21:43,  1.10s/it]"
     ]
    },
    {
     "name": "stdout",
     "output_type": "stream",
     "text": [
      "Descargando 6522631\n",
      "Descargando 6528149\n",
      "Descargando 6523345\n",
      "Descargando 5855731\n",
      "Descargando 2004873\n",
      "Descargando 4364489\n",
      "Descargando 5189523\n",
      "Descargando 2306081\n",
      "Descargando 5196396\n",
      "Descargando 2314954\n",
      "Descargando 5194517\n",
      "Descargando 5863725\n",
      "Descargando 9982356\n",
      "Descargando 5721191\n"
     ]
    },
    {
     "name": "stderr",
     "output_type": "stream",
     "text": [
      " 42%|████████████████▉                       | 859/2026 [19:28<19:24,  1.00it/s]"
     ]
    },
    {
     "name": "stdout",
     "output_type": "stream",
     "text": [
      "Descargando 2322964\n",
      "Descargando 4339075\n",
      "Descargando 5842764\n",
      "Descargando 4315080\n",
      "Descargando 2219421\n",
      "Descargando 2219420\n",
      "Descargando 4315059\n",
      "Descargando 4315399\n",
      "Descargando 6463842\n",
      "Descargando 4314861\n",
      "Descargando 6464670\n",
      "Descargando 4314898\n"
     ]
    },
    {
     "name": "stderr",
     "output_type": "stream",
     "text": [
      " 43%|█████████████████▏                      | 870/2026 [19:38<18:43,  1.03it/s]"
     ]
    },
    {
     "name": "stdout",
     "output_type": "stream",
     "text": [
      "Descargando 4314816\n",
      "Descargando 2219030\n",
      "Descargando 4314622\n",
      "Descargando 4315128Descargando 4315121\n",
      "\n",
      "Descargando 5717131Descargando 4315073\n",
      "\n"
     ]
    },
    {
     "name": "stderr",
     "output_type": "stream",
     "text": [
      " 43%|█████████████████▎                      | 878/2026 [19:43<17:34,  1.09it/s]"
     ]
    },
    {
     "name": "stdout",
     "output_type": "stream",
     "text": [
      "Descargando 4315065Descargando 4315071\n",
      "\n",
      "Descargando 4315072\n",
      "Descargando 4315064\n",
      "Descargando 2218284Descargando 4314846\n",
      "\n"
     ]
    },
    {
     "name": "stderr",
     "output_type": "stream",
     "text": [
      " 44%|█████████████████▍                      | 884/2026 [19:47<16:45,  1.14it/s]"
     ]
    },
    {
     "name": "stdout",
     "output_type": "stream",
     "text": [
      "Descargando 4316206\n",
      "Descargando 2216737\n",
      "Descargando 2216798\n",
      "Descargando 5717349\n",
      "Descargando 5178003\n"
     ]
    },
    {
     "name": "stderr",
     "output_type": "stream",
     "text": [
      " 44%|█████████████████▌                      | 888/2026 [19:51<17:03,  1.11it/s]"
     ]
    },
    {
     "name": "stdout",
     "output_type": "stream",
     "text": [
      "Descargando 4316314\n",
      "Descargando 2218291\n"
     ]
    },
    {
     "name": "stderr",
     "output_type": "stream",
     "text": [
      " 44%|█████████████████▌                      | 891/2026 [19:53<16:30,  1.15it/s]"
     ]
    },
    {
     "name": "stdout",
     "output_type": "stream",
     "text": [
      "Descargando 2217219\n",
      "Descargando 2216676\n",
      "Descargando 4316472\n",
      "Descargando 4316223\n"
     ]
    },
    {
     "name": "stderr",
     "output_type": "stream",
     "text": [
      " 44%|█████████████████▋                      | 895/2026 [19:57<15:45,  1.20it/s]"
     ]
    },
    {
     "name": "stdout",
     "output_type": "stream",
     "text": [
      "Descargando 9507868\n",
      "Descargando 4314980\n",
      "Descargando 4316459\n"
     ]
    },
    {
     "name": "stderr",
     "output_type": "stream",
     "text": [
      " 44%|█████████████████▋                      | 897/2026 [19:58<15:46,  1.19it/s]"
     ]
    },
    {
     "name": "stdout",
     "output_type": "stream",
     "text": [
      "Descargando 4316458\n"
     ]
    },
    {
     "name": "stderr",
     "output_type": "stream",
     "text": [
      " 44%|█████████████████▋                      | 898/2026 [19:59<15:03,  1.25it/s]"
     ]
    },
    {
     "name": "stdout",
     "output_type": "stream",
     "text": [
      "Descargando 4316048\n"
     ]
    },
    {
     "name": "stderr",
     "output_type": "stream",
     "text": [
      " 44%|█████████████████▋                      | 899/2026 [20:00<15:41,  1.20it/s]"
     ]
    },
    {
     "name": "stdout",
     "output_type": "stream",
     "text": [
      "Descargando 4316149\n"
     ]
    },
    {
     "name": "stderr",
     "output_type": "stream",
     "text": [
      " 44%|█████████████████▊                      | 900/2026 [20:00<14:36,  1.29it/s]"
     ]
    },
    {
     "name": "stdout",
     "output_type": "stream",
     "text": [
      "Descargando 4315231\n"
     ]
    },
    {
     "name": "stderr",
     "output_type": "stream",
     "text": [
      " 44%|█████████████████▊                      | 901/2026 [20:01<15:05,  1.24it/s]"
     ]
    },
    {
     "name": "stdout",
     "output_type": "stream",
     "text": [
      "Descargando 4316244\n"
     ]
    },
    {
     "name": "stderr",
     "output_type": "stream",
     "text": [
      " 45%|█████████████████▊                      | 902/2026 [20:02<12:56,  1.45it/s]"
     ]
    },
    {
     "name": "stdout",
     "output_type": "stream",
     "text": [
      "Descargando 2218966\n"
     ]
    },
    {
     "name": "stderr",
     "output_type": "stream",
     "text": [
      " 45%|█████████████████▊                      | 903/2026 [20:02<14:08,  1.32it/s]"
     ]
    },
    {
     "name": "stdout",
     "output_type": "stream",
     "text": [
      "Descargando 4314743\n"
     ]
    },
    {
     "name": "stderr",
     "output_type": "stream",
     "text": [
      " 45%|█████████████████▊                      | 904/2026 [20:03<12:06,  1.54it/s]"
     ]
    },
    {
     "name": "stdout",
     "output_type": "stream",
     "text": [
      "Descargando 5177974\n"
     ]
    },
    {
     "name": "stderr",
     "output_type": "stream",
     "text": [
      " 45%|█████████████████▊                      | 905/2026 [20:04<13:23,  1.39it/s]"
     ]
    },
    {
     "name": "stdout",
     "output_type": "stream",
     "text": [
      "Descargando 4315358\n"
     ]
    },
    {
     "name": "stderr",
     "output_type": "stream",
     "text": [
      " 45%|█████████████████▉                      | 906/2026 [20:04<11:52,  1.57it/s]"
     ]
    },
    {
     "name": "stdout",
     "output_type": "stream",
     "text": [
      "Descargando 2218327\n"
     ]
    },
    {
     "name": "stderr",
     "output_type": "stream",
     "text": [
      " 45%|█████████████████▉                      | 907/2026 [20:05<14:25,  1.29it/s]"
     ]
    },
    {
     "name": "stdout",
     "output_type": "stream",
     "text": [
      "Descargando 7744186Descargando 9563866\n",
      "\n"
     ]
    },
    {
     "name": "stderr",
     "output_type": "stream",
     "text": [
      " 45%|█████████████████▉                      | 909/2026 [20:07<13:10,  1.41it/s]"
     ]
    },
    {
     "name": "stdout",
     "output_type": "stream",
     "text": [
      "Descargando 4314894\n",
      "Descargando 4315519\n"
     ]
    },
    {
     "name": "stderr",
     "output_type": "stream",
     "text": [
      " 45%|█████████████████▉                      | 911/2026 [20:08<14:37,  1.27it/s]"
     ]
    },
    {
     "name": "stdout",
     "output_type": "stream",
     "text": [
      "Descargando 4315521\n",
      "Descargando 4315522\n"
     ]
    },
    {
     "name": "stderr",
     "output_type": "stream",
     "text": [
      " 45%|██████████████████                      | 913/2026 [20:10<13:28,  1.38it/s]"
     ]
    },
    {
     "name": "stdout",
     "output_type": "stream",
     "text": [
      "Descargando 4314746Descargando 9201392\n",
      "\n",
      "Descargando 2508424\n"
     ]
    },
    {
     "name": "stderr",
     "output_type": "stream",
     "text": [
      " 45%|██████████████████                      | 915/2026 [20:11<13:56,  1.33it/s]"
     ]
    },
    {
     "name": "stdout",
     "output_type": "stream",
     "text": [
      "Descargando 2507388\n"
     ]
    },
    {
     "name": "stderr",
     "output_type": "stream",
     "text": [
      " 45%|██████████████████                      | 917/2026 [20:12<11:53,  1.55it/s]"
     ]
    },
    {
     "name": "stdout",
     "output_type": "stream",
     "text": [
      "Descargando 7470872\n"
     ]
    },
    {
     "name": "stderr",
     "output_type": "stream",
     "text": [
      " 45%|██████████████████                      | 918/2026 [20:12<10:50,  1.70it/s]"
     ]
    },
    {
     "name": "stdout",
     "output_type": "stream",
     "text": [
      "Descargando 2112132\n"
     ]
    },
    {
     "name": "stderr",
     "output_type": "stream",
     "text": [
      " 45%|██████████████████▏                     | 919/2026 [20:13<11:59,  1.54it/s]"
     ]
    },
    {
     "name": "stdout",
     "output_type": "stream",
     "text": [
      "Descargando 9667526\n"
     ]
    },
    {
     "name": "stderr",
     "output_type": "stream",
     "text": [
      " 45%|██████████████████▏                     | 920/2026 [20:14<10:31,  1.75it/s]"
     ]
    },
    {
     "name": "stdout",
     "output_type": "stream",
     "text": [
      "Descargando 2113387\n"
     ]
    },
    {
     "name": "stderr",
     "output_type": "stream",
     "text": [
      " 45%|██████████████████▏                     | 921/2026 [20:14<12:07,  1.52it/s]"
     ]
    },
    {
     "name": "stdout",
     "output_type": "stream",
     "text": [
      "Descargando 2110968\n"
     ]
    },
    {
     "name": "stderr",
     "output_type": "stream",
     "text": [
      " 46%|██████████████████▏                     | 922/2026 [20:15<10:55,  1.69it/s]"
     ]
    },
    {
     "name": "stdout",
     "output_type": "stream",
     "text": [
      "Descargando 4320953\n"
     ]
    },
    {
     "name": "stderr",
     "output_type": "stream",
     "text": [
      " 46%|██████████████████▏                     | 923/2026 [20:16<12:03,  1.52it/s]"
     ]
    },
    {
     "name": "stdout",
     "output_type": "stream",
     "text": [
      "Descargando 4371408\n"
     ]
    },
    {
     "name": "stderr",
     "output_type": "stream",
     "text": [
      " 46%|██████████████████▏                     | 924/2026 [20:16<09:57,  1.84it/s]"
     ]
    },
    {
     "name": "stdout",
     "output_type": "stream",
     "text": [
      "Descargando 5728983\n"
     ]
    },
    {
     "name": "stderr",
     "output_type": "stream",
     "text": [
      " 46%|██████████████████▎                     | 926/2026 [20:17<10:23,  1.76it/s]"
     ]
    },
    {
     "name": "stdout",
     "output_type": "stream",
     "text": [
      "Descargando 10263426\n",
      "Descargando 2293582\n"
     ]
    },
    {
     "name": "stderr",
     "output_type": "stream",
     "text": [
      " 46%|██████████████████▎                     | 927/2026 [20:18<13:20,  1.37it/s]"
     ]
    },
    {
     "name": "stdout",
     "output_type": "stream",
     "text": [
      "Descargando 5728503Descargando 2252460\n",
      "\n"
     ]
    },
    {
     "name": "stderr",
     "output_type": "stream",
     "text": [
      " 46%|██████████████████▎                     | 929/2026 [20:20<12:13,  1.49it/s]"
     ]
    },
    {
     "name": "stdout",
     "output_type": "stream",
     "text": [
      "Descargando 5717397\n",
      "Descargando 5194822\n"
     ]
    },
    {
     "name": "stderr",
     "output_type": "stream",
     "text": [
      " 46%|██████████████████▍                     | 931/2026 [20:21<12:18,  1.48it/s]"
     ]
    },
    {
     "name": "stdout",
     "output_type": "stream",
     "text": [
      "Descargando 2316789\n",
      "Descargando 2309361\n"
     ]
    },
    {
     "name": "stderr",
     "output_type": "stream",
     "text": [
      " 46%|██████████████████▍                     | 933/2026 [20:22<12:35,  1.45it/s]"
     ]
    },
    {
     "name": "stdout",
     "output_type": "stream",
     "text": [
      "Descargando 5198896\n",
      "Descargando 2315415\n"
     ]
    },
    {
     "name": "stderr",
     "output_type": "stream",
     "text": [
      " 46%|██████████████████▍                     | 935/2026 [20:24<12:05,  1.50it/s]"
     ]
    },
    {
     "name": "stdout",
     "output_type": "stream",
     "text": [
      "Descargando 8306183\n",
      "Descargando 2317487\n",
      "Descargando 2316994\n"
     ]
    },
    {
     "name": "stderr",
     "output_type": "stream",
     "text": [
      " 46%|██████████████████▍                     | 937/2026 [20:26<13:33,  1.34it/s]"
     ]
    },
    {
     "name": "stdout",
     "output_type": "stream",
     "text": [
      "Descargando 2323320\n"
     ]
    },
    {
     "name": "stderr",
     "output_type": "stream",
     "text": [
      " 46%|██████████████████▌                     | 939/2026 [20:26<11:53,  1.52it/s]"
     ]
    },
    {
     "name": "stdout",
     "output_type": "stream",
     "text": [
      "Descargando 7954741\n"
     ]
    },
    {
     "name": "stderr",
     "output_type": "stream",
     "text": [
      " 46%|██████████████████▌                     | 940/2026 [20:27<10:47,  1.68it/s]"
     ]
    },
    {
     "name": "stdout",
     "output_type": "stream",
     "text": [
      "Descargando 2117379\n"
     ]
    },
    {
     "name": "stderr",
     "output_type": "stream",
     "text": [
      " 46%|██████████████████▌                     | 941/2026 [20:28<11:59,  1.51it/s]"
     ]
    },
    {
     "name": "stdout",
     "output_type": "stream",
     "text": [
      "Descargando 2118242\n"
     ]
    },
    {
     "name": "stderr",
     "output_type": "stream",
     "text": [
      " 46%|██████████████████▌                     | 942/2026 [20:28<11:35,  1.56it/s]"
     ]
    },
    {
     "name": "stdout",
     "output_type": "stream",
     "text": [
      "Descargando 5220792\n"
     ]
    },
    {
     "name": "stderr",
     "output_type": "stream",
     "text": [
      " 47%|██████████████████▌                     | 943/2026 [20:29<11:33,  1.56it/s]"
     ]
    },
    {
     "name": "stdout",
     "output_type": "stream",
     "text": [
      "Descargando 4364754\n"
     ]
    },
    {
     "name": "stderr",
     "output_type": "stream",
     "text": [
      " 47%|██████████████████▋                     | 944/2026 [20:30<11:26,  1.57it/s]"
     ]
    },
    {
     "name": "stdout",
     "output_type": "stream",
     "text": [
      "Descargando 5858005\n"
     ]
    },
    {
     "name": "stderr",
     "output_type": "stream",
     "text": [
      " 47%|██████████████████▋                     | 945/2026 [20:30<12:38,  1.42it/s]"
     ]
    },
    {
     "name": "stdout",
     "output_type": "stream",
     "text": [
      "Descargando 2316836\n"
     ]
    },
    {
     "name": "stderr",
     "output_type": "stream",
     "text": [
      " 47%|██████████████████▋                     | 946/2026 [20:31<10:31,  1.71it/s]"
     ]
    },
    {
     "name": "stdout",
     "output_type": "stream",
     "text": [
      "Descargando 5195375\n"
     ]
    },
    {
     "name": "stderr",
     "output_type": "stream",
     "text": [
      " 47%|██████████████████▋                     | 947/2026 [20:32<11:43,  1.53it/s]"
     ]
    },
    {
     "name": "stdout",
     "output_type": "stream",
     "text": [
      "Descargando 4336358\n"
     ]
    },
    {
     "name": "stderr",
     "output_type": "stream",
     "text": [
      " 47%|██████████████████▋                     | 948/2026 [20:32<09:47,  1.83it/s]"
     ]
    },
    {
     "name": "stdout",
     "output_type": "stream",
     "text": [
      "Descargando 9414392\n"
     ]
    },
    {
     "name": "stderr",
     "output_type": "stream",
     "text": [
      " 47%|██████████████████▊                     | 950/2026 [20:33<10:23,  1.72it/s]"
     ]
    },
    {
     "name": "stdout",
     "output_type": "stream",
     "text": [
      "Descargando 10294343\n",
      "Descargando 2213658\n"
     ]
    },
    {
     "name": "stderr",
     "output_type": "stream",
     "text": [
      " 47%|██████████████████▊                     | 951/2026 [20:34<13:31,  1.33it/s]"
     ]
    },
    {
     "name": "stdout",
     "output_type": "stream",
     "text": [
      "Descargando 8076439\n",
      "Descargando 2276554\n"
     ]
    },
    {
     "name": "stderr",
     "output_type": "stream",
     "text": [
      " 47%|██████████████████▊                     | 953/2026 [20:36<12:46,  1.40it/s]"
     ]
    },
    {
     "name": "stdout",
     "output_type": "stream",
     "text": [
      "Descargando 6520281Descargando 9793556\n",
      "\n"
     ]
    },
    {
     "name": "stderr",
     "output_type": "stream",
     "text": [
      " 47%|██████████████████▊                     | 955/2026 [20:37<11:54,  1.50it/s]"
     ]
    },
    {
     "name": "stdout",
     "output_type": "stream",
     "text": [
      "Descargando 11153153Descargando 2306574\n",
      "\n"
     ]
    },
    {
     "name": "stderr",
     "output_type": "stream",
     "text": [
      " 47%|██████████████████▉                     | 957/2026 [20:38<11:22,  1.57it/s]"
     ]
    },
    {
     "name": "stdout",
     "output_type": "stream",
     "text": [
      "Descargando 6528710\n",
      "Descargando 9537164\n"
     ]
    },
    {
     "name": "stderr",
     "output_type": "stream",
     "text": [
      " 47%|██████████████████▉                     | 959/2026 [20:39<11:22,  1.56it/s]"
     ]
    },
    {
     "name": "stdout",
     "output_type": "stream",
     "text": [
      "Descargando 6498015\n",
      "Descargando 6504183\n"
     ]
    },
    {
     "name": "stderr",
     "output_type": "stream",
     "text": [
      " 47%|██████████████████▉                     | 961/2026 [20:41<12:56,  1.37it/s]"
     ]
    },
    {
     "name": "stdout",
     "output_type": "stream",
     "text": [
      "Descargando 2293553\n",
      "Descargando 6523330\n"
     ]
    },
    {
     "name": "stderr",
     "output_type": "stream",
     "text": [
      " 48%|███████████████████                     | 963/2026 [20:42<12:03,  1.47it/s]"
     ]
    },
    {
     "name": "stdout",
     "output_type": "stream",
     "text": [
      "Descargando 2267980\n",
      "Descargando 2268703\n"
     ]
    },
    {
     "name": "stderr",
     "output_type": "stream",
     "text": [
      " 48%|███████████████████                     | 965/2026 [20:44<11:53,  1.49it/s]"
     ]
    },
    {
     "name": "stdout",
     "output_type": "stream",
     "text": [
      "Descargando 5188828\n",
      "Descargando 4365151\n"
     ]
    },
    {
     "name": "stderr",
     "output_type": "stream",
     "text": [
      " 48%|███████████████████                     | 967/2026 [20:45<11:17,  1.56it/s]"
     ]
    },
    {
     "name": "stdout",
     "output_type": "stream",
     "text": [
      "Descargando 4616999Descargando 5193173\n",
      "\n"
     ]
    },
    {
     "name": "stderr",
     "output_type": "stream",
     "text": [
      " 48%|███████████████████▏                    | 969/2026 [20:46<10:37,  1.66it/s]"
     ]
    },
    {
     "name": "stdout",
     "output_type": "stream",
     "text": [
      "Descargando 6515407\n",
      "Descargando 4364199\n"
     ]
    },
    {
     "name": "stderr",
     "output_type": "stream",
     "text": [
      " 48%|███████████████████▏                    | 971/2026 [20:47<10:56,  1.61it/s]"
     ]
    },
    {
     "name": "stdout",
     "output_type": "stream",
     "text": [
      "Descargando 8086236\n",
      "Descargando 2306710\n"
     ]
    },
    {
     "name": "stderr",
     "output_type": "stream",
     "text": [
      " 48%|███████████████████▏                    | 973/2026 [20:49<11:11,  1.57it/s]"
     ]
    },
    {
     "name": "stdout",
     "output_type": "stream",
     "text": [
      "Descargando 5216910\n",
      "Descargando 1906715\n",
      "Descargando 9520321\n",
      "Descargando 1340388\n"
     ]
    },
    {
     "name": "stderr",
     "output_type": "stream",
     "text": [
      " 48%|███████████████████▏                    | 975/2026 [20:53<19:21,  1.11s/it]"
     ]
    },
    {
     "name": "stdout",
     "output_type": "stream",
     "text": [
      "Descargando 7781559\n",
      "Descargando 11198117\n",
      "Descargando 2440816\n",
      "Descargando 1867722\n"
     ]
    },
    {
     "name": "stderr",
     "output_type": "stream",
     "text": [
      " 48%|███████████████████▎                    | 978/2026 [21:02<33:35,  1.92s/it]"
     ]
    },
    {
     "name": "stdout",
     "output_type": "stream",
     "text": [
      "Descargando 2495160\n"
     ]
    },
    {
     "name": "stderr",
     "output_type": "stream",
     "text": [
      " 48%|███████████████████▍                    | 982/2026 [21:04<21:54,  1.26s/it]"
     ]
    },
    {
     "name": "stdout",
     "output_type": "stream",
     "text": [
      "Descargando 10760815\n",
      "Descargando 2073986\n",
      "Descargando 5216368\n",
      "Descargando 2434870\n",
      "Descargando 6519590\n",
      "Descargando 8215487\n",
      "Descargando 2393056\n",
      "Descargando 2481765\n",
      "Descargando 2481744\n",
      "Descargando 5229688\n",
      "Descargando 2489160\n",
      "Descargando 2486493\n"
     ]
    },
    {
     "name": "stderr",
     "output_type": "stream",
     "text": [
      " 49%|██████████████████▍                   | 983/2026 [21:56<2:18:32,  7.97s/it]"
     ]
    },
    {
     "name": "stdout",
     "output_type": "stream",
     "text": [
      "Descargando 2483719\n"
     ]
    },
    {
     "name": "stderr",
     "output_type": "stream",
     "text": [
      " 49%|███████████████████▌                    | 994/2026 [22:29<23:20,  1.36s/it]\n"
     ]
    },
    {
     "ename": "KeyboardInterrupt",
     "evalue": "",
     "output_type": "error",
     "traceback": [
      "\u001b[0;31m---------------------------------------------------------------------------\u001b[0m",
      "\u001b[0;31mKeyboardInterrupt\u001b[0m                         Traceback (most recent call last)",
      "\u001b[0;32m/var/folders/6p/swb9tk7j395cxz5qpxbl_yc00000gn/T/ipykernel_2490/1359175472.py\u001b[0m in \u001b[0;36m<module>\u001b[0;34m\u001b[0m\n\u001b[0;32m----> 1\u001b[0;31m \u001b[0mdescarga_muchas_especies\u001b[0m\u001b[0;34m(\u001b[0m\u001b[0mespecies\u001b[0m\u001b[0;34m)\u001b[0m\u001b[0;34m\u001b[0m\u001b[0;34m\u001b[0m\u001b[0m\n\u001b[0m",
      "\u001b[0;32m/var/folders/6p/swb9tk7j395cxz5qpxbl_yc00000gn/T/ipykernel_2490/3836208181.py\u001b[0m in \u001b[0;36mdescarga_muchas_especies\u001b[0;34m(especies)\u001b[0m\n\u001b[1;32m     12\u001b[0m \u001b[0;34m\u001b[0m\u001b[0m\n\u001b[1;32m     13\u001b[0m     \u001b[0;32mwith\u001b[0m \u001b[0mconcurrent\u001b[0m\u001b[0;34m.\u001b[0m\u001b[0mfutures\u001b[0m\u001b[0;34m.\u001b[0m\u001b[0mThreadPoolExecutor\u001b[0m\u001b[0;34m(\u001b[0m\u001b[0mmax_workers\u001b[0m\u001b[0;34m=\u001b[0m\u001b[0;36m2\u001b[0m\u001b[0;34m)\u001b[0m \u001b[0;32mas\u001b[0m \u001b[0mexecutor\u001b[0m\u001b[0;34m:\u001b[0m\u001b[0;34m\u001b[0m\u001b[0;34m\u001b[0m\u001b[0m\n\u001b[0;32m---> 14\u001b[0;31m         \u001b[0mlist\u001b[0m\u001b[0;34m(\u001b[0m\u001b[0mtqdm\u001b[0m\u001b[0;34m(\u001b[0m\u001b[0mexecutor\u001b[0m\u001b[0;34m.\u001b[0m\u001b[0mmap\u001b[0m\u001b[0;34m(\u001b[0m\u001b[0mdescargar_especie\u001b[0m\u001b[0;34m,\u001b[0m \u001b[0mespecies\u001b[0m\u001b[0;34m)\u001b[0m\u001b[0;34m,\u001b[0m \u001b[0mtotal\u001b[0m\u001b[0;34m=\u001b[0m\u001b[0mnum_especies\u001b[0m\u001b[0;34m)\u001b[0m\u001b[0;34m)\u001b[0m\u001b[0;34m\u001b[0m\u001b[0;34m\u001b[0m\u001b[0m\n\u001b[0m\u001b[1;32m     15\u001b[0m \u001b[0;34m\u001b[0m\u001b[0m\n",
      "\u001b[0;32m~/opt/anaconda3/lib/python3.9/site-packages/tqdm/std.py\u001b[0m in \u001b[0;36m__iter__\u001b[0;34m(self)\u001b[0m\n\u001b[1;32m   1193\u001b[0m \u001b[0;34m\u001b[0m\u001b[0m\n\u001b[1;32m   1194\u001b[0m         \u001b[0;32mtry\u001b[0m\u001b[0;34m:\u001b[0m\u001b[0;34m\u001b[0m\u001b[0;34m\u001b[0m\u001b[0m\n\u001b[0;32m-> 1195\u001b[0;31m             \u001b[0;32mfor\u001b[0m \u001b[0mobj\u001b[0m \u001b[0;32min\u001b[0m \u001b[0miterable\u001b[0m\u001b[0;34m:\u001b[0m\u001b[0;34m\u001b[0m\u001b[0;34m\u001b[0m\u001b[0m\n\u001b[0m\u001b[1;32m   1196\u001b[0m                 \u001b[0;32myield\u001b[0m \u001b[0mobj\u001b[0m\u001b[0;34m\u001b[0m\u001b[0;34m\u001b[0m\u001b[0m\n\u001b[1;32m   1197\u001b[0m                 \u001b[0;31m# Update and possibly print the progressbar.\u001b[0m\u001b[0;34m\u001b[0m\u001b[0;34m\u001b[0m\u001b[0m\n",
      "\u001b[0;32m~/opt/anaconda3/lib/python3.9/concurrent/futures/_base.py\u001b[0m in \u001b[0;36mresult_iterator\u001b[0;34m()\u001b[0m\n\u001b[1;32m    607\u001b[0m                     \u001b[0;31m# Careful not to keep a reference to the popped future\u001b[0m\u001b[0;34m\u001b[0m\u001b[0;34m\u001b[0m\u001b[0m\n\u001b[1;32m    608\u001b[0m                     \u001b[0;32mif\u001b[0m \u001b[0mtimeout\u001b[0m \u001b[0;32mis\u001b[0m \u001b[0;32mNone\u001b[0m\u001b[0;34m:\u001b[0m\u001b[0;34m\u001b[0m\u001b[0;34m\u001b[0m\u001b[0m\n\u001b[0;32m--> 609\u001b[0;31m                         \u001b[0;32myield\u001b[0m \u001b[0mfs\u001b[0m\u001b[0;34m.\u001b[0m\u001b[0mpop\u001b[0m\u001b[0;34m(\u001b[0m\u001b[0;34m)\u001b[0m\u001b[0;34m.\u001b[0m\u001b[0mresult\u001b[0m\u001b[0;34m(\u001b[0m\u001b[0;34m)\u001b[0m\u001b[0;34m\u001b[0m\u001b[0;34m\u001b[0m\u001b[0m\n\u001b[0m\u001b[1;32m    610\u001b[0m                     \u001b[0;32melse\u001b[0m\u001b[0;34m:\u001b[0m\u001b[0;34m\u001b[0m\u001b[0;34m\u001b[0m\u001b[0m\n\u001b[1;32m    611\u001b[0m                         \u001b[0;32myield\u001b[0m \u001b[0mfs\u001b[0m\u001b[0;34m.\u001b[0m\u001b[0mpop\u001b[0m\u001b[0;34m(\u001b[0m\u001b[0;34m)\u001b[0m\u001b[0;34m.\u001b[0m\u001b[0mresult\u001b[0m\u001b[0;34m(\u001b[0m\u001b[0mend_time\u001b[0m \u001b[0;34m-\u001b[0m \u001b[0mtime\u001b[0m\u001b[0;34m.\u001b[0m\u001b[0mmonotonic\u001b[0m\u001b[0;34m(\u001b[0m\u001b[0;34m)\u001b[0m\u001b[0;34m)\u001b[0m\u001b[0;34m\u001b[0m\u001b[0;34m\u001b[0m\u001b[0m\n",
      "\u001b[0;32m~/opt/anaconda3/lib/python3.9/concurrent/futures/_base.py\u001b[0m in \u001b[0;36mresult\u001b[0;34m(self, timeout)\u001b[0m\n\u001b[1;32m    439\u001b[0m                     \u001b[0;32mreturn\u001b[0m \u001b[0mself\u001b[0m\u001b[0;34m.\u001b[0m\u001b[0m__get_result\u001b[0m\u001b[0;34m(\u001b[0m\u001b[0;34m)\u001b[0m\u001b[0;34m\u001b[0m\u001b[0;34m\u001b[0m\u001b[0m\n\u001b[1;32m    440\u001b[0m \u001b[0;34m\u001b[0m\u001b[0m\n\u001b[0;32m--> 441\u001b[0;31m                 \u001b[0mself\u001b[0m\u001b[0;34m.\u001b[0m\u001b[0m_condition\u001b[0m\u001b[0;34m.\u001b[0m\u001b[0mwait\u001b[0m\u001b[0;34m(\u001b[0m\u001b[0mtimeout\u001b[0m\u001b[0;34m)\u001b[0m\u001b[0;34m\u001b[0m\u001b[0;34m\u001b[0m\u001b[0m\n\u001b[0m\u001b[1;32m    442\u001b[0m \u001b[0;34m\u001b[0m\u001b[0m\n\u001b[1;32m    443\u001b[0m                 \u001b[0;32mif\u001b[0m \u001b[0mself\u001b[0m\u001b[0;34m.\u001b[0m\u001b[0m_state\u001b[0m \u001b[0;32min\u001b[0m \u001b[0;34m[\u001b[0m\u001b[0mCANCELLED\u001b[0m\u001b[0;34m,\u001b[0m \u001b[0mCANCELLED_AND_NOTIFIED\u001b[0m\u001b[0;34m]\u001b[0m\u001b[0;34m:\u001b[0m\u001b[0;34m\u001b[0m\u001b[0;34m\u001b[0m\u001b[0m\n",
      "\u001b[0;32m~/opt/anaconda3/lib/python3.9/threading.py\u001b[0m in \u001b[0;36mwait\u001b[0;34m(self, timeout)\u001b[0m\n\u001b[1;32m    310\u001b[0m         \u001b[0;32mtry\u001b[0m\u001b[0;34m:\u001b[0m    \u001b[0;31m# restore state no matter what (e.g., KeyboardInterrupt)\u001b[0m\u001b[0;34m\u001b[0m\u001b[0;34m\u001b[0m\u001b[0m\n\u001b[1;32m    311\u001b[0m             \u001b[0;32mif\u001b[0m \u001b[0mtimeout\u001b[0m \u001b[0;32mis\u001b[0m \u001b[0;32mNone\u001b[0m\u001b[0;34m:\u001b[0m\u001b[0;34m\u001b[0m\u001b[0;34m\u001b[0m\u001b[0m\n\u001b[0;32m--> 312\u001b[0;31m                 \u001b[0mwaiter\u001b[0m\u001b[0;34m.\u001b[0m\u001b[0macquire\u001b[0m\u001b[0;34m(\u001b[0m\u001b[0;34m)\u001b[0m\u001b[0;34m\u001b[0m\u001b[0;34m\u001b[0m\u001b[0m\n\u001b[0m\u001b[1;32m    313\u001b[0m                 \u001b[0mgotit\u001b[0m \u001b[0;34m=\u001b[0m \u001b[0;32mTrue\u001b[0m\u001b[0;34m\u001b[0m\u001b[0;34m\u001b[0m\u001b[0m\n\u001b[1;32m    314\u001b[0m             \u001b[0;32melse\u001b[0m\u001b[0;34m:\u001b[0m\u001b[0;34m\u001b[0m\u001b[0;34m\u001b[0m\u001b[0m\n",
      "\u001b[0;31mKeyboardInterrupt\u001b[0m: "
     ]
    }
   ],
   "source": [
    "descarga_muchas_especies(especies)"
   ]
  },
  {
   "cell_type": "markdown",
   "id": "c3dc6582-05cc-4a01-91f8-fc498d451973",
   "metadata": {
    "tags": []
   },
   "source": [
    "# Generar las grillas de 1kmx1km para mapear"
   ]
  },
  {
   "cell_type": "code",
   "execution_count": null,
   "id": "90c8f2c4-85a2-498f-83d1-f7df8b51912f",
   "metadata": {},
   "outputs": [],
   "source": []
  }
 ],
 "metadata": {
  "kernelspec": {
   "display_name": "Python 3 (ipykernel)",
   "language": "python",
   "name": "python3"
  },
  "language_info": {
   "codemirror_mode": {
    "name": "ipython",
    "version": 3
   },
   "file_extension": ".py",
   "mimetype": "text/x-python",
   "name": "python",
   "nbconvert_exporter": "python",
   "pygments_lexer": "ipython3",
   "version": "3.9.13"
  }
 },
 "nbformat": 4,
 "nbformat_minor": 5
}
