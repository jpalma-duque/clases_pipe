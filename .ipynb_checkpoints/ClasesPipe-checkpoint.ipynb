{
 "cells": [
  {
   "cell_type": "markdown",
   "id": "ffc635fc-58c9-46dc-bfb9-ae11a217d049",
   "metadata": {
    "tags": []
   },
   "source": [
    "# Mi primer acercamiento a python"
   ]
  },
  {
   "cell_type": "markdown",
   "id": "29214a55-b00e-490e-aa4b-bd4afa4bba15",
   "metadata": {},
   "source": [
    "#### Variables"
   ]
  },
  {
   "cell_type": "markdown",
   "id": "afcdda88-7fbf-4298-8bae-85d83af383bb",
   "metadata": {},
   "source": [
    "Hay distintos tipos de variable:\n",
    "    \n",
    "    - numéricas\n",
    "    - string (object)\n",
    "    - fecha\n",
    "    - etc\n",
    "    \n",
    "Y hay distintas estructuras de datos:\n",
    "    \n",
    "    - listas\n",
    "    - conjuntos\n",
    "    - diccionarios "
   ]
  },
  {
   "cell_type": "code",
   "execution_count": 1,
   "id": "7753e471-0e27-4d58-a5ec-bdd6224e8583",
   "metadata": {},
   "outputs": [],
   "source": [
    "a = 10\n",
    "b = 1/7\n",
    "c = 'palabrita' # \"palabrita\" #string\n",
    "d = \"2020-01-01\""
   ]
  },
  {
   "cell_type": "code",
   "execution_count": 2,
   "id": "0a5e0c10-b62f-48e9-bc25-dc74612f8ac3",
   "metadata": {},
   "outputs": [
    {
     "data": {
      "text/plain": [
       "int"
      ]
     },
     "execution_count": 2,
     "metadata": {},
     "output_type": "execute_result"
    }
   ],
   "source": [
    "type(a)"
   ]
  },
  {
   "cell_type": "code",
   "execution_count": 3,
   "id": "054b3c81-27d9-40f6-b3a9-ddf63471a487",
   "metadata": {},
   "outputs": [
    {
     "data": {
      "text/plain": [
       "float"
      ]
     },
     "execution_count": 3,
     "metadata": {},
     "output_type": "execute_result"
    }
   ],
   "source": [
    "type(b)"
   ]
  },
  {
   "cell_type": "code",
   "execution_count": 4,
   "id": "0add31ea-e68d-4fed-a79a-49289d0a59fb",
   "metadata": {},
   "outputs": [
    {
     "data": {
      "text/plain": [
       "str"
      ]
     },
     "execution_count": 4,
     "metadata": {},
     "output_type": "execute_result"
    }
   ],
   "source": [
    "type(c)"
   ]
  },
  {
   "cell_type": "code",
   "execution_count": 5,
   "id": "2abded76-9856-40f3-8445-1a206fe6fb2d",
   "metadata": {},
   "outputs": [
    {
     "data": {
      "text/plain": [
       "str"
      ]
     },
     "execution_count": 5,
     "metadata": {},
     "output_type": "execute_result"
    }
   ],
   "source": [
    "type(d)"
   ]
  },
  {
   "cell_type": "markdown",
   "id": "d926dde6-79e3-40fa-ba0d-d3a540636aa0",
   "metadata": {},
   "source": [
    "#### Operaciones\n"
   ]
  },
  {
   "cell_type": "code",
   "execution_count": 6,
   "id": "9cdd1444-a591-4407-bf4b-b711efb7c210",
   "metadata": {},
   "outputs": [
    {
     "data": {
      "text/plain": [
       "20"
      ]
     },
     "execution_count": 6,
     "metadata": {},
     "output_type": "execute_result"
    }
   ],
   "source": [
    "2*a"
   ]
  },
  {
   "cell_type": "code",
   "execution_count": 7,
   "id": "7bdd5882-7dc4-4e7f-bcb9-e6b265e0d833",
   "metadata": {},
   "outputs": [
    {
     "data": {
      "text/plain": [
       "10.142857142857142"
      ]
     },
     "execution_count": 7,
     "metadata": {},
     "output_type": "execute_result"
    }
   ],
   "source": [
    "a + b"
   ]
  },
  {
   "cell_type": "code",
   "execution_count": 8,
   "id": "820c0fce-6c42-4f25-9236-9d8d9f0058eb",
   "metadata": {},
   "outputs": [
    {
     "data": {
      "text/plain": [
       "1.4285714285714284"
      ]
     },
     "execution_count": 8,
     "metadata": {},
     "output_type": "execute_result"
    }
   ],
   "source": [
    "a * b"
   ]
  },
  {
   "cell_type": "code",
   "execution_count": 9,
   "id": "edeced23-64fe-4b5c-9657-7ba1354f62b7",
   "metadata": {},
   "outputs": [
    {
     "data": {
      "text/plain": [
       "'palabritapalabrita'"
      ]
     },
     "execution_count": 9,
     "metadata": {},
     "output_type": "execute_result"
    }
   ],
   "source": [
    "2*c"
   ]
  },
  {
   "cell_type": "code",
   "execution_count": 10,
   "id": "c3c910be-6645-4c1e-879d-e0e021f01e1a",
   "metadata": {},
   "outputs": [
    {
     "data": {
      "text/plain": [
       "'palabrita2020-01-01'"
      ]
     },
     "execution_count": 10,
     "metadata": {},
     "output_type": "execute_result"
    }
   ],
   "source": [
    "c + d"
   ]
  },
  {
   "cell_type": "code",
   "execution_count": 11,
   "id": "f3237571-b732-4fc8-a37d-d8a8270df40a",
   "metadata": {},
   "outputs": [
    {
     "data": {
      "text/plain": [
       "'palabrita 2020-01-01'"
      ]
     },
     "execution_count": 11,
     "metadata": {},
     "output_type": "execute_result"
    }
   ],
   "source": [
    "c + ' ' + d"
   ]
  },
  {
   "cell_type": "code",
   "execution_count": 12,
   "id": "b1385d94-9c60-4799-b01a-a0b7baf60ee2",
   "metadata": {},
   "outputs": [
    {
     "ename": "TypeError",
     "evalue": "can't multiply sequence by non-int of type 'str'",
     "output_type": "error",
     "traceback": [
      "\u001b[0;31m---------------------------------------------------------------------------\u001b[0m",
      "\u001b[0;31mTypeError\u001b[0m                                 Traceback (most recent call last)",
      "\u001b[0;32m/var/folders/6p/swb9tk7j395cxz5qpxbl_yc00000gn/T/ipykernel_61538/4174895756.py\u001b[0m in \u001b[0;36m<module>\u001b[0;34m\u001b[0m\n\u001b[0;32m----> 1\u001b[0;31m \u001b[0mc\u001b[0m \u001b[0;34m*\u001b[0m \u001b[0md\u001b[0m\u001b[0;34m\u001b[0m\u001b[0;34m\u001b[0m\u001b[0m\n\u001b[0m",
      "\u001b[0;31mTypeError\u001b[0m: can't multiply sequence by non-int of type 'str'"
     ]
    }
   ],
   "source": [
    "c * d"
   ]
  },
  {
   "cell_type": "markdown",
   "id": "58d3ed3e-7bd1-42c9-a9d3-e477a372721d",
   "metadata": {},
   "source": [
    "##### Arreglos (listas y diccionarios)"
   ]
  },
  {
   "cell_type": "markdown",
   "id": "ad08ac44-d0e6-40ed-b25c-b33767b63b24",
   "metadata": {},
   "source": [
    "Una lista es una secuencia de cosas, que se define list(bblablab), []"
   ]
  },
  {
   "cell_type": "code",
   "execution_count": 13,
   "id": "6c2404ae-eee6-4bf6-8023-e86716e8b799",
   "metadata": {},
   "outputs": [],
   "source": [
    "lista1 = [1, 3, 4, 7]\n",
    "lista2 = list(['a', 'b', 'c'])\n",
    "lista3 = [1, 'j', -10, 'z']"
   ]
  },
  {
   "cell_type": "code",
   "execution_count": 14,
   "id": "aa885c1c-5270-4605-9a9d-060cda52c7d1",
   "metadata": {},
   "outputs": [
    {
     "data": {
      "text/plain": [
       "[1, 3, 4, 7]"
      ]
     },
     "execution_count": 14,
     "metadata": {},
     "output_type": "execute_result"
    }
   ],
   "source": [
    "lista1"
   ]
  },
  {
   "cell_type": "code",
   "execution_count": 15,
   "id": "52064d79-e299-4b5f-921c-39f2c3e222fc",
   "metadata": {},
   "outputs": [
    {
     "data": {
      "text/plain": [
       "['a', 'b', 'c']"
      ]
     },
     "execution_count": 15,
     "metadata": {},
     "output_type": "execute_result"
    }
   ],
   "source": [
    "lista2"
   ]
  },
  {
   "cell_type": "code",
   "execution_count": 16,
   "id": "e1f8a5a4-30ae-47a5-a546-4fa0246237dd",
   "metadata": {},
   "outputs": [
    {
     "data": {
      "text/plain": [
       "[0, 1, 2, 3, 4, 5, 6, 7, 8, 9]"
      ]
     },
     "execution_count": 16,
     "metadata": {},
     "output_type": "execute_result"
    }
   ],
   "source": [
    "lista4 = list(range(10))\n",
    "lista4"
   ]
  },
  {
   "cell_type": "code",
   "execution_count": 17,
   "id": "688e679c-9002-4a52-92ba-682b774af767",
   "metadata": {},
   "outputs": [],
   "source": [
    "# cómo accedo a una lista?\n",
    "## trabas de python: numeración parte en 0!!!\n"
   ]
  },
  {
   "cell_type": "code",
   "execution_count": 18,
   "id": "05836a69-871e-4702-8fc4-cd4404cf68f8",
   "metadata": {},
   "outputs": [
    {
     "data": {
      "text/plain": [
       "[1, 3, 4, 7]"
      ]
     },
     "execution_count": 18,
     "metadata": {},
     "output_type": "execute_result"
    }
   ],
   "source": [
    "lista1"
   ]
  },
  {
   "cell_type": "code",
   "execution_count": 19,
   "id": "3b02129e-8f37-4837-bb4c-82ef6afa2c07",
   "metadata": {},
   "outputs": [
    {
     "data": {
      "text/plain": [
       "1"
      ]
     },
     "execution_count": 19,
     "metadata": {},
     "output_type": "execute_result"
    }
   ],
   "source": [
    "lista1[0]"
   ]
  },
  {
   "cell_type": "code",
   "execution_count": 20,
   "id": "7107cc5a-665f-4bfd-98d3-caf87dadfcb8",
   "metadata": {},
   "outputs": [
    {
     "data": {
      "text/plain": [
       "7"
      ]
     },
     "execution_count": 20,
     "metadata": {},
     "output_type": "execute_result"
    }
   ],
   "source": [
    "lista1[3]"
   ]
  },
  {
   "cell_type": "code",
   "execution_count": 21,
   "id": "ca92f558-5456-430e-a0bb-7bfec43a13d5",
   "metadata": {},
   "outputs": [
    {
     "data": {
      "text/plain": [
       "7"
      ]
     },
     "execution_count": 21,
     "metadata": {},
     "output_type": "execute_result"
    }
   ],
   "source": [
    "lista1[-1]"
   ]
  },
  {
   "cell_type": "code",
   "execution_count": 22,
   "id": "c459be1b-151c-401d-bfdf-59a4c498c260",
   "metadata": {},
   "outputs": [
    {
     "data": {
      "text/plain": [
       "4"
      ]
     },
     "execution_count": 22,
     "metadata": {},
     "output_type": "execute_result"
    }
   ],
   "source": [
    "lista1[-2]"
   ]
  },
  {
   "cell_type": "code",
   "execution_count": 23,
   "id": "c35c49be-5a42-4b55-99b7-1ab319d3cc17",
   "metadata": {},
   "outputs": [
    {
     "data": {
      "text/plain": [
       "3"
      ]
     },
     "execution_count": 23,
     "metadata": {},
     "output_type": "execute_result"
    }
   ],
   "source": [
    "lista1[1]"
   ]
  },
  {
   "cell_type": "code",
   "execution_count": 24,
   "id": "b4e78924-3796-4371-89ff-3a72c97befeb",
   "metadata": {},
   "outputs": [
    {
     "data": {
      "text/plain": [
       "4"
      ]
     },
     "execution_count": 24,
     "metadata": {},
     "output_type": "execute_result"
    }
   ],
   "source": [
    "lista1[2]"
   ]
  },
  {
   "cell_type": "code",
   "execution_count": 25,
   "id": "8d0d53af-43ef-4ec5-bb2b-a1a1afb4258d",
   "metadata": {},
   "outputs": [
    {
     "data": {
      "text/plain": [
       "[3, 4]"
      ]
     },
     "execution_count": 25,
     "metadata": {},
     "output_type": "execute_result"
    }
   ],
   "source": [
    "lista1[1:3] #entrega el 1, y el 2.  llegas hasta n-1 es igual a [x:y)"
   ]
  },
  {
   "cell_type": "code",
   "execution_count": 26,
   "id": "4d377928-c0d3-4297-ab37-143a67913872",
   "metadata": {},
   "outputs": [
    {
     "data": {
      "text/plain": [
       "[3]"
      ]
     },
     "execution_count": 26,
     "metadata": {},
     "output_type": "execute_result"
    }
   ],
   "source": [
    "lista1[1:2]"
   ]
  },
  {
   "cell_type": "code",
   "execution_count": 27,
   "id": "268cfe34-50fe-4721-baac-fd1927437f15",
   "metadata": {},
   "outputs": [
    {
     "data": {
      "text/plain": [
       "[1, 3, 4, 7]"
      ]
     },
     "execution_count": 27,
     "metadata": {},
     "output_type": "execute_result"
    }
   ],
   "source": [
    "lista1"
   ]
  },
  {
   "cell_type": "code",
   "execution_count": 28,
   "id": "516249dd-3fda-4ae7-b98c-a7b4b1f3ea45",
   "metadata": {},
   "outputs": [],
   "source": [
    "lista1 += [3]\n",
    "#lista1 = lista1 + [3]\n"
   ]
  },
  {
   "cell_type": "code",
   "execution_count": 29,
   "id": "25f1f974-039d-4c73-ac81-205343f441b6",
   "metadata": {},
   "outputs": [
    {
     "data": {
      "text/plain": [
       "[1, 3, 4, 7, 3]"
      ]
     },
     "execution_count": 29,
     "metadata": {},
     "output_type": "execute_result"
    }
   ],
   "source": [
    "lista1"
   ]
  },
  {
   "cell_type": "code",
   "execution_count": 30,
   "id": "863985c5-1853-483c-a8b7-a4223c03268c",
   "metadata": {},
   "outputs": [
    {
     "data": {
      "text/plain": [
       "[1, 3, 4, 7, 3, 1, 3, 4, 7, 3]"
      ]
     },
     "execution_count": 30,
     "metadata": {},
     "output_type": "execute_result"
    }
   ],
   "source": [
    "lista1*2"
   ]
  },
  {
   "cell_type": "code",
   "execution_count": 31,
   "id": "beeb3388-850e-48a0-beda-cb6e09971e8c",
   "metadata": {},
   "outputs": [],
   "source": [
    "lista1.append(8)"
   ]
  },
  {
   "cell_type": "code",
   "execution_count": 32,
   "id": "9636cc95-fe4a-477f-a3fd-b14f50231e12",
   "metadata": {},
   "outputs": [
    {
     "data": {
      "text/plain": [
       "[1, 3, 4, 7, 3, 8]"
      ]
     },
     "execution_count": 32,
     "metadata": {},
     "output_type": "execute_result"
    }
   ],
   "source": [
    "lista1"
   ]
  },
  {
   "cell_type": "markdown",
   "id": "c875a102-5f79-467d-8817-2b915ecd39b6",
   "metadata": {},
   "source": [
    "##### Conjuntos"
   ]
  },
  {
   "cell_type": "code",
   "execution_count": 33,
   "id": "7f5fb664-4c87-4ce9-95de-7dddbe864ae6",
   "metadata": {},
   "outputs": [],
   "source": [
    "# Un conjunto es una colección única de elementos"
   ]
  },
  {
   "cell_type": "code",
   "execution_count": 36,
   "id": "2993b594-debd-46a4-8f61-4515a9a0fcda",
   "metadata": {},
   "outputs": [
    {
     "data": {
      "text/plain": [
       "[1, 1, 1, 1, 1, 2, 3, 4]"
      ]
     },
     "execution_count": 36,
     "metadata": {},
     "output_type": "execute_result"
    }
   ],
   "source": [
    "a = [1, 1, 1, 1, 1, 2, 3, 4]\n",
    "# a = list()\n",
    "a"
   ]
  },
  {
   "cell_type": "code",
   "execution_count": 39,
   "id": "3b0435a3-2708-49de-896b-05303fec785c",
   "metadata": {},
   "outputs": [
    {
     "data": {
      "text/plain": [
       "{1, 2, 5, 6}"
      ]
     },
     "execution_count": 39,
     "metadata": {},
     "output_type": "execute_result"
    }
   ],
   "source": [
    "b = {1, 1, 1, 1, 2, 5, 6}\n",
    "#b = set()\n",
    "b"
   ]
  },
  {
   "cell_type": "code",
   "execution_count": 38,
   "id": "c7ee0ea3-9907-48ae-8a31-f6d89feafeab",
   "metadata": {},
   "outputs": [
    {
     "ename": "TypeError",
     "evalue": "'set' object is not subscriptable",
     "output_type": "error",
     "traceback": [
      "\u001b[0;31m---------------------------------------------------------------------------\u001b[0m",
      "\u001b[0;31mTypeError\u001b[0m                                 Traceback (most recent call last)",
      "\u001b[0;32m/var/folders/6p/swb9tk7j395cxz5qpxbl_yc00000gn/T/ipykernel_61538/172979841.py\u001b[0m in \u001b[0;36m<module>\u001b[0;34m\u001b[0m\n\u001b[0;32m----> 1\u001b[0;31m \u001b[0mb\u001b[0m\u001b[0;34m[\u001b[0m\u001b[0;36m0\u001b[0m\u001b[0;34m]\u001b[0m\u001b[0;34m\u001b[0m\u001b[0;34m\u001b[0m\u001b[0m\n\u001b[0m",
      "\u001b[0;31mTypeError\u001b[0m: 'set' object is not subscriptable"
     ]
    }
   ],
   "source": [
    "b[0]"
   ]
  },
  {
   "cell_type": "code",
   "execution_count": 46,
   "id": "9c2a7bbe-6473-4d36-8204-0bf57386538b",
   "metadata": {},
   "outputs": [
    {
     "data": {
      "text/plain": [
       "{3, 4}"
      ]
     },
     "execution_count": 46,
     "metadata": {},
     "output_type": "execute_result"
    }
   ],
   "source": [
    "(set(a)).difference(b) #están en a pero no en b"
   ]
  },
  {
   "cell_type": "code",
   "execution_count": 44,
   "id": "ff27006d-07ba-4157-a9bd-42f66e8d0ac0",
   "metadata": {},
   "outputs": [
    {
     "data": {
      "text/plain": [
       "{5, 6}"
      ]
     },
     "execution_count": 44,
     "metadata": {},
     "output_type": "execute_result"
    }
   ],
   "source": [
    "b.difference(set(a))"
   ]
  },
  {
   "cell_type": "code",
   "execution_count": 45,
   "id": "a5e7304c-7833-475f-8f74-b07ce8728d02",
   "metadata": {},
   "outputs": [
    {
     "data": {
      "text/plain": [
       "{1, 2}"
      ]
     },
     "execution_count": 45,
     "metadata": {},
     "output_type": "execute_result"
    }
   ],
   "source": [
    "(set(a)).intersection(b)"
   ]
  },
  {
   "cell_type": "code",
   "execution_count": 47,
   "id": "19529513-efef-404a-ab52-e2514a7854a0",
   "metadata": {},
   "outputs": [
    {
     "data": {
      "text/plain": [
       "{1, 2, 3, 4, 5, 6}"
      ]
     },
     "execution_count": 47,
     "metadata": {},
     "output_type": "execute_result"
    }
   ],
   "source": [
    "(set(a)).union(b)"
   ]
  },
  {
   "cell_type": "markdown",
   "id": "c25a1026-98b6-443e-9406-3785f328ebca",
   "metadata": {},
   "source": [
    "##### Diccionarios: fusión entre lista y conjunto.\n",
    "Tienen una palabra: definición \n",
    "palabra <- key\n",
    "definición <- value\n",
    "conjunto de ambas cosas: items"
   ]
  },
  {
   "cell_type": "code",
   "execution_count": 48,
   "id": "47f14005-93be-481a-99b9-313122c1ccb7",
   "metadata": {},
   "outputs": [],
   "source": [
    "a = {'palabra': 'definición, lo que significa',\n",
    "    'nieblita': 'perrito más lindo',\n",
    "    }"
   ]
  },
  {
   "cell_type": "code",
   "execution_count": 50,
   "id": "cb09119d-8920-46b3-9961-dd3ad6904601",
   "metadata": {},
   "outputs": [
    {
     "data": {
      "text/plain": [
       "'definición, lo que significa'"
      ]
     },
     "execution_count": 50,
     "metadata": {},
     "output_type": "execute_result"
    }
   ],
   "source": [
    "a['palabra']"
   ]
  },
  {
   "cell_type": "code",
   "execution_count": 51,
   "id": "2f326aea-cd42-4db0-9d1c-7a6634c0f88c",
   "metadata": {},
   "outputs": [
    {
     "data": {
      "text/plain": [
       "'perrito más lindo'"
      ]
     },
     "execution_count": 51,
     "metadata": {},
     "output_type": "execute_result"
    }
   ],
   "source": [
    "a['nieblita']"
   ]
  },
  {
   "cell_type": "code",
   "execution_count": 52,
   "id": "57b2f00c-6001-421c-b114-9e1a7825fa66",
   "metadata": {},
   "outputs": [
    {
     "ename": "KeyError",
     "evalue": "'sauco'",
     "output_type": "error",
     "traceback": [
      "\u001b[0;31m---------------------------------------------------------------------------\u001b[0m",
      "\u001b[0;31mKeyError\u001b[0m                                  Traceback (most recent call last)",
      "\u001b[0;32m/var/folders/6p/swb9tk7j395cxz5qpxbl_yc00000gn/T/ipykernel_61538/2525489509.py\u001b[0m in \u001b[0;36m<module>\u001b[0;34m\u001b[0m\n\u001b[0;32m----> 1\u001b[0;31m \u001b[0ma\u001b[0m\u001b[0;34m[\u001b[0m\u001b[0;34m'sauco'\u001b[0m\u001b[0;34m]\u001b[0m\u001b[0;34m\u001b[0m\u001b[0;34m\u001b[0m\u001b[0m\n\u001b[0m",
      "\u001b[0;31mKeyError\u001b[0m: 'sauco'"
     ]
    }
   ],
   "source": [
    "a['sauco']"
   ]
  },
  {
   "cell_type": "code",
   "execution_count": 53,
   "id": "0a892fa1-ddac-46d4-aff3-883c0cf7b7e4",
   "metadata": {},
   "outputs": [],
   "source": [
    "a['sauco'] = 'perrito más grande'"
   ]
  },
  {
   "cell_type": "code",
   "execution_count": 54,
   "id": "ccf3dfa3-b7ac-4e5a-ad75-3ddeaaf47173",
   "metadata": {},
   "outputs": [
    {
     "data": {
      "text/plain": [
       "{'palabra': 'definición, lo que significa',\n",
       " 'nieblita': 'perrito más lindo',\n",
       " 'sauco': 'perrito más grande'}"
      ]
     },
     "execution_count": 54,
     "metadata": {},
     "output_type": "execute_result"
    }
   ],
   "source": [
    "a"
   ]
  },
  {
   "cell_type": "code",
   "execution_count": 55,
   "id": "cd2340d4-78b0-40c3-8d8f-6b1b44e3b631",
   "metadata": {},
   "outputs": [
    {
     "data": {
      "text/plain": [
       "dict_keys(['palabra', 'nieblita', 'sauco'])"
      ]
     },
     "execution_count": 55,
     "metadata": {},
     "output_type": "execute_result"
    }
   ],
   "source": [
    "a.keys()"
   ]
  },
  {
   "cell_type": "code",
   "execution_count": 56,
   "id": "8c143cce-03c6-4d0f-b62d-2b535d50bff4",
   "metadata": {},
   "outputs": [
    {
     "ename": "TypeError",
     "evalue": "'dict_keys' object is not subscriptable",
     "output_type": "error",
     "traceback": [
      "\u001b[0;31m---------------------------------------------------------------------------\u001b[0m",
      "\u001b[0;31mTypeError\u001b[0m                                 Traceback (most recent call last)",
      "\u001b[0;32m/var/folders/6p/swb9tk7j395cxz5qpxbl_yc00000gn/T/ipykernel_61538/2402159138.py\u001b[0m in \u001b[0;36m<module>\u001b[0;34m\u001b[0m\n\u001b[0;32m----> 1\u001b[0;31m \u001b[0ma\u001b[0m\u001b[0;34m.\u001b[0m\u001b[0mkeys\u001b[0m\u001b[0;34m(\u001b[0m\u001b[0;34m)\u001b[0m\u001b[0;34m[\u001b[0m\u001b[0;36m0\u001b[0m\u001b[0;34m]\u001b[0m\u001b[0;34m\u001b[0m\u001b[0;34m\u001b[0m\u001b[0m\n\u001b[0m",
      "\u001b[0;31mTypeError\u001b[0m: 'dict_keys' object is not subscriptable"
     ]
    }
   ],
   "source": [
    "a.keys()[0]"
   ]
  },
  {
   "cell_type": "code",
   "execution_count": 57,
   "id": "b4adea19-8c3d-4252-8e0f-a501ab854121",
   "metadata": {},
   "outputs": [
    {
     "data": {
      "text/plain": [
       "dict_keys"
      ]
     },
     "execution_count": 57,
     "metadata": {},
     "output_type": "execute_result"
    }
   ],
   "source": [
    "type(a.keys())"
   ]
  },
  {
   "cell_type": "code",
   "execution_count": 59,
   "id": "e8888dea-47e2-45c9-a8bd-e887af184d79",
   "metadata": {},
   "outputs": [
    {
     "data": {
      "text/plain": [
       "'palabra'"
      ]
     },
     "execution_count": 59,
     "metadata": {},
     "output_type": "execute_result"
    }
   ],
   "source": [
    "list(a.keys())[0]"
   ]
  },
  {
   "cell_type": "code",
   "execution_count": 60,
   "id": "bea7b3cd-113b-47ce-8077-aba272125d13",
   "metadata": {},
   "outputs": [
    {
     "data": {
      "text/plain": [
       "dict_values(['definición, lo que significa', 'perrito más lindo', 'perrito más grande'])"
      ]
     },
     "execution_count": 60,
     "metadata": {},
     "output_type": "execute_result"
    }
   ],
   "source": [
    "a.values()"
   ]
  },
  {
   "cell_type": "code",
   "execution_count": 61,
   "id": "a541e2ab-6adb-4909-8a08-18eea87fc0d4",
   "metadata": {},
   "outputs": [],
   "source": [
    "a[1] = 10"
   ]
  },
  {
   "cell_type": "code",
   "execution_count": 62,
   "id": "107df1be-d584-4c9a-99f5-9e76986b9bce",
   "metadata": {},
   "outputs": [],
   "source": [
    "a['we'] = 'otrawea'"
   ]
  },
  {
   "cell_type": "code",
   "execution_count": 63,
   "id": "3afd83e6-a90d-4c01-859e-d543adcb2346",
   "metadata": {},
   "outputs": [
    {
     "data": {
      "text/plain": [
       "{'palabra': 'definición, lo que significa',\n",
       " 'nieblita': 'perrito más lindo',\n",
       " 'sauco': 'perrito más grande',\n",
       " 1: 10,\n",
       " 'we': 'otrawea'}"
      ]
     },
     "execution_count": 63,
     "metadata": {},
     "output_type": "execute_result"
    }
   ],
   "source": [
    "a"
   ]
  },
  {
   "cell_type": "code",
   "execution_count": 64,
   "id": "b4061338-4478-4ca8-a09b-38dd444e3ea9",
   "metadata": {},
   "outputs": [
    {
     "data": {
      "text/plain": [
       "'definición, lo que significa'"
      ]
     },
     "execution_count": 64,
     "metadata": {},
     "output_type": "execute_result"
    }
   ],
   "source": [
    "a.get('palabra')"
   ]
  },
  {
   "cell_type": "code",
   "execution_count": 65,
   "id": "d5b537ec-2dba-4b34-8118-5aeab9fcce72",
   "metadata": {},
   "outputs": [
    {
     "data": {
      "text/plain": [
       "10"
      ]
     },
     "execution_count": 65,
     "metadata": {},
     "output_type": "execute_result"
    }
   ],
   "source": [
    "a.get(1)"
   ]
  },
  {
   "cell_type": "code",
   "execution_count": 67,
   "id": "c8660bf2-d2b5-4461-9f94-2fdb9ca82a1b",
   "metadata": {},
   "outputs": [
    {
     "ename": "KeyError",
     "evalue": "'1'",
     "output_type": "error",
     "traceback": [
      "\u001b[0;31m---------------------------------------------------------------------------\u001b[0m",
      "\u001b[0;31mKeyError\u001b[0m                                  Traceback (most recent call last)",
      "\u001b[0;32m/var/folders/6p/swb9tk7j395cxz5qpxbl_yc00000gn/T/ipykernel_61538/1444457804.py\u001b[0m in \u001b[0;36m<module>\u001b[0;34m\u001b[0m\n\u001b[0;32m----> 1\u001b[0;31m \u001b[0ma\u001b[0m\u001b[0;34m[\u001b[0m\u001b[0;34m'1'\u001b[0m\u001b[0;34m]\u001b[0m\u001b[0;34m\u001b[0m\u001b[0;34m\u001b[0m\u001b[0m\n\u001b[0m\u001b[1;32m      2\u001b[0m \u001b[0;31m#a.get('1')\u001b[0m\u001b[0;34m\u001b[0m\u001b[0;34m\u001b[0m\u001b[0m\n",
      "\u001b[0;31mKeyError\u001b[0m: '1'"
     ]
    }
   ],
   "source": [
    "a['1']\n",
    "#a.get('1')"
   ]
  },
  {
   "cell_type": "code",
   "execution_count": 69,
   "id": "5ecd4e36-836e-4839-afa6-1c1eaba28183",
   "metadata": {},
   "outputs": [],
   "source": [
    "b = {'key1': [1,2,3],\n",
    "    'key2': {'keke':1, 'jaja': 'oyoyoi'}}"
   ]
  },
  {
   "cell_type": "code",
   "execution_count": 71,
   "id": "4ec16a0d-c2be-416f-9601-63b362f99c3d",
   "metadata": {},
   "outputs": [
    {
     "data": {
      "text/plain": [
       "[1, 2, 3]"
      ]
     },
     "execution_count": 71,
     "metadata": {},
     "output_type": "execute_result"
    }
   ],
   "source": [
    "b.get('key1')"
   ]
  },
  {
   "cell_type": "code",
   "execution_count": 73,
   "id": "f1b2d3ff-1213-4d63-975d-087c3fe5b6ea",
   "metadata": {},
   "outputs": [
    {
     "data": {
      "text/plain": [
       "'oyoyoi'"
      ]
     },
     "execution_count": 73,
     "metadata": {},
     "output_type": "execute_result"
    }
   ],
   "source": [
    "b.get('key2').get('jaja')"
   ]
  },
  {
   "cell_type": "code",
   "execution_count": 74,
   "id": "32e3e41f-152f-4a78-8b58-5d7d446c36cf",
   "metadata": {},
   "outputs": [
    {
     "data": {
      "text/plain": [
       "'oyoyoi'"
      ]
     },
     "execution_count": 74,
     "metadata": {},
     "output_type": "execute_result"
    }
   ],
   "source": [
    "var1 = b.get('key2')\n",
    "var1.get('jaja')"
   ]
  },
  {
   "cell_type": "markdown",
   "id": "a443754d-246f-4b1d-b4d8-75944453045b",
   "metadata": {},
   "source": [
    "#### Iteradores"
   ]
  },
  {
   "cell_type": "code",
   "execution_count": 85,
   "id": "8e571afe-9d0e-4686-b56f-f2d5b7710074",
   "metadata": {},
   "outputs": [
    {
     "name": "stdout",
     "output_type": "stream",
     "text": [
      "eeeh\n",
      "El i es muy chico\n",
      "El i es muy chico\n",
      "EL valor de i es 6\n",
      "EL valor de i es 8\n",
      "EL valor de i es 9\n"
     ]
    }
   ],
   "source": [
    "for i in [1,2,3,6,8,9]:\n",
    "    if i > 5:\n",
    "        print(f'EL valor de i es {i}') # print('El valor de i es {value}'.format(value=i))\n",
    "        A = 1\n",
    "    elif i <= 1:\n",
    "        print('eeeh')\n",
    "    #elif .....\n",
    "    else:\n",
    "        print('El i es muy chico')"
   ]
  },
  {
   "cell_type": "code",
   "execution_count": 87,
   "id": "5abbc25f-4311-4fd6-8a37-4687d076e1a0",
   "metadata": {},
   "outputs": [
    {
     "name": "stdout",
     "output_type": "stream",
     "text": [
      "k vale True\n",
      "k vale True\n",
      "k vale True\n",
      "k vale True\n",
      "k vale True\n",
      "k vale True\n",
      "k vale True\n",
      "k vale True\n",
      "k vale True\n",
      "k vale True\n",
      "k vale True\n"
     ]
    }
   ],
   "source": [
    "k = True\n",
    "counter = 0\n",
    "while k:\n",
    "    print(f'k vale {k}')\n",
    "    counter += 1\n",
    "    if counter > 10:\n",
    "        k = False"
   ]
  },
  {
   "cell_type": "code",
   "execution_count": 92,
   "id": "ab78f788-55d1-4e6b-af28-a41b2ee66981",
   "metadata": {},
   "outputs": [
    {
     "data": {
      "text/plain": [
       "2"
      ]
     },
     "execution_count": 92,
     "metadata": {},
     "output_type": "execute_result"
    }
   ],
   "source": [
    "17%3"
   ]
  },
  {
   "cell_type": "code",
   "execution_count": 93,
   "id": "252f8429-a9de-482e-af46-613cde4ea04d",
   "metadata": {},
   "outputs": [
    {
     "data": {
      "text/plain": [
       "5"
      ]
     },
     "execution_count": 93,
     "metadata": {},
     "output_type": "execute_result"
    }
   ],
   "source": [
    "17//3"
   ]
  },
  {
   "cell_type": "code",
   "execution_count": null,
   "id": "ac7d1851-6438-437d-9ee9-645280671f85",
   "metadata": {},
   "outputs": [],
   "source": [
    "# este número es par? 17%2 == 0"
   ]
  },
  {
   "cell_type": "code",
   "execution_count": 97,
   "id": "dc62dfbb-51dd-41a9-9bc8-da4e5b32d3d8",
   "metadata": {},
   "outputs": [
    {
     "name": "stdout",
     "output_type": "stream",
     "text": [
      "buena! 0\n",
      "buena! 2\n",
      "buena! 4\n",
      "buena! 6\n",
      "buena! 8\n"
     ]
    }
   ],
   "source": [
    "for i in range(10):\n",
    "    if i%2 == 0:\n",
    "        print(f'buena! {i}')\n",
    "    else:\n",
    "        pass # continue\n",
    "    \n",
    "    "
   ]
  },
  {
   "cell_type": "markdown",
   "id": "2c85fee2-cfbe-4b6d-a887-db1c7763d473",
   "metadata": {},
   "source": [
    "#### Funciones"
   ]
  },
  {
   "cell_type": "code",
   "execution_count": null,
   "id": "06e7e0de-da5c-4bbe-af19-ebcdc08b5139",
   "metadata": {},
   "outputs": [],
   "source": []
  },
  {
   "cell_type": "code",
   "execution_count": 98,
   "id": "9639b1fb-6ade-415e-a4b6-cb4dee875073",
   "metadata": {},
   "outputs": [],
   "source": [
    "def nombrecito(x):\n",
    "    a = x + 3\n",
    "    return a"
   ]
  },
  {
   "cell_type": "code",
   "execution_count": 99,
   "id": "323d7f2b-a108-4e43-b225-9a5bc895df0c",
   "metadata": {},
   "outputs": [
    {
     "data": {
      "text/plain": [
       "6"
      ]
     },
     "execution_count": 99,
     "metadata": {},
     "output_type": "execute_result"
    }
   ],
   "source": [
    "nombrecito(3)"
   ]
  },
  {
   "cell_type": "code",
   "execution_count": 109,
   "id": "90fbd46f-165b-4e1e-bfae-132fc6e89351",
   "metadata": {},
   "outputs": [],
   "source": [
    "def maga(x, y = 2): # uno puede setear valores default\n",
    "    return x * y"
   ]
  },
  {
   "cell_type": "code",
   "execution_count": null,
   "id": "311d4efe-e22d-4f7f-bac0-655f598ca713",
   "metadata": {},
   "outputs": [],
   "source": [
    "#def maga2(y = 2, x):\n",
    "#    return  x * y"
   ]
  },
  {
   "cell_type": "code",
   "execution_count": 111,
   "id": "5aa0dfd5-7103-4363-82f6-5f0b3c68ca48",
   "metadata": {},
   "outputs": [
    {
     "data": {
      "text/plain": [
       "3630"
      ]
     },
     "execution_count": 111,
     "metadata": {},
     "output_type": "execute_result"
    }
   ],
   "source": [
    "maga(55,66) #muy sensible al orden"
   ]
  },
  {
   "cell_type": "code",
   "execution_count": 110,
   "id": "a11e6644-af02-4ae1-9b19-301c3eb04fdc",
   "metadata": {},
   "outputs": [
    {
     "data": {
      "text/plain": [
       "3630"
      ]
     },
     "execution_count": 110,
     "metadata": {},
     "output_type": "execute_result"
    }
   ],
   "source": [
    "maga(x=55, y=66)"
   ]
  },
  {
   "cell_type": "code",
   "execution_count": 112,
   "id": "92efda24-8e95-4eed-908b-26d3664df257",
   "metadata": {},
   "outputs": [
    {
     "data": {
      "text/plain": [
       "3630"
      ]
     },
     "execution_count": 112,
     "metadata": {},
     "output_type": "execute_result"
    }
   ],
   "source": [
    "maga(y=66, x=55)"
   ]
  },
  {
   "cell_type": "code",
   "execution_count": 108,
   "id": "f1ac4ecf-d7bb-444f-8f40-c976c9120dd8",
   "metadata": {},
   "outputs": [
    {
     "data": {
      "text/plain": [
       "2"
      ]
     },
     "execution_count": 108,
     "metadata": {},
     "output_type": "execute_result"
    }
   ],
   "source": [
    "maga(1)"
   ]
  },
  {
   "cell_type": "code",
   "execution_count": 105,
   "id": "c0fd2320-3609-48c6-b500-494b8a4b7acf",
   "metadata": {},
   "outputs": [
    {
     "ename": "TypeError",
     "evalue": "nombrecito() takes 1 positional argument but 2 were given",
     "output_type": "error",
     "traceback": [
      "\u001b[0;31m---------------------------------------------------------------------------\u001b[0m",
      "\u001b[0;31mTypeError\u001b[0m                                 Traceback (most recent call last)",
      "\u001b[0;32m/var/folders/6p/swb9tk7j395cxz5qpxbl_yc00000gn/T/ipykernel_61538/4224756467.py\u001b[0m in \u001b[0;36m<module>\u001b[0;34m\u001b[0m\n\u001b[0;32m----> 1\u001b[0;31m \u001b[0mnombrecito\u001b[0m\u001b[0;34m(\u001b[0m\u001b[0;36m1\u001b[0m\u001b[0;34m,\u001b[0m\u001b[0;36m2\u001b[0m\u001b[0;34m)\u001b[0m\u001b[0;34m\u001b[0m\u001b[0;34m\u001b[0m\u001b[0m\n\u001b[0m",
      "\u001b[0;31mTypeError\u001b[0m: nombrecito() takes 1 positional argument but 2 were given"
     ]
    }
   ],
   "source": [
    "nombrecito(1,2)"
   ]
  },
  {
   "cell_type": "code",
   "execution_count": null,
   "id": "e251ce4d-6f50-4030-a713-ed75c0fb4d9a",
   "metadata": {},
   "outputs": [],
   "source": []
  },
  {
   "cell_type": "markdown",
   "id": "290f9bc1-9465-4564-8765-8195aa207f08",
   "metadata": {},
   "source": [
    "### Librerías"
   ]
  },
  {
   "cell_type": "markdown",
   "id": "97e95557-8ca5-4101-9d27-38300ea2c4e4",
   "metadata": {},
   "source": [
    "#### numpy\n",
    "Todas las operaciones numéricas"
   ]
  },
  {
   "cell_type": "code",
   "execution_count": 122,
   "id": "320e4579-945c-4686-8350-19d97eb07f7a",
   "metadata": {},
   "outputs": [],
   "source": [
    "import numpy as np"
   ]
  },
  {
   "cell_type": "code",
   "execution_count": 123,
   "id": "9bd236c4-0dec-4740-b4d5-761023f2fd8f",
   "metadata": {},
   "outputs": [
    {
     "data": {
      "text/plain": [
       "3.141592653589793"
      ]
     },
     "execution_count": 123,
     "metadata": {},
     "output_type": "execute_result"
    }
   ],
   "source": [
    "np.pi"
   ]
  },
  {
   "cell_type": "code",
   "execution_count": 124,
   "id": "50740bae-1712-4117-9506-89bdcdb4dba7",
   "metadata": {},
   "outputs": [
    {
     "data": {
      "text/plain": [
       "2.302585092994046"
      ]
     },
     "execution_count": 124,
     "metadata": {},
     "output_type": "execute_result"
    }
   ],
   "source": [
    "np.log(10)"
   ]
  },
  {
   "cell_type": "code",
   "execution_count": 134,
   "id": "6d5550e4-499b-4389-b320-3fc9ad47d3e6",
   "metadata": {},
   "outputs": [
    {
     "name": "stdout",
     "output_type": "stream",
     "text": [
      "Object `np.log  #buscar ayuda de funcion de libreria, la otra forma shift + tab es mas interactivo` not found.\n"
     ]
    }
   ],
   "source": [
    "?np.log  #buscar ayuda de funcion de libreria, la otra forma shift + tab es mas interactivo"
   ]
  },
  {
   "cell_type": "markdown",
   "id": "3312da7b-dd28-4b36-a45f-ec453f8b053b",
   "metadata": {},
   "source": [
    "#### Pandas\n",
    "Todas las operaciones de bases de datos"
   ]
  },
  {
   "cell_type": "code",
   "execution_count": 135,
   "id": "3f8dc829-2207-4e65-bd85-e2c401082f34",
   "metadata": {},
   "outputs": [],
   "source": [
    "import pandas as pd"
   ]
  },
  {
   "cell_type": "code",
   "execution_count": 145,
   "id": "eb841102-52d7-4c3c-8624-01a08bfab237",
   "metadata": {},
   "outputs": [],
   "source": [
    "#DataFrame (df): tienen columnas y filas\n",
    "\n",
    "df = pd.DataFrame({'col1': range(1,6),\n",
    "                  'col2': ['a', 'b', 'c', 'd', 'e']})"
   ]
  },
  {
   "cell_type": "code",
   "execution_count": null,
   "id": "902ed38c-fb47-4bbe-9d53-56a324f3f4e4",
   "metadata": {},
   "outputs": [],
   "source": [
    "#df = pd.read_file (read_csv, read_excel, read_cualquierwea)\n"
   ]
  },
  {
   "cell_type": "code",
   "execution_count": 140,
   "id": "dd6003fd-bc39-46f2-bba6-6f09d13c2776",
   "metadata": {},
   "outputs": [
    {
     "data": {
      "text/html": [
       "<div>\n",
       "<style scoped>\n",
       "    .dataframe tbody tr th:only-of-type {\n",
       "        vertical-align: middle;\n",
       "    }\n",
       "\n",
       "    .dataframe tbody tr th {\n",
       "        vertical-align: top;\n",
       "    }\n",
       "\n",
       "    .dataframe thead th {\n",
       "        text-align: right;\n",
       "    }\n",
       "</style>\n",
       "<table border=\"1\" class=\"dataframe\">\n",
       "  <thead>\n",
       "    <tr style=\"text-align: right;\">\n",
       "      <th></th>\n",
       "      <th>col1</th>\n",
       "      <th>col2</th>\n",
       "    </tr>\n",
       "  </thead>\n",
       "  <tbody>\n",
       "    <tr>\n",
       "      <th>0</th>\n",
       "      <td>1</td>\n",
       "      <td>a</td>\n",
       "    </tr>\n",
       "    <tr>\n",
       "      <th>1</th>\n",
       "      <td>2</td>\n",
       "      <td>b</td>\n",
       "    </tr>\n",
       "    <tr>\n",
       "      <th>2</th>\n",
       "      <td>3</td>\n",
       "      <td>c</td>\n",
       "    </tr>\n",
       "    <tr>\n",
       "      <th>3</th>\n",
       "      <td>4</td>\n",
       "      <td>d</td>\n",
       "    </tr>\n",
       "    <tr>\n",
       "      <th>4</th>\n",
       "      <td>5</td>\n",
       "      <td>e</td>\n",
       "    </tr>\n",
       "  </tbody>\n",
       "</table>\n",
       "</div>"
      ],
      "text/plain": [
       "   col1 col2\n",
       "0     1    a\n",
       "1     2    b\n",
       "2     3    c\n",
       "3     4    d\n",
       "4     5    e"
      ]
     },
     "execution_count": 140,
     "metadata": {},
     "output_type": "execute_result"
    }
   ],
   "source": [
    "df"
   ]
  },
  {
   "cell_type": "code",
   "execution_count": 142,
   "id": "13a3f257-4663-43c4-83f3-3f84df890164",
   "metadata": {},
   "outputs": [
    {
     "data": {
      "text/plain": [
       "Index(['col1', 'col2'], dtype='object')"
      ]
     },
     "execution_count": 142,
     "metadata": {},
     "output_type": "execute_result"
    }
   ],
   "source": [
    "df.columns"
   ]
  },
  {
   "cell_type": "code",
   "execution_count": 143,
   "id": "6ff3c698-50d5-4ccc-ab6a-3777420ad19d",
   "metadata": {},
   "outputs": [
    {
     "data": {
      "text/plain": [
       "RangeIndex(start=0, stop=5, step=1)"
      ]
     },
     "execution_count": 143,
     "metadata": {},
     "output_type": "execute_result"
    }
   ],
   "source": [
    "df.index"
   ]
  },
  {
   "cell_type": "code",
   "execution_count": 178,
   "id": "5fc7be23-f376-442e-9ee4-a8b252d5c816",
   "metadata": {},
   "outputs": [],
   "source": [
    "df = pd.DataFrame([[1,2,3],['a','b','c'], [4,5,6], ['palmita', 'mari', 'pipe']]).T"
   ]
  },
  {
   "cell_type": "code",
   "execution_count": 179,
   "id": "352cacbb-4152-4187-8bd1-4aa9be32362b",
   "metadata": {},
   "outputs": [
    {
     "data": {
      "text/html": [
       "<div>\n",
       "<style scoped>\n",
       "    .dataframe tbody tr th:only-of-type {\n",
       "        vertical-align: middle;\n",
       "    }\n",
       "\n",
       "    .dataframe tbody tr th {\n",
       "        vertical-align: top;\n",
       "    }\n",
       "\n",
       "    .dataframe thead th {\n",
       "        text-align: right;\n",
       "    }\n",
       "</style>\n",
       "<table border=\"1\" class=\"dataframe\">\n",
       "  <thead>\n",
       "    <tr style=\"text-align: right;\">\n",
       "      <th></th>\n",
       "      <th>0</th>\n",
       "      <th>1</th>\n",
       "      <th>2</th>\n",
       "      <th>3</th>\n",
       "    </tr>\n",
       "  </thead>\n",
       "  <tbody>\n",
       "    <tr>\n",
       "      <th>0</th>\n",
       "      <td>1</td>\n",
       "      <td>a</td>\n",
       "      <td>4</td>\n",
       "      <td>palmita</td>\n",
       "    </tr>\n",
       "  </tbody>\n",
       "</table>\n",
       "</div>"
      ],
      "text/plain": [
       "   0  1  2        3\n",
       "0  1  a  4  palmita"
      ]
     },
     "execution_count": 179,
     "metadata": {},
     "output_type": "execute_result"
    }
   ],
   "source": [
    "df.head(1)"
   ]
  },
  {
   "cell_type": "code",
   "execution_count": 181,
   "id": "dc6a8852-afa9-4d24-80bc-1f145f0674d9",
   "metadata": {},
   "outputs": [],
   "source": [
    "df = df.set_index(3)"
   ]
  },
  {
   "cell_type": "code",
   "execution_count": 182,
   "id": "6e6fb214-64bd-4e51-b05b-a5ec401143da",
   "metadata": {},
   "outputs": [],
   "source": [
    "df.columns = ['col1', 'col2', 'col3']"
   ]
  },
  {
   "cell_type": "code",
   "execution_count": 183,
   "id": "3539088e-b50e-4ec7-8f1a-2e6c1720c5af",
   "metadata": {},
   "outputs": [
    {
     "data": {
      "text/html": [
       "<div>\n",
       "<style scoped>\n",
       "    .dataframe tbody tr th:only-of-type {\n",
       "        vertical-align: middle;\n",
       "    }\n",
       "\n",
       "    .dataframe tbody tr th {\n",
       "        vertical-align: top;\n",
       "    }\n",
       "\n",
       "    .dataframe thead th {\n",
       "        text-align: right;\n",
       "    }\n",
       "</style>\n",
       "<table border=\"1\" class=\"dataframe\">\n",
       "  <thead>\n",
       "    <tr style=\"text-align: right;\">\n",
       "      <th></th>\n",
       "      <th>col1</th>\n",
       "      <th>col2</th>\n",
       "      <th>col3</th>\n",
       "    </tr>\n",
       "    <tr>\n",
       "      <th>3</th>\n",
       "      <th></th>\n",
       "      <th></th>\n",
       "      <th></th>\n",
       "    </tr>\n",
       "  </thead>\n",
       "  <tbody>\n",
       "    <tr>\n",
       "      <th>palmita</th>\n",
       "      <td>1</td>\n",
       "      <td>a</td>\n",
       "      <td>4</td>\n",
       "    </tr>\n",
       "  </tbody>\n",
       "</table>\n",
       "</div>"
      ],
      "text/plain": [
       "        col1 col2 col3\n",
       "3                     \n",
       "palmita    1    a    4"
      ]
     },
     "execution_count": 183,
     "metadata": {},
     "output_type": "execute_result"
    }
   ],
   "source": [
    "df.head(1)"
   ]
  },
  {
   "cell_type": "code",
   "execution_count": 184,
   "id": "5caba643-3a8c-4772-8dbf-0bb910b06d0c",
   "metadata": {},
   "outputs": [
    {
     "data": {
      "text/plain": [
       "col1    object\n",
       "col2    object\n",
       "col3    object\n",
       "dtype: object"
      ]
     },
     "execution_count": 184,
     "metadata": {},
     "output_type": "execute_result"
    }
   ],
   "source": [
    "df.dtypes"
   ]
  },
  {
   "cell_type": "code",
   "execution_count": 185,
   "id": "43a83b61-bfd1-46f9-bc95-2b8cf94aa9f9",
   "metadata": {},
   "outputs": [
    {
     "data": {
      "text/plain": [
       "3\n",
       "palmita    1\n",
       "mari       2\n",
       "pipe       3\n",
       "Name: col1, dtype: object"
      ]
     },
     "execution_count": 185,
     "metadata": {},
     "output_type": "execute_result"
    }
   ],
   "source": [
    "df['col1'] #columnas"
   ]
  },
  {
   "cell_type": "code",
   "execution_count": 186,
   "id": "625c27ed-cc7c-43b0-a2f4-cb9830e6e79e",
   "metadata": {},
   "outputs": [
    {
     "data": {
      "text/html": [
       "<div>\n",
       "<style scoped>\n",
       "    .dataframe tbody tr th:only-of-type {\n",
       "        vertical-align: middle;\n",
       "    }\n",
       "\n",
       "    .dataframe tbody tr th {\n",
       "        vertical-align: top;\n",
       "    }\n",
       "\n",
       "    .dataframe thead th {\n",
       "        text-align: right;\n",
       "    }\n",
       "</style>\n",
       "<table border=\"1\" class=\"dataframe\">\n",
       "  <thead>\n",
       "    <tr style=\"text-align: right;\">\n",
       "      <th></th>\n",
       "      <th>col1</th>\n",
       "      <th>col2</th>\n",
       "    </tr>\n",
       "    <tr>\n",
       "      <th>3</th>\n",
       "      <th></th>\n",
       "      <th></th>\n",
       "    </tr>\n",
       "  </thead>\n",
       "  <tbody>\n",
       "    <tr>\n",
       "      <th>palmita</th>\n",
       "      <td>1</td>\n",
       "      <td>a</td>\n",
       "    </tr>\n",
       "    <tr>\n",
       "      <th>mari</th>\n",
       "      <td>2</td>\n",
       "      <td>b</td>\n",
       "    </tr>\n",
       "    <tr>\n",
       "      <th>pipe</th>\n",
       "      <td>3</td>\n",
       "      <td>c</td>\n",
       "    </tr>\n",
       "  </tbody>\n",
       "</table>\n",
       "</div>"
      ],
      "text/plain": [
       "        col1 col2\n",
       "3                \n",
       "palmita    1    a\n",
       "mari       2    b\n",
       "pipe       3    c"
      ]
     },
     "execution_count": 186,
     "metadata": {},
     "output_type": "execute_result"
    }
   ],
   "source": [
    "df[['col1', 'col2']]"
   ]
  },
  {
   "cell_type": "code",
   "execution_count": 187,
   "id": "a51fd649-a0e1-493e-88d4-d6a26a3b4bec",
   "metadata": {},
   "outputs": [],
   "source": [
    "#cómo acceder a las filas: loc <- busca por index, iloc <- busca por el orden del index"
   ]
  },
  {
   "cell_type": "code",
   "execution_count": 188,
   "id": "285f4722-dd99-44aa-b236-c9d98769bb44",
   "metadata": {},
   "outputs": [
    {
     "data": {
      "text/plain": [
       "col1    1\n",
       "col2    a\n",
       "col3    4\n",
       "Name: palmita, dtype: object"
      ]
     },
     "execution_count": 188,
     "metadata": {},
     "output_type": "execute_result"
    }
   ],
   "source": [
    "df.loc['palmita']"
   ]
  },
  {
   "cell_type": "code",
   "execution_count": 177,
   "id": "c7b31bdc-92fe-4317-bd1f-d09a117e5089",
   "metadata": {},
   "outputs": [
    {
     "data": {
      "text/plain": [
       "col1    1\n",
       "col2    a\n",
       "col3    4\n",
       "Name: 0, dtype: object"
      ]
     },
     "execution_count": 177,
     "metadata": {},
     "output_type": "execute_result"
    }
   ],
   "source": [
    "df.iloc[0]"
   ]
  },
  {
   "cell_type": "code",
   "execution_count": 3,
   "id": "01ae3cb0-40e3-4e45-9464-d723dade287d",
   "metadata": {},
   "outputs": [
    {
     "name": "stdout",
     "output_type": "stream",
     "text": [
      "Requirement already satisfied: pygbif in /Users/josepalmaduque/opt/anaconda3/lib/python3.9/site-packages (0.6.1)\n",
      "Requirement already satisfied: requests-cache in /Users/josepalmaduque/opt/anaconda3/lib/python3.9/site-packages (from pygbif) (0.9.7)\n",
      "Requirement already satisfied: appdirs>=1.4.3 in /Users/josepalmaduque/opt/anaconda3/lib/python3.9/site-packages (from pygbif) (1.4.4)\n",
      "Requirement already satisfied: geojson-rewind in /Users/josepalmaduque/opt/anaconda3/lib/python3.9/site-packages (from pygbif) (1.0.3)\n",
      "Requirement already satisfied: requests>2.7 in /Users/josepalmaduque/opt/anaconda3/lib/python3.9/site-packages (from pygbif) (2.28.1)\n",
      "Requirement already satisfied: geomet in /Users/josepalmaduque/opt/anaconda3/lib/python3.9/site-packages (from pygbif) (1.0.0)\n",
      "Requirement already satisfied: matplotlib in /Users/josepalmaduque/opt/anaconda3/lib/python3.9/site-packages (from pygbif) (3.5.2)\n",
      "Requirement already satisfied: charset-normalizer<3,>=2 in /Users/josepalmaduque/opt/anaconda3/lib/python3.9/site-packages (from requests>2.7->pygbif) (2.0.4)\n",
      "Requirement already satisfied: certifi>=2017.4.17 in /Users/josepalmaduque/opt/anaconda3/lib/python3.9/site-packages (from requests>2.7->pygbif) (2022.9.24)\n",
      "Requirement already satisfied: urllib3<1.27,>=1.21.1 in /Users/josepalmaduque/opt/anaconda3/lib/python3.9/site-packages (from requests>2.7->pygbif) (1.26.11)\n",
      "Requirement already satisfied: idna<4,>=2.5 in /Users/josepalmaduque/opt/anaconda3/lib/python3.9/site-packages (from requests>2.7->pygbif) (3.3)\n",
      "Requirement already satisfied: click in /Users/josepalmaduque/opt/anaconda3/lib/python3.9/site-packages (from geomet->pygbif) (8.0.4)\n",
      "Requirement already satisfied: six in /Users/josepalmaduque/opt/anaconda3/lib/python3.9/site-packages (from geomet->pygbif) (1.16.0)\n",
      "Requirement already satisfied: pillow>=6.2.0 in /Users/josepalmaduque/opt/anaconda3/lib/python3.9/site-packages (from matplotlib->pygbif) (9.2.0)\n",
      "Requirement already satisfied: cycler>=0.10 in /Users/josepalmaduque/opt/anaconda3/lib/python3.9/site-packages (from matplotlib->pygbif) (0.11.0)\n",
      "Requirement already satisfied: kiwisolver>=1.0.1 in /Users/josepalmaduque/opt/anaconda3/lib/python3.9/site-packages (from matplotlib->pygbif) (1.4.2)\n",
      "Requirement already satisfied: python-dateutil>=2.7 in /Users/josepalmaduque/opt/anaconda3/lib/python3.9/site-packages (from matplotlib->pygbif) (2.8.2)\n",
      "Requirement already satisfied: packaging>=20.0 in /Users/josepalmaduque/opt/anaconda3/lib/python3.9/site-packages (from matplotlib->pygbif) (21.3)\n",
      "Requirement already satisfied: fonttools>=4.22.0 in /Users/josepalmaduque/opt/anaconda3/lib/python3.9/site-packages (from matplotlib->pygbif) (4.25.0)\n",
      "Requirement already satisfied: pyparsing>=2.2.1 in /Users/josepalmaduque/opt/anaconda3/lib/python3.9/site-packages (from matplotlib->pygbif) (3.0.9)\n",
      "Requirement already satisfied: numpy>=1.17 in /Users/josepalmaduque/opt/anaconda3/lib/python3.9/site-packages (from matplotlib->pygbif) (1.21.5)\n",
      "Requirement already satisfied: cattrs>=22.2 in /Users/josepalmaduque/opt/anaconda3/lib/python3.9/site-packages (from requests-cache->pygbif) (22.2.0)\n",
      "Requirement already satisfied: url-normalize>=1.4 in /Users/josepalmaduque/opt/anaconda3/lib/python3.9/site-packages (from requests-cache->pygbif) (1.4.3)\n",
      "Requirement already satisfied: attrs>=21.2 in /Users/josepalmaduque/opt/anaconda3/lib/python3.9/site-packages (from requests-cache->pygbif) (21.4.0)\n",
      "Requirement already satisfied: exceptiongroup in /Users/josepalmaduque/opt/anaconda3/lib/python3.9/site-packages (from cattrs>=22.2->requests-cache->pygbif) (1.0.4)\n"
     ]
    }
   ],
   "source": [
    "!pip install pygbif"
   ]
  },
  {
   "cell_type": "code",
   "execution_count": 2,
   "id": "7738657d-bf16-4417-b1c5-692260db4b6d",
   "metadata": {},
   "outputs": [
    {
     "data": {
      "text/plain": [
       "{'cache': True,\n",
       " 'name': '/var/folders/6p/swb9tk7j395cxz5qpxbl_yc00000gn/T/pygbif_requests_cache',\n",
       " 'backend': 'sqlite',\n",
       " 'expire_after': 86400,\n",
       " 'allowable_codes': (200,),\n",
       " 'allowable_methods': ('GET',)}"
      ]
     },
     "execution_count": 2,
     "metadata": {},
     "output_type": "execute_result"
    }
   ],
   "source": [
    "import pygbif\n",
    "pygbif.caching(True)"
   ]
  }
 ],
 "metadata": {
  "kernelspec": {
   "display_name": "biodiversidad",
   "language": "python",
   "name": "biodiversidad"
  },
  "language_info": {
   "codemirror_mode": {
    "name": "ipython",
    "version": 3
   },
   "file_extension": ".py",
   "mimetype": "text/x-python",
   "name": "python",
   "nbconvert_exporter": "python",
   "pygments_lexer": "ipython3",
   "version": "3.9.13"
  }
 },
 "nbformat": 4,
 "nbformat_minor": 5
}
