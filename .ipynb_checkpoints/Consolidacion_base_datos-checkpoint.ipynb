{
 "cells": [
  {
   "cell_type": "code",
   "execution_count": 1,
   "id": "92f4cd72-941d-4276-8a9a-cf926d41cd60",
   "metadata": {},
   "outputs": [],
   "source": [
    "import pandas as pd"
   ]
  },
  {
   "cell_type": "code",
   "execution_count": 18,
   "id": "f37d02da-f6f8-40a2-a6e6-f14b779ca9e3",
   "metadata": {},
   "outputs": [],
   "source": [
    "lista_archivos = !ls spp/\n",
    "\n",
    "lista_archivos = [m for m in lista_archivos if ('.csv' in m) and ('datos_' in m)] #list comprehension"
   ]
  },
  {
   "cell_type": "code",
   "execution_count": 19,
   "id": "b074ad09-5597-4a61-b6cc-c16ed3d3eaa5",
   "metadata": {},
   "outputs": [],
   "source": [
    "#leemos todos los dataframes y los concatenamos\n",
    "\n",
    "dfs = []\n",
    "\n",
    "for archivo in lista_archivos:\n",
    "    dfs += [pd.read_csv('spp/' + archivo)]"
   ]
  },
  {
   "cell_type": "code",
   "execution_count": 20,
   "id": "ab7f2d39-a7ca-4e76-9ead-d30031d6f9c3",
   "metadata": {},
   "outputs": [],
   "source": [
    "final_df = pd.concat(dfs)"
   ]
  },
  {
   "cell_type": "code",
   "execution_count": 21,
   "id": "9d67a0e1-03d7-4569-b9c4-c352dd845bd3",
   "metadata": {},
   "outputs": [],
   "source": [
    "final_df.to_parquet('aplicacion/datos_app/datos_consolidados_observaciones.parquet')"
   ]
  },
  {
   "cell_type": "code",
   "execution_count": 22,
   "id": "f23596eb-a461-4c7f-a05b-0a352e21e16e",
   "metadata": {},
   "outputs": [],
   "source": [
    "import geopandas as gpd\n",
    "import pandas as pd\n",
    "\n",
    "# Cargar el archivo CSV\n",
    "\n",
    "# Cargar el archivo .shp\n",
    "shapefile = gpd.read_file('spp/Magallanes.shp')\n",
    "shapefile = shapefile.to_crs('epsg:4326')\n"
   ]
  },
  {
   "cell_type": "code",
   "execution_count": 23,
   "id": "f898a681-1a25-4ebc-9284-1bb86d165ecc",
   "metadata": {},
   "outputs": [
    {
     "data": {
      "text/html": [
       "<div>\n",
       "<style scoped>\n",
       "    .dataframe tbody tr th:only-of-type {\n",
       "        vertical-align: middle;\n",
       "    }\n",
       "\n",
       "    .dataframe tbody tr th {\n",
       "        vertical-align: top;\n",
       "    }\n",
       "\n",
       "    .dataframe thead th {\n",
       "        text-align: right;\n",
       "    }\n",
       "</style>\n",
       "<table border=\"1\" class=\"dataframe\">\n",
       "  <thead>\n",
       "    <tr style=\"text-align: right;\">\n",
       "      <th></th>\n",
       "      <th>minx</th>\n",
       "      <th>miny</th>\n",
       "      <th>maxx</th>\n",
       "      <th>maxy</th>\n",
       "    </tr>\n",
       "  </thead>\n",
       "  <tbody>\n",
       "    <tr>\n",
       "      <th>0</th>\n",
       "      <td>-75.72192</td>\n",
       "      <td>-55.980002</td>\n",
       "      <td>-66.418214</td>\n",
       "      <td>-48.595635</td>\n",
       "    </tr>\n",
       "  </tbody>\n",
       "</table>\n",
       "</div>"
      ],
      "text/plain": [
       "       minx       miny       maxx       maxy\n",
       "0 -75.72192 -55.980002 -66.418214 -48.595635"
      ]
     },
     "execution_count": 23,
     "metadata": {},
     "output_type": "execute_result"
    }
   ],
   "source": [
    "shapefile.bounds"
   ]
  },
  {
   "cell_type": "code",
   "execution_count": 24,
   "id": "f04cc372-2a80-422a-8969-8685a80b80c1",
   "metadata": {},
   "outputs": [],
   "source": [
    "final_df = final_df.query('(decimalLatitude<=-48.595635) and (decimalLatitude>=-56)')\n",
    "df = final_df\n"
   ]
  },
  {
   "cell_type": "code",
   "execution_count": 25,
   "id": "8db51fed-e554-44d8-a0a6-772ada1b2465",
   "metadata": {},
   "outputs": [],
   "source": [
    "# Crear un GeoDataFrame a partir del DataFrame del CSV\n",
    "geometry = gpd.points_from_xy(df.decimalLongitude, df.decimalLatitude)\n",
    "gdf = gpd.GeoDataFrame(df, geometry=geometry)\n",
    "\n",
    "# Especificar el CRS del GeoDataFrame\n",
    "gdf.crs = {'init': 'epsg:4326'}  # Ejemplo de CRS para latitud y longitud en grados decimales\n",
    "\n",
    "# Reproyectar el shapefile al CRS del GeoDataFrame\n",
    "shapefile = shapefile.to_crs(gdf.crs)\n",
    "\n",
    "# Realizar la intersección espacial entre los datos del CSV y el archivo .shp\n",
    "interseccion = gpd.sjoin(gdf, shapefile, how='inner', op='intersects')\n",
    "\n",
    "# Obtener los índices de los registros filtrados\n",
    "indices_filtrados = interseccion.index\n",
    "\n",
    "# Filtrar la base de datos original\n",
    "nueva_base_datos = df.loc[indices_filtrados]"
   ]
  },
  {
   "cell_type": "code",
   "execution_count": 28,
   "id": "3dabde8c-9d52-4ea8-b767-d8ebdac6c86f",
   "metadata": {},
   "outputs": [],
   "source": [
    "# Guardar la nueva base de datos en un archivo CSV\n",
    "nueva_base_datos.reset_index(drop=True).drop(columns=['geometry', 'gbifID']).to_parquet('aplicacion/datos_app/datos_consolidados_observaciones.parquet')"
   ]
  },
  {
   "cell_type": "code",
   "execution_count": null,
   "id": "5e60eb48-be4a-4285-a39e-4bbf8201d5e0",
   "metadata": {},
   "outputs": [],
   "source": []
  },
  {
   "cell_type": "code",
   "execution_count": null,
   "id": "eb7aa00f-7ad1-4c2b-9b16-85aa593baa42",
   "metadata": {},
   "outputs": [],
   "source": []
  }
 ],
 "metadata": {
  "kernelspec": {
   "display_name": "biodiversidad",
   "language": "python",
   "name": "biodiversidad"
  },
  "language_info": {
   "codemirror_mode": {
    "name": "ipython",
    "version": 3
   },
   "file_extension": ".py",
   "mimetype": "text/x-python",
   "name": "python",
   "nbconvert_exporter": "python",
   "pygments_lexer": "ipython3",
   "version": "3.9.13"
  }
 },
 "nbformat": 4,
 "nbformat_minor": 5
}
